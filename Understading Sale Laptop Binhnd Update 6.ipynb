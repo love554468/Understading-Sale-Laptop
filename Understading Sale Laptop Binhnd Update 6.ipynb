{
 "cells": [
  {
   "cell_type": "markdown",
   "id": "333877f7",
   "metadata": {
    "id": "333877f7"
   },
   "source": [
    "<h2 align=\"center\">Xử lý và Phân tích Dữ liệu bán hàng Laptop</h2> "
   ]
  },
  {
   "cell_type": "markdown",
   "id": "eb67a24d",
   "metadata": {},
   "source": [
    "_Cập nhật sáng 9h25 ngày 02/02/2022_\n",
    "\n",
    "_Cập nhật tối 11h53 ngày 03/02/2022_\n",
    "\n",
    "_Cập nhật chiều 3h ngày 06/02/2022_\n",
    "\n",
    "_Cập nhật tối 8h47 PM ngày 12/02/2022_"
   ]
  },
  {
   "cell_type": "markdown",
   "id": "a6793632",
   "metadata": {
    "id": "a6793632"
   },
   "source": [
    "\n",
    "\n",
    "<!-- ![image-3.png](attachment:image-3.png){ width=100% } -->\n",
    "\n",
    "\n",
    "<img src=\"draw.png\" alt=\"draw\" width=100%/>\n",
    "\n",
    "\n"
   ]
  },
  {
   "cell_type": "markdown",
   "id": "8aceba7f",
   "metadata": {
    "id": "8aceba7f"
   },
   "source": [
    "++++++++++++++++++++++++++++++++++++++++++++++++++++++++++++++++++++++++++++++++++++++++++++++\n",
    "\n",
    "\n",
    "\n",
    "## Table of Contents\n",
    "\n",
    "*  [**A. Business Understanding and Problem Definition**](#A)\n",
    "    *  [1. Nhận xét](#A1)\n",
    "*  [**B. Data Understainding**](#B)\n",
    "    *  [1. Loading Data](#B1)\n",
    "    *  [2.General Information About Data](#B2)\n",
    "    *  [3.Ideal Clean](#B3)\n",
    "*  [**C. Handling data**](#C)\n",
    "    *  [1. Handle Missing Value](#C1)\n",
    "    *  [2. Merge Two Table](#C2)\n",
    "*  [**D. Modeling**](#D)\n",
    "    *  [1. Select And Prepair Feature And Target For Model](#D1)\n",
    "    *  [2. Training Model](#D2)\n",
    "*  [**E. Evaluating Models**](#E)\n",
    "<!--     *  [1. ](#C) -->\n",
    "*  [**F. Conclusion**](#F)\n",
    "<!--     *  [1. ](#C1)     -->\n",
    "\n",
    "    \n",
    "    .\n",
    "    \n",
    "    \n",
    "    \n",
    "    \n",
    "    \n",
    "    \n",
    "    \n",
    "    \n",
    "    .\n",
    "    ++++++++++++++++++++++++++++++++++++++++++++++++++++++++++++++++++++++++++++++++++++++++++++++++++++++++++"
   ]
  },
  {
   "cell_type": "markdown",
   "id": "2d9d8fc1",
   "metadata": {
    "id": "2d9d8fc1"
   },
   "source": [
    "### A. Business Understanding and Problem Definition <a class=\"anchor\" id=\"A\"></a>"
   ]
  },
  {
   "cell_type": "markdown",
   "id": "a451a292",
   "metadata": {
    "id": "a451a292"
   },
   "source": [
    "**Đây là một bộ dữ liệu được trích xuất từ một dự án thương mại điện tử chuyên mua bán các thiết bị điện tử gia dụng - Theo BTC**\n",
    "\n",
    "#### Problem:\n",
    "1. Mô tả các đặc trưng của khác hành mua máy tính\n",
    "2. Nhận xét về tình hình tiêu thụ máy tính và bán hàng của các cửa hàng\n",
    "3. Tư vấn cho người mua như thế nào để đạt hiệu quả bán hàng cao nhất?\n",
    "4. Dưới góc nhìn Data Scientist, bạn có thể tư vấn gì cho một sàn giao dịch điện tử về mảng máy tính\n",
    "\n",
    "#### Meta Data\n",
    "Mô tả về dữ liệu: Gồm 2 bảng CustomerProfile và Sale\n",
    "\n",
    "Tại bảng 2 chúng tôi có xử lý loại bỏ 4 quan sát mất thông tin ở trường CustomerID, sửa thông tin ngày sai lệch như: ngày 31/02, 30/02, năm 1990 -> 2020 nhờ logic thông thường.\n",
    "\n",
    "Bảng 1 CustomerProfile (1100 quan sát -1100 row):\n",
    "\n",
    "■ KH_ID:Mã khách hàng - sinh viên {Identify key}\n",
    "\n",
    "■ GioiTinh: Giới tính của sinh viên {Nominal}\n",
    "\n",
    "■ QueQuan: Quê quán của sinh viên {Nominal}\n",
    "\n",
    "■ NamHocThu: Năm học hiện tại của sinh viên {Internal}\n",
    "\n",
    "■ ChuyenNganh: Chuyên ngành học của sinh viên {Nominal}\n",
    "\n",
    "■ NgheNghiepGiaDinh: Nghề nghiệp gia đình {Nominal}\n",
    "\n",
    "■ ChiTieuHangThang: Số tiền chi tiêu hàng tháng của sinh viên {Internal}\n",
    "\n",
    "■ ThoiGianSuDung: Thời gian sử dụng laptop {Internal}\n",
    "\n",
    "■ MucDichSuDungLaptop: Các mục đích sử dụng laptop {String -> Có thể onehot}\n",
    "\n",
    "■ MucDoHaiLong: 1->5 Theo mức độ hài lòng tăng dần {Internal}\n",
    "\n",
    "■ Các yếu tố cân nhắc khi chọn mua laptop theo mức độ: {Internal}\n",
    "YeuToThuongHieuSP, YeuToCauHinh, YeuToTocDoXuLy, YeuToGia, YeuToThietKe, YeuToUyTinNhaBanle, YeuToBaoMat, YeuToBaoHanh, YeuToKhuyenMai\n",
    "\n",
    "1 – Rất không quan trọng\n",
    "2 – Không quan trọng\n",
    "3 – Bình thường\n",
    "4 – Quan trọng\n",
    "5 – Rất quan trọng\n",
    "\n",
    "\n",
    "Bảng 2 Sale(1567 quan sát):\n",
    "\n",
    "■ CustomerID: Kênh mua sắm {Identify key}\n",
    "\n",
    "■ OrderID: Mã giao dịch - thông tin chưa được cung cấp {Identify key}\n",
    "\n",
    "■ Channel: Kênh mua sắm {Nominal}\n",
    "\n",
    "■ PaymentType: Hình thức thanh toán {Nominal}\n",
    "\n",
    "■ Brand: Thương hiệu laptop {Nominal}\n",
    "\n",
    "■ Shop: Cửa hàng {Nominal}\n",
    "\n",
    "■ Pomotion: Khuyến mãi {Nominal}\n",
    "\n",
    "■ SalePrice: Khuyến mãi {Ratio}\n",
    "\n",
    "■ Reference: Kênh thông tin biết đến sản phẩm và cửa hàng{String -> Có thể Onehot}\n",
    "\n",
    "■ SaleDate: ngày bán hàng {datetime}"
   ]
  },
  {
   "cell_type": "markdown",
   "id": "b7ad4e3d",
   "metadata": {},
   "source": [
    "## 1.  Nhận xét:<a class=\"anchor\" id=\"A1\"></a>\n",
    "\n",
    "* tại bảng 1\n",
    "\n",
    "    - Chưa biết thông tin: MucDoHaiLong tại bảng 1 để làm gì, hài lòng sau khi sử dụng, thu thập như thế nào, gọi điện ?\n",
    "\n",
    "    - Các yếu tố cân nhắc khi chọn mua laptop => gợi ý mua máy, nhưng thông tin máy chưa rõ ràng\n",
    "Xem liên quan giá không?\n",
    "=> từ thông tin này gợi ý được giá không\n",
    "\n",
    "Nhìn chung dữ liệu tại bảng 1: là nomial, category muốn sử dụng cần embeding, onehot encoding\n",
    "\n",
    "Trường quan trọng: ChiTieuHangThang, ThoiGianSuDung, MucDichSuDungLaptop\n",
    "* tại bảng 2:\n",
    "SalePrice: có thể phân cụm khánh hàng, theo chi tiêu cũng có thể phân cụm khách hàng\n",
    "\n",
    "Nhìn chung dữ liệu tại bảng 2: là nominal, có saledate để phân tích theo timeseries\n"
   ]
  },
  {
   "cell_type": "markdown",
   "id": "05c857ae",
   "metadata": {
    "id": "05c857ae"
   },
   "source": [
    "## B. Data Understainding <a class=\"anchor\" id=\"B\"></a>"
   ]
  },
  {
   "cell_type": "markdown",
   "id": "b36cec58",
   "metadata": {
    "id": "b36cec58"
   },
   "source": [
    "## 1. Loading Data <a class=\"anchor\" id=\"B1\"></a>"
   ]
  },
  {
   "cell_type": "code",
   "execution_count": 173,
   "id": "3c918321",
   "metadata": {
    "id": "3c918321"
   },
   "outputs": [],
   "source": [
    "#Importing the required libraries\n",
    "import pandas as pd\n",
    "import matplotlib.pyplot as plt\n",
    "%matplotlib inline"
   ]
  },
  {
   "cell_type": "code",
   "execution_count": 174,
   "id": "cdc57a0a",
   "metadata": {
    "colab": {
     "base_uri": "https://localhost:8080/",
     "height": 426
    },
    "id": "cdc57a0a",
    "outputId": "ab5c9d91-f886-4e2f-da7d-fcb6dcd41c4f"
   },
   "outputs": [
    {
     "data": {
      "text/html": [
       "<div>\n",
       "<style scoped>\n",
       "    .dataframe tbody tr th:only-of-type {\n",
       "        vertical-align: middle;\n",
       "    }\n",
       "\n",
       "    .dataframe tbody tr th {\n",
       "        vertical-align: top;\n",
       "    }\n",
       "\n",
       "    .dataframe thead th {\n",
       "        text-align: right;\n",
       "    }\n",
       "</style>\n",
       "<table border=\"1\" class=\"dataframe\">\n",
       "  <thead>\n",
       "    <tr style=\"text-align: right;\">\n",
       "      <th></th>\n",
       "      <th>KH_ID</th>\n",
       "      <th>GioiTinh</th>\n",
       "      <th>QueQuan</th>\n",
       "      <th>NamHocThu</th>\n",
       "      <th>ChuyenNganh</th>\n",
       "      <th>NgheNghiepGiaDinh</th>\n",
       "      <th>ChiTieuHangThang</th>\n",
       "      <th>ThoiGianSuDung</th>\n",
       "      <th>MucDichSuDungLaptop</th>\n",
       "      <th>MucDoHaiLong</th>\n",
       "      <th>YeuToThuongHieuSP</th>\n",
       "      <th>YeuToCauHinh</th>\n",
       "      <th>YeuToTocDoXuLy</th>\n",
       "      <th>YeuToGia</th>\n",
       "      <th>YeuToThietKe</th>\n",
       "      <th>YeuToUyTinNhaBanle</th>\n",
       "      <th>YeuToBaoMat</th>\n",
       "      <th>YeuToBaoHanh</th>\n",
       "      <th>YeuToKhuyenMai</th>\n",
       "    </tr>\n",
       "  </thead>\n",
       "  <tbody>\n",
       "    <tr>\n",
       "      <th>0</th>\n",
       "      <td>CTM10164</td>\n",
       "      <td>Nam</td>\n",
       "      <td>Quảng Trị</td>\n",
       "      <td>Năm 2</td>\n",
       "      <td>Luật kinh tế</td>\n",
       "      <td>Nông dân</td>\n",
       "      <td>Từ 1.500.000 đến 3.000.000</td>\n",
       "      <td>Từ 6 tháng - 1 năm</td>\n",
       "      <td>Học tập, Làm việc, Chơi game, Giải trí (xem ph...</td>\n",
       "      <td>5</td>\n",
       "      <td>3</td>\n",
       "      <td>3</td>\n",
       "      <td>3</td>\n",
       "      <td>3</td>\n",
       "      <td>3</td>\n",
       "      <td>3</td>\n",
       "      <td>3</td>\n",
       "      <td>3</td>\n",
       "      <td>3</td>\n",
       "    </tr>\n",
       "    <tr>\n",
       "      <th>1</th>\n",
       "      <td>CTM10246</td>\n",
       "      <td>Nam</td>\n",
       "      <td>Đà Nẵng</td>\n",
       "      <td>Năm 4</td>\n",
       "      <td>Hệ thống thông tin quản lý</td>\n",
       "      <td>Kinh doanh tự do</td>\n",
       "      <td>Từ 3.000.000 đến 5.000.000</td>\n",
       "      <td>Trên 2 năm</td>\n",
       "      <td>Học tập, Làm việc, Chơi game</td>\n",
       "      <td>4</td>\n",
       "      <td>4</td>\n",
       "      <td>5</td>\n",
       "      <td>5</td>\n",
       "      <td>4</td>\n",
       "      <td>3</td>\n",
       "      <td>4</td>\n",
       "      <td>1</td>\n",
       "      <td>5</td>\n",
       "      <td>5</td>\n",
       "    </tr>\n",
       "    <tr>\n",
       "      <th>2</th>\n",
       "      <td>CTM1028</td>\n",
       "      <td>Nữ</td>\n",
       "      <td>Nghệ An</td>\n",
       "      <td>Năm 3</td>\n",
       "      <td>Thương mại điện tử</td>\n",
       "      <td>Nông dân</td>\n",
       "      <td>Từ 1.500.000 đến 3.000.000</td>\n",
       "      <td>Trên 2 năm</td>\n",
       "      <td>Học tập, Làm việc</td>\n",
       "      <td>4</td>\n",
       "      <td>4</td>\n",
       "      <td>3</td>\n",
       "      <td>4</td>\n",
       "      <td>4</td>\n",
       "      <td>3</td>\n",
       "      <td>4</td>\n",
       "      <td>2</td>\n",
       "      <td>4</td>\n",
       "      <td>4</td>\n",
       "    </tr>\n",
       "    <tr>\n",
       "      <th>3</th>\n",
       "      <td>CTM10516</td>\n",
       "      <td>Nam</td>\n",
       "      <td>Gia Lai</td>\n",
       "      <td>Năm 2</td>\n",
       "      <td>Thương mại</td>\n",
       "      <td>Nông dân</td>\n",
       "      <td>Từ 1.500.000 đến 3.000.000</td>\n",
       "      <td>Từ 1 năm đến 2 năm</td>\n",
       "      <td>Học tập, Làm việc, Giải trí (xem phim, nghe nh...</td>\n",
       "      <td>4</td>\n",
       "      <td>3</td>\n",
       "      <td>4</td>\n",
       "      <td>4</td>\n",
       "      <td>3</td>\n",
       "      <td>2</td>\n",
       "      <td>3</td>\n",
       "      <td>3</td>\n",
       "      <td>4</td>\n",
       "      <td>2</td>\n",
       "    </tr>\n",
       "    <tr>\n",
       "      <th>4</th>\n",
       "      <td>CTM10573</td>\n",
       "      <td>Nam</td>\n",
       "      <td>Thừa Thiên Huế</td>\n",
       "      <td>Năm 4</td>\n",
       "      <td>Tài chính doanh nghiệp</td>\n",
       "      <td>Nông dân</td>\n",
       "      <td>Từ 1.500.000 đến 3.000.000</td>\n",
       "      <td>Trên 2 năm</td>\n",
       "      <td>Học tập, Làm việc</td>\n",
       "      <td>3</td>\n",
       "      <td>3</td>\n",
       "      <td>4</td>\n",
       "      <td>3</td>\n",
       "      <td>4</td>\n",
       "      <td>1</td>\n",
       "      <td>4</td>\n",
       "      <td>1</td>\n",
       "      <td>3</td>\n",
       "      <td>4</td>\n",
       "    </tr>\n",
       "  </tbody>\n",
       "</table>\n",
       "</div>"
      ],
      "text/plain": [
       "      KH_ID GioiTinh         QueQuan NamHocThu                 ChuyenNganh  \\\n",
       "0  CTM10164      Nam       Quảng Trị     Năm 2                Luật kinh tế   \n",
       "1  CTM10246      Nam         Đà Nẵng     Năm 4  Hệ thống thông tin quản lý   \n",
       "2   CTM1028       Nữ         Nghệ An     Năm 3          Thương mại điện tử   \n",
       "3  CTM10516      Nam         Gia Lai     Năm 2                  Thương mại   \n",
       "4  CTM10573      Nam  Thừa Thiên Huế     Năm 4      Tài chính doanh nghiệp   \n",
       "\n",
       "  NgheNghiepGiaDinh            ChiTieuHangThang      ThoiGianSuDung  \\\n",
       "0          Nông dân  Từ 1.500.000 đến 3.000.000  Từ 6 tháng - 1 năm   \n",
       "1  Kinh doanh tự do  Từ 3.000.000 đến 5.000.000          Trên 2 năm   \n",
       "2          Nông dân  Từ 1.500.000 đến 3.000.000          Trên 2 năm   \n",
       "3          Nông dân  Từ 1.500.000 đến 3.000.000  Từ 1 năm đến 2 năm   \n",
       "4          Nông dân  Từ 1.500.000 đến 3.000.000          Trên 2 năm   \n",
       "\n",
       "                                 MucDichSuDungLaptop  MucDoHaiLong  \\\n",
       "0  Học tập, Làm việc, Chơi game, Giải trí (xem ph...             5   \n",
       "1                       Học tập, Làm việc, Chơi game             4   \n",
       "2                                  Học tập, Làm việc             4   \n",
       "3  Học tập, Làm việc, Giải trí (xem phim, nghe nh...             4   \n",
       "4                                  Học tập, Làm việc             3   \n",
       "\n",
       "   YeuToThuongHieuSP  YeuToCauHinh  YeuToTocDoXuLy  YeuToGia  YeuToThietKe  \\\n",
       "0                  3             3               3         3             3   \n",
       "1                  4             5               5         4             3   \n",
       "2                  4             3               4         4             3   \n",
       "3                  3             4               4         3             2   \n",
       "4                  3             4               3         4             1   \n",
       "\n",
       "   YeuToUyTinNhaBanle  YeuToBaoMat  YeuToBaoHanh  YeuToKhuyenMai  \n",
       "0                   3            3             3               3  \n",
       "1                   4            1             5               5  \n",
       "2                   4            2             4               4  \n",
       "3                   3            3             4               2  \n",
       "4                   4            1             3               4  "
      ]
     },
     "execution_count": 174,
     "metadata": {},
     "output_type": "execute_result"
    }
   ],
   "source": [
    "# Data in table CustomerProfile\n",
    "df_CustomerProfile = pd.read_excel(\"DataSet.xlsx\", sheet_name=1)\n",
    "df_CustomerProfile.head(5)"
   ]
  },
  {
   "cell_type": "code",
   "execution_count": 175,
   "id": "87bd7f24",
   "metadata": {
    "colab": {
     "base_uri": "https://localhost:8080/",
     "height": 459
    },
    "id": "87bd7f24",
    "outputId": "8b2229ca-fc15-454f-dcee-8af6a3d47c6e"
   },
   "outputs": [
    {
     "data": {
      "text/html": [
       "<div>\n",
       "<style scoped>\n",
       "    .dataframe tbody tr th:only-of-type {\n",
       "        vertical-align: middle;\n",
       "    }\n",
       "\n",
       "    .dataframe tbody tr th {\n",
       "        vertical-align: top;\n",
       "    }\n",
       "\n",
       "    .dataframe thead th {\n",
       "        text-align: right;\n",
       "    }\n",
       "</style>\n",
       "<table border=\"1\" class=\"dataframe\">\n",
       "  <thead>\n",
       "    <tr style=\"text-align: right;\">\n",
       "      <th></th>\n",
       "      <th>CustomerID</th>\n",
       "      <th>OrderID</th>\n",
       "      <th>Channel</th>\n",
       "      <th>PaymentType</th>\n",
       "      <th>Brand</th>\n",
       "      <th>Shop</th>\n",
       "      <th>Promotion</th>\n",
       "      <th>SalePrice</th>\n",
       "      <th>SaleDate</th>\n",
       "      <th>Reference</th>\n",
       "    </tr>\n",
       "  </thead>\n",
       "  <tbody>\n",
       "    <tr>\n",
       "      <th>0</th>\n",
       "      <td>CTM012</td>\n",
       "      <td>OTS015</td>\n",
       "      <td>Online</td>\n",
       "      <td>Thẻ</td>\n",
       "      <td>LenovoX1</td>\n",
       "      <td>Phong Vũ</td>\n",
       "      <td>Không</td>\n",
       "      <td>27000000.0</td>\n",
       "      <td>2020-04-23 00:00:00</td>\n",
       "      <td>NaN</td>\n",
       "    </tr>\n",
       "    <tr>\n",
       "      <th>1</th>\n",
       "      <td>CTM10164</td>\n",
       "      <td>OTS831</td>\n",
       "      <td>Offline</td>\n",
       "      <td>Tiền mặt</td>\n",
       "      <td>Apple</td>\n",
       "      <td>Viettel Store</td>\n",
       "      <td>Không</td>\n",
       "      <td>3020000.0</td>\n",
       "      <td>2020-08-03 00:00:00</td>\n",
       "      <td>Nhân viên cửa hàng bán Laptop</td>\n",
       "    </tr>\n",
       "    <tr>\n",
       "      <th>2</th>\n",
       "      <td>CTM10246</td>\n",
       "      <td>OTS293</td>\n",
       "      <td>Offline</td>\n",
       "      <td>Tiền mặt</td>\n",
       "      <td>Dell</td>\n",
       "      <td>FPT Shop</td>\n",
       "      <td>Có</td>\n",
       "      <td>18310000.0</td>\n",
       "      <td>2020-10-09 00:00:00</td>\n",
       "      <td>Nhân viên cửa hàng bán Laptop, Mạng xã hội, We...</td>\n",
       "    </tr>\n",
       "    <tr>\n",
       "      <th>3</th>\n",
       "      <td>CTM1028</td>\n",
       "      <td>OTS34756</td>\n",
       "      <td>Offline</td>\n",
       "      <td>Tiền mặt</td>\n",
       "      <td>MSI</td>\n",
       "      <td>Phong Vũ</td>\n",
       "      <td>Không</td>\n",
       "      <td>12203000.0</td>\n",
       "      <td>2020-05-24 00:00:00</td>\n",
       "      <td>Thông qua người thân, bạn bè, Nhân viên cửa hà...</td>\n",
       "    </tr>\n",
       "    <tr>\n",
       "      <th>4</th>\n",
       "      <td>CTM1028</td>\n",
       "      <td>OTS1044</td>\n",
       "      <td>Offline</td>\n",
       "      <td>Tiền mặt</td>\n",
       "      <td>Asus</td>\n",
       "      <td>Thế giới di động</td>\n",
       "      <td>Có</td>\n",
       "      <td>13070000.0</td>\n",
       "      <td>2020-10-08 00:00:00</td>\n",
       "      <td>Nhờ người có chuyên môn tư vấn</td>\n",
       "    </tr>\n",
       "  </tbody>\n",
       "</table>\n",
       "</div>"
      ],
      "text/plain": [
       "  CustomerID   OrderID  Channel PaymentType     Brand              Shop  \\\n",
       "0     CTM012    OTS015   Online         Thẻ  LenovoX1          Phong Vũ   \n",
       "1   CTM10164    OTS831  Offline    Tiền mặt     Apple     Viettel Store   \n",
       "2   CTM10246    OTS293  Offline    Tiền mặt      Dell          FPT Shop   \n",
       "3    CTM1028  OTS34756  Offline    Tiền mặt       MSI          Phong Vũ   \n",
       "4    CTM1028   OTS1044  Offline    Tiền mặt      Asus  Thế giới di động   \n",
       "\n",
       "  Promotion   SalePrice             SaleDate  \\\n",
       "0     Không  27000000.0  2020-04-23 00:00:00   \n",
       "1     Không   3020000.0  2020-08-03 00:00:00   \n",
       "2        Có  18310000.0  2020-10-09 00:00:00   \n",
       "3     Không  12203000.0  2020-05-24 00:00:00   \n",
       "4        Có  13070000.0  2020-10-08 00:00:00   \n",
       "\n",
       "                                           Reference  \n",
       "0                                                NaN  \n",
       "1                      Nhân viên cửa hàng bán Laptop  \n",
       "2  Nhân viên cửa hàng bán Laptop, Mạng xã hội, We...  \n",
       "3  Thông qua người thân, bạn bè, Nhân viên cửa hà...  \n",
       "4                     Nhờ người có chuyên môn tư vấn  "
      ]
     },
     "execution_count": 175,
     "metadata": {},
     "output_type": "execute_result"
    }
   ],
   "source": [
    "# Data in table Sale\n",
    "df_Sale = pd.read_excel(\"DataSet.xlsx\", sheet_name=2)\n",
    "df_Sale.head(5)"
   ]
  },
  {
   "cell_type": "code",
   "execution_count": 176,
   "id": "bda5b6a7",
   "metadata": {
    "id": "bda5b6a7"
   },
   "outputs": [],
   "source": [
    "# chuyển nó về df1, và df2 tương ứng 2 bảng profile khách hàng và bán hàng\n",
    "# convert df1, df2 follow customerprofile and sale table\n",
    "df1 = df_CustomerProfile\n",
    "df2 = df_Sale"
   ]
  },
  {
   "cell_type": "markdown",
   "id": "e2b2ab73",
   "metadata": {
    "id": "e2b2ab73"
   },
   "source": [
    "\n",
    "## 2.General information about data <a class=\"anchor\" id=\"B2\"></a>"
   ]
  },
  {
   "cell_type": "markdown",
   "id": "0c9dbc28",
   "metadata": {
    "id": "0c9dbc28"
   },
   "source": [
    "### Quan sát bảng 1 - customer profile"
   ]
  },
  {
   "cell_type": "code",
   "execution_count": 177,
   "id": "5f9af8bc",
   "metadata": {
    "colab": {
     "base_uri": "https://localhost:8080/",
     "height": 364
    },
    "id": "5f9af8bc",
    "outputId": "a6fa96b9-8b9f-498f-83ca-21d0085a502c"
   },
   "outputs": [
    {
     "data": {
      "text/html": [
       "<div>\n",
       "<style scoped>\n",
       "    .dataframe tbody tr th:only-of-type {\n",
       "        vertical-align: middle;\n",
       "    }\n",
       "\n",
       "    .dataframe tbody tr th {\n",
       "        vertical-align: top;\n",
       "    }\n",
       "\n",
       "    .dataframe thead th {\n",
       "        text-align: right;\n",
       "    }\n",
       "</style>\n",
       "<table border=\"1\" class=\"dataframe\">\n",
       "  <thead>\n",
       "    <tr style=\"text-align: right;\">\n",
       "      <th></th>\n",
       "      <th>MucDoHaiLong</th>\n",
       "      <th>YeuToThuongHieuSP</th>\n",
       "      <th>YeuToCauHinh</th>\n",
       "      <th>YeuToTocDoXuLy</th>\n",
       "      <th>YeuToGia</th>\n",
       "      <th>YeuToThietKe</th>\n",
       "      <th>YeuToUyTinNhaBanle</th>\n",
       "      <th>YeuToBaoMat</th>\n",
       "      <th>YeuToBaoHanh</th>\n",
       "      <th>YeuToKhuyenMai</th>\n",
       "    </tr>\n",
       "  </thead>\n",
       "  <tbody>\n",
       "    <tr>\n",
       "      <th>count</th>\n",
       "      <td>1100.000000</td>\n",
       "      <td>1100.000000</td>\n",
       "      <td>1100.000000</td>\n",
       "      <td>1100.000000</td>\n",
       "      <td>1100.000000</td>\n",
       "      <td>1100.000000</td>\n",
       "      <td>1100.000000</td>\n",
       "      <td>1100.000000</td>\n",
       "      <td>1100.000000</td>\n",
       "      <td>1100.000000</td>\n",
       "    </tr>\n",
       "    <tr>\n",
       "      <th>mean</th>\n",
       "      <td>3.818182</td>\n",
       "      <td>3.580909</td>\n",
       "      <td>3.484545</td>\n",
       "      <td>3.752727</td>\n",
       "      <td>3.867273</td>\n",
       "      <td>3.345455</td>\n",
       "      <td>3.591818</td>\n",
       "      <td>3.012727</td>\n",
       "      <td>3.882727</td>\n",
       "      <td>3.835455</td>\n",
       "    </tr>\n",
       "    <tr>\n",
       "      <th>std</th>\n",
       "      <td>0.849791</td>\n",
       "      <td>0.945176</td>\n",
       "      <td>1.021488</td>\n",
       "      <td>0.879833</td>\n",
       "      <td>0.795015</td>\n",
       "      <td>1.068503</td>\n",
       "      <td>0.961368</td>\n",
       "      <td>1.054399</td>\n",
       "      <td>0.824926</td>\n",
       "      <td>0.893418</td>\n",
       "    </tr>\n",
       "    <tr>\n",
       "      <th>min</th>\n",
       "      <td>1.000000</td>\n",
       "      <td>1.000000</td>\n",
       "      <td>1.000000</td>\n",
       "      <td>1.000000</td>\n",
       "      <td>1.000000</td>\n",
       "      <td>1.000000</td>\n",
       "      <td>1.000000</td>\n",
       "      <td>1.000000</td>\n",
       "      <td>1.000000</td>\n",
       "      <td>1.000000</td>\n",
       "    </tr>\n",
       "    <tr>\n",
       "      <th>25%</th>\n",
       "      <td>3.000000</td>\n",
       "      <td>3.000000</td>\n",
       "      <td>3.000000</td>\n",
       "      <td>3.000000</td>\n",
       "      <td>3.000000</td>\n",
       "      <td>2.000000</td>\n",
       "      <td>3.000000</td>\n",
       "      <td>2.000000</td>\n",
       "      <td>3.000000</td>\n",
       "      <td>3.000000</td>\n",
       "    </tr>\n",
       "    <tr>\n",
       "      <th>50%</th>\n",
       "      <td>4.000000</td>\n",
       "      <td>4.000000</td>\n",
       "      <td>3.000000</td>\n",
       "      <td>4.000000</td>\n",
       "      <td>4.000000</td>\n",
       "      <td>3.000000</td>\n",
       "      <td>4.000000</td>\n",
       "      <td>3.000000</td>\n",
       "      <td>4.000000</td>\n",
       "      <td>4.000000</td>\n",
       "    </tr>\n",
       "    <tr>\n",
       "      <th>75%</th>\n",
       "      <td>4.000000</td>\n",
       "      <td>4.000000</td>\n",
       "      <td>4.000000</td>\n",
       "      <td>4.000000</td>\n",
       "      <td>4.000000</td>\n",
       "      <td>4.000000</td>\n",
       "      <td>4.000000</td>\n",
       "      <td>4.000000</td>\n",
       "      <td>4.000000</td>\n",
       "      <td>4.000000</td>\n",
       "    </tr>\n",
       "    <tr>\n",
       "      <th>max</th>\n",
       "      <td>5.000000</td>\n",
       "      <td>5.000000</td>\n",
       "      <td>5.000000</td>\n",
       "      <td>5.000000</td>\n",
       "      <td>5.000000</td>\n",
       "      <td>5.000000</td>\n",
       "      <td>5.000000</td>\n",
       "      <td>5.000000</td>\n",
       "      <td>5.000000</td>\n",
       "      <td>5.000000</td>\n",
       "    </tr>\n",
       "  </tbody>\n",
       "</table>\n",
       "</div>"
      ],
      "text/plain": [
       "       MucDoHaiLong  YeuToThuongHieuSP  YeuToCauHinh  YeuToTocDoXuLy  \\\n",
       "count   1100.000000        1100.000000   1100.000000     1100.000000   \n",
       "mean       3.818182           3.580909      3.484545        3.752727   \n",
       "std        0.849791           0.945176      1.021488        0.879833   \n",
       "min        1.000000           1.000000      1.000000        1.000000   \n",
       "25%        3.000000           3.000000      3.000000        3.000000   \n",
       "50%        4.000000           4.000000      3.000000        4.000000   \n",
       "75%        4.000000           4.000000      4.000000        4.000000   \n",
       "max        5.000000           5.000000      5.000000        5.000000   \n",
       "\n",
       "          YeuToGia  YeuToThietKe  YeuToUyTinNhaBanle  YeuToBaoMat  \\\n",
       "count  1100.000000   1100.000000         1100.000000  1100.000000   \n",
       "mean      3.867273      3.345455            3.591818     3.012727   \n",
       "std       0.795015      1.068503            0.961368     1.054399   \n",
       "min       1.000000      1.000000            1.000000     1.000000   \n",
       "25%       3.000000      2.000000            3.000000     2.000000   \n",
       "50%       4.000000      3.000000            4.000000     3.000000   \n",
       "75%       4.000000      4.000000            4.000000     4.000000   \n",
       "max       5.000000      5.000000            5.000000     5.000000   \n",
       "\n",
       "       YeuToBaoHanh  YeuToKhuyenMai  \n",
       "count   1100.000000     1100.000000  \n",
       "mean       3.882727        3.835455  \n",
       "std        0.824926        0.893418  \n",
       "min        1.000000        1.000000  \n",
       "25%        3.000000        3.000000  \n",
       "50%        4.000000        4.000000  \n",
       "75%        4.000000        4.000000  \n",
       "max        5.000000        5.000000  "
      ]
     },
     "execution_count": 177,
     "metadata": {},
     "output_type": "execute_result"
    }
   ],
   "source": [
    "# xem xét phân phối dữ liệu số, các trường mức độ hài lòng, yếu tố thương hiệu, \n",
    "#yếu tố cấu hình, yếu tố thiết kế, yếu tố uy tín nha bán lẻ, yếu tố bảo mật, yếu tố bảo hành, yếu tố khuyến mại\n",
    "df1.describe()"
   ]
  },
  {
   "cell_type": "code",
   "execution_count": 178,
   "id": "b3b81b42",
   "metadata": {},
   "outputs": [
    {
     "name": "stderr",
     "output_type": "stream",
     "text": [
      "<ipython-input-178-93a72a4fc8af>:1: FutureWarning: Dropping of nuisance columns in DataFrame reductions (with 'numeric_only=None') is deprecated; in a future version this will raise TypeError.  Select only valid columns before calling the reduction.\n",
      "  sorted(round(df1.mean(),2))\n"
     ]
    },
    {
     "data": {
      "text/plain": [
       "[3.01, 3.35, 3.48, 3.58, 3.59, 3.75, 3.82, 3.84, 3.87, 3.88]"
      ]
     },
     "execution_count": 178,
     "metadata": {},
     "output_type": "execute_result"
    }
   ],
   "source": [
    "sorted(round(df1.mean(),2))"
   ]
  },
  {
   "cell_type": "markdown",
   "id": "5214f860",
   "metadata": {},
   "source": [
    "========================================\n",
    "\n",
    "**Tầm quan trọng các yếu tố:**\n",
    "\n",
    "Ta lấy độ trung bình đại diện cho tầm quan trọng của 1 yếu tố\n",
    "\n",
    "Phân ra 3 loại: theo độ trung bình\n",
    "\n",
    "+ Loại 1: từ 3.01 -3.5\n",
    "\n",
    "+ Loại 2: từ 3.5 - 3.8\n",
    "+ Loại 3: từ 3.8 -3.9\n",
    "\n",
    "Yếu tố loại 1 ở mức 3. ->3.5 với mức độ quan trọng bình thường -> Gần quan trọng ta không quan tâm\n",
    "\n",
    "Các yếu tố quan trọng: 3.8 ->3.9 với mức độ Quan Trọng là quan trọng\n",
    "là Yếu tố giá, Yếu tố bảo hành, Yếu tố khuyến mãi\n",
    "\n",
    "=> Tập trung để nhập hàng quan tâm đến giá cũng như gia tăng chương trình bảo hành khuyến mãi để thu hút khách hàng.\n",
    "\n",
    "**Kết luận: Giá cả sẽ là thuộc tính Focus**\n",
    "\n",
    "========================================="
   ]
  },
  {
   "cell_type": "code",
   "execution_count": 179,
   "id": "ba732484",
   "metadata": {
    "id": "ba732484"
   },
   "outputs": [],
   "source": [
    "# Xem xét dữ liệu bị null, hoặc missing\n",
    "import seaborn as sns\n",
    "sns.set(style=\"whitegrid\")\n",
    "# plt.style.use('white')\n",
    "plt.rcParams.update({\"grid.linewidth\":0.5, \"grid.alpha\":0.5})\n",
    "colormap = sns.diverging_palette(220, 10, as_cmap=True)"
   ]
  },
  {
   "cell_type": "code",
   "execution_count": 180,
   "id": "12200834",
   "metadata": {
    "colab": {
     "base_uri": "https://localhost:8080/",
     "height": 403
    },
    "id": "12200834",
    "outputId": "facc35d8-31c2-4967-f27a-7bc575837d36"
   },
   "outputs": [
    {
     "data": {
      "text/plain": [
       "<AxesSubplot:>"
      ]
     },
     "execution_count": 180,
     "metadata": {},
     "output_type": "execute_result"
    },
    {
     "data": {
      "image/png": "[encoded data removed]",
      "text/plain": [
       "<Figure size 432x288 with 1 Axes>"
      ]
     },
     "metadata": {},
     "output_type": "display_data"
    }
   ],
   "source": [
    "sns.heatmap(df1.isnull(),cbar=False,yticklabels=False,cmap = 'viridis')"
   ]
  },
  {
   "cell_type": "markdown",
   "id": "3680bf9d",
   "metadata": {
    "id": "3680bf9d"
   },
   "source": [
    "Không có dữ liệu bị mất mát"
   ]
  },
  {
   "cell_type": "code",
   "execution_count": 181,
   "id": "96a2e987",
   "metadata": {
    "colab": {
     "base_uri": "https://localhost:8080/"
    },
    "id": "96a2e987",
    "outputId": "fa9683d4-f9b0-4b31-b0fa-a5affcb0e335"
   },
   "outputs": [
    {
     "data": {
      "text/plain": [
       "19"
      ]
     },
     "execution_count": 181,
     "metadata": {},
     "output_type": "execute_result"
    }
   ],
   "source": [
    "# Số trường thông tin: bảng này:\n",
    "len(list(df1.columns))"
   ]
  },
  {
   "cell_type": "code",
   "execution_count": 182,
   "id": "977eb817",
   "metadata": {
    "colab": {
     "base_uri": "https://localhost:8080/"
    },
    "id": "977eb817",
    "outputId": "9ff27240-ef27-4d1f-80ed-65f305fcc928"
   },
   "outputs": [
    {
     "data": {
      "text/plain": [
       "['KH_ID',\n",
       " 'GioiTinh',\n",
       " 'QueQuan',\n",
       " 'NamHocThu',\n",
       " 'ChuyenNganh',\n",
       " 'NgheNghiepGiaDinh',\n",
       " 'ChiTieuHangThang',\n",
       " 'ThoiGianSuDung',\n",
       " 'MucDichSuDungLaptop',\n",
       " 'MucDoHaiLong',\n",
       " 'YeuToThuongHieuSP',\n",
       " 'YeuToCauHinh',\n",
       " 'YeuToTocDoXuLy',\n",
       " 'YeuToGia',\n",
       " 'YeuToThietKe',\n",
       " 'YeuToUyTinNhaBanle',\n",
       " 'YeuToBaoMat',\n",
       " 'YeuToBaoHanh',\n",
       " 'YeuToKhuyenMai']"
      ]
     },
     "execution_count": 182,
     "metadata": {},
     "output_type": "execute_result"
    }
   ],
   "source": [
    "list(df1.columns)"
   ]
  },
  {
   "cell_type": "code",
   "execution_count": 183,
   "id": "Md6EHNdXozoa",
   "metadata": {
    "id": "Md6EHNdXozoa"
   },
   "outputs": [
    {
     "data": {
      "text/html": [
       "<div>\n",
       "<style scoped>\n",
       "    .dataframe tbody tr th:only-of-type {\n",
       "        vertical-align: middle;\n",
       "    }\n",
       "\n",
       "    .dataframe tbody tr th {\n",
       "        vertical-align: top;\n",
       "    }\n",
       "\n",
       "    .dataframe thead th {\n",
       "        text-align: right;\n",
       "    }\n",
       "</style>\n",
       "<table border=\"1\" class=\"dataframe\">\n",
       "  <thead>\n",
       "    <tr style=\"text-align: right;\">\n",
       "      <th></th>\n",
       "      <th>KH_ID</th>\n",
       "      <th>GioiTinh</th>\n",
       "      <th>QueQuan</th>\n",
       "      <th>NamHocThu</th>\n",
       "      <th>ChuyenNganh</th>\n",
       "      <th>NgheNghiepGiaDinh</th>\n",
       "      <th>ChiTieuHangThang</th>\n",
       "      <th>ThoiGianSuDung</th>\n",
       "      <th>MucDichSuDungLaptop</th>\n",
       "      <th>MucDoHaiLong</th>\n",
       "      <th>YeuToThuongHieuSP</th>\n",
       "      <th>YeuToCauHinh</th>\n",
       "      <th>YeuToTocDoXuLy</th>\n",
       "      <th>YeuToGia</th>\n",
       "      <th>YeuToThietKe</th>\n",
       "      <th>YeuToUyTinNhaBanle</th>\n",
       "      <th>YeuToBaoMat</th>\n",
       "      <th>YeuToBaoHanh</th>\n",
       "      <th>YeuToKhuyenMai</th>\n",
       "    </tr>\n",
       "  </thead>\n",
       "  <tbody>\n",
       "    <tr>\n",
       "      <th>0</th>\n",
       "      <td>CTM10164</td>\n",
       "      <td>Nam</td>\n",
       "      <td>Quảng Trị</td>\n",
       "      <td>Năm 2</td>\n",
       "      <td>Luật kinh tế</td>\n",
       "      <td>Nông dân</td>\n",
       "      <td>Từ 1.500.000 đến 3.000.000</td>\n",
       "      <td>Từ 6 tháng - 1 năm</td>\n",
       "      <td>Học tập, Làm việc, Chơi game, Giải trí (xem ph...</td>\n",
       "      <td>5</td>\n",
       "      <td>3</td>\n",
       "      <td>3</td>\n",
       "      <td>3</td>\n",
       "      <td>3</td>\n",
       "      <td>3</td>\n",
       "      <td>3</td>\n",
       "      <td>3</td>\n",
       "      <td>3</td>\n",
       "      <td>3</td>\n",
       "    </tr>\n",
       "    <tr>\n",
       "      <th>1</th>\n",
       "      <td>CTM10246</td>\n",
       "      <td>Nam</td>\n",
       "      <td>Đà Nẵng</td>\n",
       "      <td>Năm 4</td>\n",
       "      <td>Hệ thống thông tin quản lý</td>\n",
       "      <td>Kinh doanh tự do</td>\n",
       "      <td>Từ 3.000.000 đến 5.000.000</td>\n",
       "      <td>Trên 2 năm</td>\n",
       "      <td>Học tập, Làm việc, Chơi game</td>\n",
       "      <td>4</td>\n",
       "      <td>4</td>\n",
       "      <td>5</td>\n",
       "      <td>5</td>\n",
       "      <td>4</td>\n",
       "      <td>3</td>\n",
       "      <td>4</td>\n",
       "      <td>1</td>\n",
       "      <td>5</td>\n",
       "      <td>5</td>\n",
       "    </tr>\n",
       "    <tr>\n",
       "      <th>2</th>\n",
       "      <td>CTM1028</td>\n",
       "      <td>Nữ</td>\n",
       "      <td>Nghệ An</td>\n",
       "      <td>Năm 3</td>\n",
       "      <td>Thương mại điện tử</td>\n",
       "      <td>Nông dân</td>\n",
       "      <td>Từ 1.500.000 đến 3.000.000</td>\n",
       "      <td>Trên 2 năm</td>\n",
       "      <td>Học tập, Làm việc</td>\n",
       "      <td>4</td>\n",
       "      <td>4</td>\n",
       "      <td>3</td>\n",
       "      <td>4</td>\n",
       "      <td>4</td>\n",
       "      <td>3</td>\n",
       "      <td>4</td>\n",
       "      <td>2</td>\n",
       "      <td>4</td>\n",
       "      <td>4</td>\n",
       "    </tr>\n",
       "    <tr>\n",
       "      <th>3</th>\n",
       "      <td>CTM10516</td>\n",
       "      <td>Nam</td>\n",
       "      <td>Gia Lai</td>\n",
       "      <td>Năm 2</td>\n",
       "      <td>Thương mại</td>\n",
       "      <td>Nông dân</td>\n",
       "      <td>Từ 1.500.000 đến 3.000.000</td>\n",
       "      <td>Từ 1 năm đến 2 năm</td>\n",
       "      <td>Học tập, Làm việc, Giải trí (xem phim, nghe nh...</td>\n",
       "      <td>4</td>\n",
       "      <td>3</td>\n",
       "      <td>4</td>\n",
       "      <td>4</td>\n",
       "      <td>3</td>\n",
       "      <td>2</td>\n",
       "      <td>3</td>\n",
       "      <td>3</td>\n",
       "      <td>4</td>\n",
       "      <td>2</td>\n",
       "    </tr>\n",
       "    <tr>\n",
       "      <th>4</th>\n",
       "      <td>CTM10573</td>\n",
       "      <td>Nam</td>\n",
       "      <td>Thừa Thiên Huế</td>\n",
       "      <td>Năm 4</td>\n",
       "      <td>Tài chính doanh nghiệp</td>\n",
       "      <td>Nông dân</td>\n",
       "      <td>Từ 1.500.000 đến 3.000.000</td>\n",
       "      <td>Trên 2 năm</td>\n",
       "      <td>Học tập, Làm việc</td>\n",
       "      <td>3</td>\n",
       "      <td>3</td>\n",
       "      <td>4</td>\n",
       "      <td>3</td>\n",
       "      <td>4</td>\n",
       "      <td>1</td>\n",
       "      <td>4</td>\n",
       "      <td>1</td>\n",
       "      <td>3</td>\n",
       "      <td>4</td>\n",
       "    </tr>\n",
       "    <tr>\n",
       "      <th>...</th>\n",
       "      <td>...</td>\n",
       "      <td>...</td>\n",
       "      <td>...</td>\n",
       "      <td>...</td>\n",
       "      <td>...</td>\n",
       "      <td>...</td>\n",
       "      <td>...</td>\n",
       "      <td>...</td>\n",
       "      <td>...</td>\n",
       "      <td>...</td>\n",
       "      <td>...</td>\n",
       "      <td>...</td>\n",
       "      <td>...</td>\n",
       "      <td>...</td>\n",
       "      <td>...</td>\n",
       "      <td>...</td>\n",
       "      <td>...</td>\n",
       "      <td>...</td>\n",
       "      <td>...</td>\n",
       "    </tr>\n",
       "    <tr>\n",
       "      <th>1095</th>\n",
       "      <td>CTM99547</td>\n",
       "      <td>Nam</td>\n",
       "      <td>Quảng Trị</td>\n",
       "      <td>Năm 1</td>\n",
       "      <td>Hệ thống thông tin quản lý</td>\n",
       "      <td>Nông dân</td>\n",
       "      <td>Từ 1.500.000 đến 3.000.000</td>\n",
       "      <td>Dưới 6 tháng</td>\n",
       "      <td>Học tập, Chơi game, Giải trí (xem phim, nghe n...</td>\n",
       "      <td>4</td>\n",
       "      <td>2</td>\n",
       "      <td>5</td>\n",
       "      <td>5</td>\n",
       "      <td>4</td>\n",
       "      <td>2</td>\n",
       "      <td>2</td>\n",
       "      <td>1</td>\n",
       "      <td>3</td>\n",
       "      <td>4</td>\n",
       "    </tr>\n",
       "    <tr>\n",
       "      <th>1096</th>\n",
       "      <td>CTM9971</td>\n",
       "      <td>Nữ</td>\n",
       "      <td>Hồ Chí Minh</td>\n",
       "      <td>Năm 3</td>\n",
       "      <td>Kế toán</td>\n",
       "      <td>Nông dân</td>\n",
       "      <td>Dưới 1.500.000</td>\n",
       "      <td>Từ 6 tháng - 1 năm</td>\n",
       "      <td>Học tập, Làm việc, Giải trí (xem phim, nghe nh...</td>\n",
       "      <td>4</td>\n",
       "      <td>3</td>\n",
       "      <td>5</td>\n",
       "      <td>5</td>\n",
       "      <td>4</td>\n",
       "      <td>4</td>\n",
       "      <td>5</td>\n",
       "      <td>3</td>\n",
       "      <td>4</td>\n",
       "      <td>4</td>\n",
       "    </tr>\n",
       "    <tr>\n",
       "      <th>1097</th>\n",
       "      <td>CTM99751</td>\n",
       "      <td>Nữ</td>\n",
       "      <td>Bình Định</td>\n",
       "      <td>Năm 1</td>\n",
       "      <td>Quản trị khách sạn</td>\n",
       "      <td>Nhân viên văn phòng</td>\n",
       "      <td>Từ 1.500.000 đến 3.000.000</td>\n",
       "      <td>Từ 6 tháng - 1 năm</td>\n",
       "      <td>Giải trí (xem phim, nghe nhạc, lướt web)</td>\n",
       "      <td>4</td>\n",
       "      <td>4</td>\n",
       "      <td>4</td>\n",
       "      <td>4</td>\n",
       "      <td>4</td>\n",
       "      <td>4</td>\n",
       "      <td>4</td>\n",
       "      <td>4</td>\n",
       "      <td>4</td>\n",
       "      <td>4</td>\n",
       "    </tr>\n",
       "    <tr>\n",
       "      <th>1098</th>\n",
       "      <td>CTM99852</td>\n",
       "      <td>Nữ</td>\n",
       "      <td>Bình Định</td>\n",
       "      <td>Năm 4</td>\n",
       "      <td>Quản trị kinh doanh</td>\n",
       "      <td>Nông dân</td>\n",
       "      <td>Trên 5.000.000</td>\n",
       "      <td>Trên 2 năm</td>\n",
       "      <td>Học tập, Làm việc</td>\n",
       "      <td>4</td>\n",
       "      <td>3</td>\n",
       "      <td>4</td>\n",
       "      <td>4</td>\n",
       "      <td>3</td>\n",
       "      <td>3</td>\n",
       "      <td>3</td>\n",
       "      <td>3</td>\n",
       "      <td>3</td>\n",
       "      <td>3</td>\n",
       "    </tr>\n",
       "    <tr>\n",
       "      <th>1099</th>\n",
       "      <td>CTM99985</td>\n",
       "      <td>Nữ</td>\n",
       "      <td>Thừa Thiên Huế</td>\n",
       "      <td>Năm 1</td>\n",
       "      <td>Quản trị dịch vụ du lịch và lữ hành</td>\n",
       "      <td>Nông dân</td>\n",
       "      <td>Từ 1.500.000 đến 3.000.000</td>\n",
       "      <td>Từ 6 tháng - 1 năm</td>\n",
       "      <td>Học tập, Làm việc, Giải trí (xem phim, nghe nh...</td>\n",
       "      <td>5</td>\n",
       "      <td>4</td>\n",
       "      <td>4</td>\n",
       "      <td>4</td>\n",
       "      <td>4</td>\n",
       "      <td>3</td>\n",
       "      <td>4</td>\n",
       "      <td>4</td>\n",
       "      <td>4</td>\n",
       "      <td>3</td>\n",
       "    </tr>\n",
       "  </tbody>\n",
       "</table>\n",
       "<p>1100 rows × 19 columns</p>\n",
       "</div>"
      ],
      "text/plain": [
       "         KH_ID GioiTinh         QueQuan NamHocThu  \\\n",
       "0     CTM10164      Nam       Quảng Trị     Năm 2   \n",
       "1     CTM10246      Nam         Đà Nẵng     Năm 4   \n",
       "2      CTM1028       Nữ         Nghệ An     Năm 3   \n",
       "3     CTM10516      Nam         Gia Lai     Năm 2   \n",
       "4     CTM10573      Nam  Thừa Thiên Huế     Năm 4   \n",
       "...        ...      ...             ...       ...   \n",
       "1095  CTM99547      Nam       Quảng Trị     Năm 1   \n",
       "1096   CTM9971       Nữ     Hồ Chí Minh     Năm 3   \n",
       "1097  CTM99751       Nữ       Bình Định     Năm 1   \n",
       "1098  CTM99852       Nữ       Bình Định     Năm 4   \n",
       "1099  CTM99985       Nữ  Thừa Thiên Huế     Năm 1   \n",
       "\n",
       "                              ChuyenNganh    NgheNghiepGiaDinh  \\\n",
       "0                            Luật kinh tế             Nông dân   \n",
       "1              Hệ thống thông tin quản lý     Kinh doanh tự do   \n",
       "2                      Thương mại điện tử             Nông dân   \n",
       "3                              Thương mại             Nông dân   \n",
       "4                  Tài chính doanh nghiệp             Nông dân   \n",
       "...                                   ...                  ...   \n",
       "1095           Hệ thống thông tin quản lý             Nông dân   \n",
       "1096                              Kế toán             Nông dân   \n",
       "1097                   Quản trị khách sạn  Nhân viên văn phòng   \n",
       "1098                  Quản trị kinh doanh             Nông dân   \n",
       "1099  Quản trị dịch vụ du lịch và lữ hành             Nông dân   \n",
       "\n",
       "                ChiTieuHangThang      ThoiGianSuDung  \\\n",
       "0     Từ 1.500.000 đến 3.000.000  Từ 6 tháng - 1 năm   \n",
       "1     Từ 3.000.000 đến 5.000.000          Trên 2 năm   \n",
       "2     Từ 1.500.000 đến 3.000.000          Trên 2 năm   \n",
       "3     Từ 1.500.000 đến 3.000.000  Từ 1 năm đến 2 năm   \n",
       "4     Từ 1.500.000 đến 3.000.000          Trên 2 năm   \n",
       "...                          ...                 ...   \n",
       "1095  Từ 1.500.000 đến 3.000.000        Dưới 6 tháng   \n",
       "1096              Dưới 1.500.000  Từ 6 tháng - 1 năm   \n",
       "1097  Từ 1.500.000 đến 3.000.000  Từ 6 tháng - 1 năm   \n",
       "1098              Trên 5.000.000          Trên 2 năm   \n",
       "1099  Từ 1.500.000 đến 3.000.000  Từ 6 tháng - 1 năm   \n",
       "\n",
       "                                    MucDichSuDungLaptop  MucDoHaiLong  \\\n",
       "0     Học tập, Làm việc, Chơi game, Giải trí (xem ph...             5   \n",
       "1                          Học tập, Làm việc, Chơi game             4   \n",
       "2                                     Học tập, Làm việc             4   \n",
       "3     Học tập, Làm việc, Giải trí (xem phim, nghe nh...             4   \n",
       "4                                     Học tập, Làm việc             3   \n",
       "...                                                 ...           ...   \n",
       "1095  Học tập, Chơi game, Giải trí (xem phim, nghe n...             4   \n",
       "1096  Học tập, Làm việc, Giải trí (xem phim, nghe nh...             4   \n",
       "1097           Giải trí (xem phim, nghe nhạc, lướt web)             4   \n",
       "1098                                  Học tập, Làm việc             4   \n",
       "1099  Học tập, Làm việc, Giải trí (xem phim, nghe nh...             5   \n",
       "\n",
       "      YeuToThuongHieuSP  YeuToCauHinh  YeuToTocDoXuLy  YeuToGia  YeuToThietKe  \\\n",
       "0                     3             3               3         3             3   \n",
       "1                     4             5               5         4             3   \n",
       "2                     4             3               4         4             3   \n",
       "3                     3             4               4         3             2   \n",
       "4                     3             4               3         4             1   \n",
       "...                 ...           ...             ...       ...           ...   \n",
       "1095                  2             5               5         4             2   \n",
       "1096                  3             5               5         4             4   \n",
       "1097                  4             4               4         4             4   \n",
       "1098                  3             4               4         3             3   \n",
       "1099                  4             4               4         4             3   \n",
       "\n",
       "      YeuToUyTinNhaBanle  YeuToBaoMat  YeuToBaoHanh  YeuToKhuyenMai  \n",
       "0                      3            3             3               3  \n",
       "1                      4            1             5               5  \n",
       "2                      4            2             4               4  \n",
       "3                      3            3             4               2  \n",
       "4                      4            1             3               4  \n",
       "...                  ...          ...           ...             ...  \n",
       "1095                   2            1             3               4  \n",
       "1096                   5            3             4               4  \n",
       "1097                   4            4             4               4  \n",
       "1098                   3            3             3               3  \n",
       "1099                   4            4             4               3  \n",
       "\n",
       "[1100 rows x 19 columns]"
      ]
     },
     "execution_count": 183,
     "metadata": {},
     "output_type": "execute_result"
    }
   ],
   "source": [
    "df1"
   ]
  },
  {
   "cell_type": "code",
   "execution_count": 184,
   "id": "f8d145d4",
   "metadata": {
    "colab": {
     "base_uri": "https://localhost:8080/"
    },
    "id": "f8d145d4",
    "outputId": "f9b66f11-631f-4876-bcd3-85c8082176bd"
   },
   "outputs": [
    {
     "data": {
      "text/plain": [
       "['GioiTinh',\n",
       " 'QueQuan',\n",
       " 'NamHocThu',\n",
       " 'ChuyenNganh',\n",
       " 'NgheNghiepGiaDinh',\n",
       " 'ChiTieuHangThang',\n",
       " 'ThoiGianSuDung',\n",
       " 'MucDichSuDungLaptop']"
      ]
     },
     "execution_count": 184,
     "metadata": {},
     "output_type": "execute_result"
    }
   ],
   "source": [
    "#Quan sát một số trường thông tin là text\n",
    "list_of_col = list(df1.columns)[1:9]\n",
    "list_of_col"
   ]
  },
  {
   "cell_type": "code",
   "execution_count": 185,
   "id": "1eed6c56",
   "metadata": {
    "colab": {
     "base_uri": "https://localhost:8080/"
    },
    "id": "1eed6c56",
    "outputId": "23258a4e-1b19-4bc8-e8a3-9c66b4752180"
   },
   "outputs": [
    {
     "data": {
      "text/plain": [
       "8"
      ]
     },
     "execution_count": 185,
     "metadata": {},
     "output_type": "execute_result"
    }
   ],
   "source": [
    "len(list_of_col)"
   ]
  },
  {
   "cell_type": "markdown",
   "id": "2aafcf90",
   "metadata": {
    "id": "2aafcf90"
   },
   "source": [
    "xem xét chung cột thông tin bảng Customer những cột text"
   ]
  },
  {
   "cell_type": "code",
   "execution_count": 186,
   "id": "54dfe164",
   "metadata": {
    "colab": {
     "base_uri": "https://localhost:8080/"
    },
    "id": "54dfe164",
    "outputId": "4206376e-261d-4042-8719-045c9d010ffb"
   },
   "outputs": [
    {
     "name": "stdout",
     "output_type": "stream",
     "text": [
      "Thong tin cot GioiTinh :\n",
      "\n",
      "Nữ     653\n",
      "Nam    447\n",
      "Name: GioiTinh, dtype: int64\n",
      "========================================\n",
      "Thong tin cot QueQuan :\n",
      "\n",
      "Hồ Chí Minh       183\n",
      "Hà Nội            123\n",
      "Đà Nẵng            96\n",
      "Bình Định          88\n",
      "Quảng Trị          85\n",
      "Đắk Lắk            72\n",
      "Thừa Thiên Huế     68\n",
      "Quảng Bình         62\n",
      "Gia Lai            61\n",
      "Hà Tĩnh            50\n",
      "Nghệ An            47\n",
      "Đắk Nông           42\n",
      "Quảng Nam          36\n",
      "Quảng Ngãi         28\n",
      "Thanh Hóa          27\n",
      "Kon Tum            20\n",
      "Phú Yên            10\n",
      "Lâm Đồng            2\n",
      "Name: QueQuan, dtype: int64\n",
      "========================================\n",
      "Thong tin cot NamHocThu :\n",
      "\n",
      "Năm 3    359\n",
      "Năm 2    300\n",
      "Năm 4    274\n",
      "Năm 1    167\n",
      "Name: NamHocThu, dtype: int64\n",
      "========================================\n",
      "Thong tin cot ChuyenNganh :\n",
      "\n",
      "Thương mại                             141\n",
      "Ngoại thương                           119\n",
      "Thương mại điện tử                      97\n",
      "Kế toán                                 80\n",
      "Kiểm toán                               69\n",
      "Hệ thống thông tin quản lý              65\n",
      "Luật kinh tế                            47\n",
      "Quản trị Marketing                      45\n",
      "Luật                                    44\n",
      "Quản trị kinh doanh                     42\n",
      "Truyền thông Marketing                  41\n",
      "Quản trị dịch vụ du lịch và lữ hành     40\n",
      "Quản trị khách sạn                      40\n",
      "Toán kinh tế                            38\n",
      "Tài chính doanh nghiệp                  30\n",
      "Quan hệ công chúng                      27\n",
      "Ngân hàng                               27\n",
      "Quản trị nguồn nhân lực                 23\n",
      "Quản trị chuỗi cung ứng                 20\n",
      "Khoa học dữ liệu                        13\n",
      "Quản lý nhà nước                        12\n",
      "Quản trị tài chính                      12\n",
      "Kinh tế                                 11\n",
      "Kinh tế phát triển                       9\n",
      "Kinh tế đầu tư                           7\n",
      "Quản trị Nguồn nhân lực                  1\n",
      "Name: ChuyenNganh, dtype: int64\n",
      "========================================\n",
      "Thong tin cot NgheNghiepGiaDinh :\n",
      "\n",
      "Nông dân               510\n",
      "Công chức nhà nước     249\n",
      "Kinh doanh tự do       235\n",
      "Nhân viên văn phòng    106\n",
      "Name: NgheNghiepGiaDinh, dtype: int64\n",
      "========================================\n",
      "Thong tin cot ChiTieuHangThang :\n",
      "\n",
      "Từ 1.500.000 đến 3.000.000    634\n",
      "Từ 3.000.000 đến 5.000.000    306\n",
      "Dưới 1.500.000                113\n",
      "Trên 5.000.000                 47\n",
      "Name: ChiTieuHangThang, dtype: int64\n",
      "========================================\n",
      "Thong tin cot ThoiGianSuDung :\n",
      "\n",
      "Trên 2 năm            412\n",
      "Từ 1 năm đến 2 năm    359\n",
      "Từ 6 tháng - 1 năm    223\n",
      "Dưới 6 tháng          106\n",
      "Name: ThoiGianSuDung, dtype: int64\n",
      "========================================\n",
      "Thong tin cot MucDichSuDungLaptop :\n",
      "\n",
      "Học tập, Làm việc, Giải trí (xem phim, nghe nhạc, lướt web)                     196\n",
      "Học tập                                                                         174\n",
      "Học tập, Làm việc                                                               171\n",
      "Học tập, Làm việc, Chơi game, Giải trí (xem phim, nghe nhạc, lướt web)          163\n",
      "Học tập, Giải trí (xem phim, nghe nhạc, lướt web)                               121\n",
      "Học tập, Làm việc, Chơi game                                                     57\n",
      "Học tập, Chơi game, Giải trí (xem phim, nghe nhạc, lướt web)                     52\n",
      "Học tập, Chơi game                                                               46\n",
      "Học tập, Làm việc, Chơi game, Giải trí (xem phim, nghe nhạc, lướt web), Khác     40\n",
      "Làm việc                                                                         17\n",
      "Học tập, Làm việc, Giải trí (xem phim, nghe nhạc, lướt web), Khác                15\n",
      "Làm việc, Giải trí (xem phim, nghe nhạc, lướt web)                               11\n",
      "Chơi game                                                                         9\n",
      "Làm việc, Chơi game                                                               5\n",
      "Làm việc, Chơi game, Giải trí (xem phim, nghe nhạc, lướt web)                     5\n",
      "Giải trí (xem phim, nghe nhạc, lướt web)                                          4\n",
      "Khác                                                                              3\n",
      "Chơi game, Giải trí (xem phim, nghe nhạc, lướt web)                               3\n",
      "Học tập, Chơi game, Giải trí (xem phim, nghe nhạc, lướt web), Khác                2\n",
      "Học tập, Giải trí (xem phim, nghe nhạc, lướt web), Khác                           2\n",
      "Chơi game, Khác                                                                   1\n",
      "Học tập, Làm việc, Khác                                                           1\n",
      "Học tập, Chơi game, Khác                                                          1\n",
      "Học tập, Làm việc, Chơi game, Khác                                                1\n",
      "Name: MucDichSuDungLaptop, dtype: int64\n",
      "========================================\n"
     ]
    }
   ],
   "source": [
    "for i in list_of_col:\n",
    "    print(\"Thong tin cot {} :\".format(i))\n",
    "    print()\n",
    "    print(df1[i].value_counts())\n",
    "    print('='*40)"
   ]
  },
  {
   "cell_type": "markdown",
   "id": "c353f051",
   "metadata": {},
   "source": [
    "### Nhận xét: trường dữ liệu quan trọng\n",
    "\n",
    "+ Chi tiêu hàng tháng\n",
    "+ Thời gian sử dụng\n",
    "+ Mục đích sử dụng"
   ]
  },
  {
   "cell_type": "markdown",
   "id": "a2a1ffcb",
   "metadata": {
    "id": "a2a1ffcb"
   },
   "source": [
    "**Chân dung khách hàng mua laptop: qua 19 trường dữ liệu**\n",
    "\n",
    "Mô tả 1 số thuộc tính pie chart"
   ]
  },
  {
   "cell_type": "code",
   "execution_count": 187,
   "id": "aaeb3919",
   "metadata": {
    "colab": {
     "base_uri": "https://localhost:8080/",
     "height": 265
    },
    "id": "aaeb3919",
    "outputId": "106596fe-9d7d-4d4b-b71e-d4f534a1c3ad"
   },
   "outputs": [
    {
     "data": {
      "text/plain": [
       "<AxesSubplot:ylabel='GioiTinh'>"
      ]
     },
     "execution_count": 187,
     "metadata": {},
     "output_type": "execute_result"
    },
    {
     "data": {
      "image/png": "[encoded data removed]",
      "text/plain": [
       "<Figure size 432x288 with 1 Axes>"
      ]
     },
     "metadata": {},
     "output_type": "display_data"
    }
   ],
   "source": [
    "df1[\"GioiTinh\"].value_counts().plot(kind='pie',autopct='%1.0f%%')"
   ]
  },
  {
   "cell_type": "markdown",
   "id": "d0831514",
   "metadata": {
    "id": "d0831514"
   },
   "source": [
    "Có thể Thử dùng Widgets visualizaton - Nhưng chưa có thời gian"
   ]
  },
  {
   "cell_type": "markdown",
   "id": "e2cb435f",
   "metadata": {
    "id": "e2cb435f"
   },
   "source": [
    "### Quan sát bảng 2 - sale"
   ]
  },
  {
   "cell_type": "code",
   "execution_count": 188,
   "id": "72dfdc94",
   "metadata": {
    "colab": {
     "base_uri": "https://localhost:8080/",
     "height": 0
    },
    "id": "72dfdc94",
    "outputId": "97aa2dcd-fc6f-42df-d119-00876a176839"
   },
   "outputs": [
    {
     "data": {
      "text/html": [
       "<div>\n",
       "<style scoped>\n",
       "    .dataframe tbody tr th:only-of-type {\n",
       "        vertical-align: middle;\n",
       "    }\n",
       "\n",
       "    .dataframe tbody tr th {\n",
       "        vertical-align: top;\n",
       "    }\n",
       "\n",
       "    .dataframe thead th {\n",
       "        text-align: right;\n",
       "    }\n",
       "</style>\n",
       "<table border=\"1\" class=\"dataframe\">\n",
       "  <thead>\n",
       "    <tr style=\"text-align: right;\">\n",
       "      <th></th>\n",
       "      <th>CustomerID</th>\n",
       "      <th>OrderID</th>\n",
       "      <th>Channel</th>\n",
       "      <th>PaymentType</th>\n",
       "      <th>Brand</th>\n",
       "      <th>Shop</th>\n",
       "      <th>Promotion</th>\n",
       "      <th>SalePrice</th>\n",
       "      <th>SaleDate</th>\n",
       "      <th>Reference</th>\n",
       "    </tr>\n",
       "  </thead>\n",
       "  <tbody>\n",
       "    <tr>\n",
       "      <th>0</th>\n",
       "      <td>CTM012</td>\n",
       "      <td>OTS015</td>\n",
       "      <td>Online</td>\n",
       "      <td>Thẻ</td>\n",
       "      <td>LenovoX1</td>\n",
       "      <td>Phong Vũ</td>\n",
       "      <td>Không</td>\n",
       "      <td>27000000.0</td>\n",
       "      <td>2020-04-23 00:00:00</td>\n",
       "      <td>NaN</td>\n",
       "    </tr>\n",
       "    <tr>\n",
       "      <th>1</th>\n",
       "      <td>CTM10164</td>\n",
       "      <td>OTS831</td>\n",
       "      <td>Offline</td>\n",
       "      <td>Tiền mặt</td>\n",
       "      <td>Apple</td>\n",
       "      <td>Viettel Store</td>\n",
       "      <td>Không</td>\n",
       "      <td>3020000.0</td>\n",
       "      <td>2020-08-03 00:00:00</td>\n",
       "      <td>Nhân viên cửa hàng bán Laptop</td>\n",
       "    </tr>\n",
       "    <tr>\n",
       "      <th>2</th>\n",
       "      <td>CTM10246</td>\n",
       "      <td>OTS293</td>\n",
       "      <td>Offline</td>\n",
       "      <td>Tiền mặt</td>\n",
       "      <td>Dell</td>\n",
       "      <td>FPT Shop</td>\n",
       "      <td>Có</td>\n",
       "      <td>18310000.0</td>\n",
       "      <td>2020-10-09 00:00:00</td>\n",
       "      <td>Nhân viên cửa hàng bán Laptop, Mạng xã hội, We...</td>\n",
       "    </tr>\n",
       "    <tr>\n",
       "      <th>3</th>\n",
       "      <td>CTM1028</td>\n",
       "      <td>OTS34756</td>\n",
       "      <td>Offline</td>\n",
       "      <td>Tiền mặt</td>\n",
       "      <td>MSI</td>\n",
       "      <td>Phong Vũ</td>\n",
       "      <td>Không</td>\n",
       "      <td>12203000.0</td>\n",
       "      <td>2020-05-24 00:00:00</td>\n",
       "      <td>Thông qua người thân, bạn bè, Nhân viên cửa hà...</td>\n",
       "    </tr>\n",
       "    <tr>\n",
       "      <th>4</th>\n",
       "      <td>CTM1028</td>\n",
       "      <td>OTS1044</td>\n",
       "      <td>Offline</td>\n",
       "      <td>Tiền mặt</td>\n",
       "      <td>Asus</td>\n",
       "      <td>Thế giới di động</td>\n",
       "      <td>Có</td>\n",
       "      <td>13070000.0</td>\n",
       "      <td>2020-10-08 00:00:00</td>\n",
       "      <td>Nhờ người có chuyên môn tư vấn</td>\n",
       "    </tr>\n",
       "  </tbody>\n",
       "</table>\n",
       "</div>"
      ],
      "text/plain": [
       "  CustomerID   OrderID  Channel PaymentType     Brand              Shop  \\\n",
       "0     CTM012    OTS015   Online         Thẻ  LenovoX1          Phong Vũ   \n",
       "1   CTM10164    OTS831  Offline    Tiền mặt     Apple     Viettel Store   \n",
       "2   CTM10246    OTS293  Offline    Tiền mặt      Dell          FPT Shop   \n",
       "3    CTM1028  OTS34756  Offline    Tiền mặt       MSI          Phong Vũ   \n",
       "4    CTM1028   OTS1044  Offline    Tiền mặt      Asus  Thế giới di động   \n",
       "\n",
       "  Promotion   SalePrice             SaleDate  \\\n",
       "0     Không  27000000.0  2020-04-23 00:00:00   \n",
       "1     Không   3020000.0  2020-08-03 00:00:00   \n",
       "2        Có  18310000.0  2020-10-09 00:00:00   \n",
       "3     Không  12203000.0  2020-05-24 00:00:00   \n",
       "4        Có  13070000.0  2020-10-08 00:00:00   \n",
       "\n",
       "                                           Reference  \n",
       "0                                                NaN  \n",
       "1                      Nhân viên cửa hàng bán Laptop  \n",
       "2  Nhân viên cửa hàng bán Laptop, Mạng xã hội, We...  \n",
       "3  Thông qua người thân, bạn bè, Nhân viên cửa hà...  \n",
       "4                     Nhờ người có chuyên môn tư vấn  "
      ]
     },
     "execution_count": 188,
     "metadata": {},
     "output_type": "execute_result"
    }
   ],
   "source": [
    "df2.head(5)"
   ]
  },
  {
   "cell_type": "code",
   "execution_count": 189,
   "id": "5617c87c",
   "metadata": {
    "colab": {
     "base_uri": "https://localhost:8080/",
     "height": 0
    },
    "id": "5617c87c",
    "outputId": "da728bdb-0349-4d25-b084-13058770a263"
   },
   "outputs": [
    {
     "data": {
      "text/html": [
       "<div>\n",
       "<style scoped>\n",
       "    .dataframe tbody tr th:only-of-type {\n",
       "        vertical-align: middle;\n",
       "    }\n",
       "\n",
       "    .dataframe tbody tr th {\n",
       "        vertical-align: top;\n",
       "    }\n",
       "\n",
       "    .dataframe thead th {\n",
       "        text-align: right;\n",
       "    }\n",
       "</style>\n",
       "<table border=\"1\" class=\"dataframe\">\n",
       "  <thead>\n",
       "    <tr style=\"text-align: right;\">\n",
       "      <th></th>\n",
       "      <th>SalePrice</th>\n",
       "    </tr>\n",
       "  </thead>\n",
       "  <tbody>\n",
       "    <tr>\n",
       "      <th>count</th>\n",
       "      <td>1.559000e+03</td>\n",
       "    </tr>\n",
       "    <tr>\n",
       "      <th>mean</th>\n",
       "      <td>1.208490e+07</td>\n",
       "    </tr>\n",
       "    <tr>\n",
       "      <th>std</th>\n",
       "      <td>5.459184e+06</td>\n",
       "    </tr>\n",
       "    <tr>\n",
       "      <th>min</th>\n",
       "      <td>1.008000e+03</td>\n",
       "    </tr>\n",
       "    <tr>\n",
       "      <th>25%</th>\n",
       "      <td>1.033500e+07</td>\n",
       "    </tr>\n",
       "    <tr>\n",
       "      <th>50%</th>\n",
       "      <td>1.246000e+07</td>\n",
       "    </tr>\n",
       "    <tr>\n",
       "      <th>75%</th>\n",
       "      <td>1.471450e+07</td>\n",
       "    </tr>\n",
       "    <tr>\n",
       "      <th>max</th>\n",
       "      <td>2.700000e+07</td>\n",
       "    </tr>\n",
       "  </tbody>\n",
       "</table>\n",
       "</div>"
      ],
      "text/plain": [
       "          SalePrice\n",
       "count  1.559000e+03\n",
       "mean   1.208490e+07\n",
       "std    5.459184e+06\n",
       "min    1.008000e+03\n",
       "25%    1.033500e+07\n",
       "50%    1.246000e+07\n",
       "75%    1.471450e+07\n",
       "max    2.700000e+07"
      ]
     },
     "execution_count": 189,
     "metadata": {},
     "output_type": "execute_result"
    }
   ],
   "source": [
    "df2.describe()"
   ]
  },
  {
   "cell_type": "code",
   "execution_count": 190,
   "id": "2811999f",
   "metadata": {
    "colab": {
     "base_uri": "https://localhost:8080/"
    },
    "id": "2811999f",
    "outputId": "2aaf1671-393b-49b0-9d03-6923617dd8ba"
   },
   "outputs": [
    {
     "data": {
      "text/plain": [
       "1100"
      ]
     },
     "execution_count": 190,
     "metadata": {},
     "output_type": "execute_result"
    }
   ],
   "source": [
    "df1.shape[0]"
   ]
  },
  {
   "cell_type": "code",
   "execution_count": 191,
   "id": "53fe088e",
   "metadata": {
    "colab": {
     "base_uri": "https://localhost:8080/"
    },
    "id": "53fe088e",
    "outputId": "21eb02bb-ea4a-4105-d7ec-0d2ceb09fac8"
   },
   "outputs": [
    {
     "data": {
      "text/plain": [
       "1566"
      ]
     },
     "execution_count": 191,
     "metadata": {},
     "output_type": "execute_result"
    }
   ],
   "source": [
    "df2.shape[0]"
   ]
  },
  {
   "cell_type": "markdown",
   "id": "eda5eddd",
   "metadata": {
    "id": "eda5eddd"
   },
   "source": [
    "=> Dữ liệu bảng 2 nhiều số dòng hơn do 1 customer có thể mua nhiều lần,. cũng có thể dữ liệu thừa, hoặc không match (không có customerID tương ứng)"
   ]
  },
  {
   "cell_type": "code",
   "execution_count": 192,
   "id": "f9ea763f",
   "metadata": {
    "colab": {
     "base_uri": "https://localhost:8080/",
     "height": 0
    },
    "id": "f9ea763f",
    "outputId": "7c1106d3-5722-49ad-95fa-9c4041820d62"
   },
   "outputs": [
    {
     "data": {
      "text/html": [
       "<div>\n",
       "<style scoped>\n",
       "    .dataframe tbody tr th:only-of-type {\n",
       "        vertical-align: middle;\n",
       "    }\n",
       "\n",
       "    .dataframe tbody tr th {\n",
       "        vertical-align: top;\n",
       "    }\n",
       "\n",
       "    .dataframe thead th {\n",
       "        text-align: right;\n",
       "    }\n",
       "</style>\n",
       "<table border=\"1\" class=\"dataframe\">\n",
       "  <thead>\n",
       "    <tr style=\"text-align: right;\">\n",
       "      <th></th>\n",
       "      <th>CustomerID</th>\n",
       "      <th>OrderID</th>\n",
       "      <th>Channel</th>\n",
       "      <th>PaymentType</th>\n",
       "      <th>Brand</th>\n",
       "      <th>Shop</th>\n",
       "      <th>Promotion</th>\n",
       "      <th>SalePrice</th>\n",
       "      <th>SaleDate</th>\n",
       "      <th>Reference</th>\n",
       "    </tr>\n",
       "  </thead>\n",
       "  <tbody>\n",
       "    <tr>\n",
       "      <th>5</th>\n",
       "      <td>CTM1028</td>\n",
       "      <td>OTS40774</td>\n",
       "      <td>Offline</td>\n",
       "      <td>Tiền mặt</td>\n",
       "      <td>Acer</td>\n",
       "      <td>Phong Vũ</td>\n",
       "      <td>Không</td>\n",
       "      <td>10172000.0</td>\n",
       "      <td>2020-12-10 00:00:00</td>\n",
       "      <td>Thông qua người thân, bạn bè, Nhân viên cửa hà...</td>\n",
       "    </tr>\n",
       "    <tr>\n",
       "      <th>6</th>\n",
       "      <td>CTM1028</td>\n",
       "      <td>OTS92355</td>\n",
       "      <td>Online</td>\n",
       "      <td>Thẻ</td>\n",
       "      <td>Acer</td>\n",
       "      <td>Viễn thông A</td>\n",
       "      <td>Không</td>\n",
       "      <td>20013000.0</td>\n",
       "      <td>2020-12-26 00:00:00</td>\n",
       "      <td>Thông qua người thân, bạn bè, Nhờ người có chu...</td>\n",
       "    </tr>\n",
       "    <tr>\n",
       "      <th>7</th>\n",
       "      <td>CTM10516</td>\n",
       "      <td>OTS37995</td>\n",
       "      <td>Offline</td>\n",
       "      <td>Thẻ</td>\n",
       "      <td>MSI</td>\n",
       "      <td>Techcare</td>\n",
       "      <td>Không</td>\n",
       "      <td>3232000.0</td>\n",
       "      <td>2020-01-09 00:00:00</td>\n",
       "      <td>Thông qua người thân, bạn bè, Nhân viên cửa hà...</td>\n",
       "    </tr>\n",
       "    <tr>\n",
       "      <th>8</th>\n",
       "      <td>CTM10516</td>\n",
       "      <td>OTS842</td>\n",
       "      <td>Online</td>\n",
       "      <td>Thẻ</td>\n",
       "      <td>Asus</td>\n",
       "      <td>Điện máy xanh</td>\n",
       "      <td>Không</td>\n",
       "      <td>19950000.0</td>\n",
       "      <td>2020-09-24 00:00:00</td>\n",
       "      <td>Thông qua người thân, bạn bè, Nhờ người có chu...</td>\n",
       "    </tr>\n",
       "    <tr>\n",
       "      <th>9</th>\n",
       "      <td>CTM10573</td>\n",
       "      <td>OTS67163</td>\n",
       "      <td>Online</td>\n",
       "      <td>Thẻ</td>\n",
       "      <td>HP</td>\n",
       "      <td>Techcare</td>\n",
       "      <td>Không</td>\n",
       "      <td>2139.0</td>\n",
       "      <td>2020-02-22 00:00:00</td>\n",
       "      <td>Thông qua người thân, bạn bè, Nhờ người có chu...</td>\n",
       "    </tr>\n",
       "  </tbody>\n",
       "</table>\n",
       "</div>"
      ],
      "text/plain": [
       "  CustomerID   OrderID  Channel PaymentType Brand           Shop Promotion  \\\n",
       "5    CTM1028  OTS40774  Offline    Tiền mặt  Acer       Phong Vũ     Không   \n",
       "6    CTM1028  OTS92355   Online         Thẻ  Acer   Viễn thông A     Không   \n",
       "7   CTM10516  OTS37995  Offline         Thẻ   MSI       Techcare     Không   \n",
       "8   CTM10516    OTS842   Online         Thẻ  Asus  Điện máy xanh     Không   \n",
       "9   CTM10573  OTS67163   Online         Thẻ    HP       Techcare     Không   \n",
       "\n",
       "    SalePrice             SaleDate  \\\n",
       "5  10172000.0  2020-12-10 00:00:00   \n",
       "6  20013000.0  2020-12-26 00:00:00   \n",
       "7   3232000.0  2020-01-09 00:00:00   \n",
       "8  19950000.0  2020-09-24 00:00:00   \n",
       "9      2139.0  2020-02-22 00:00:00   \n",
       "\n",
       "                                           Reference  \n",
       "5  Thông qua người thân, bạn bè, Nhân viên cửa hà...  \n",
       "6  Thông qua người thân, bạn bè, Nhờ người có chu...  \n",
       "7  Thông qua người thân, bạn bè, Nhân viên cửa hà...  \n",
       "8  Thông qua người thân, bạn bè, Nhờ người có chu...  \n",
       "9  Thông qua người thân, bạn bè, Nhờ người có chu...  "
      ]
     },
     "execution_count": 192,
     "metadata": {},
     "output_type": "execute_result"
    }
   ],
   "source": [
    "df2[5:10]"
   ]
  },
  {
   "cell_type": "markdown",
   "id": "085bf174",
   "metadata": {
    "id": "085bf174"
   },
   "source": [
    "Xuất hiện 2 vấn đề dữ liệu có $ và nan"
   ]
  },
  {
   "cell_type": "markdown",
   "id": "8de0ef42",
   "metadata": {
    "id": "8de0ef42"
   },
   "source": [
    "**Check missing value/ null value**"
   ]
  },
  {
   "cell_type": "code",
   "execution_count": 193,
   "id": "dca6c2f9",
   "metadata": {
    "id": "dca6c2f9"
   },
   "outputs": [],
   "source": [
    "import seaborn as sns\n",
    "sns.set(style=\"whitegrid\")\n",
    "# plt.style.use('white')\n",
    "plt.rcParams.update({\"grid.linewidth\":0.5, \"grid.alpha\":0.5})\n",
    "colormap = sns.diverging_palette(220, 10, as_cmap=True)"
   ]
  },
  {
   "cell_type": "code",
   "execution_count": 194,
   "id": "07df79f2",
   "metadata": {
    "colab": {
     "base_uri": "https://localhost:8080/",
     "height": 0
    },
    "id": "07df79f2",
    "outputId": "6d655732-de42-4912-93ac-4e032ece53ab"
   },
   "outputs": [
    {
     "data": {
      "text/plain": [
       "<AxesSubplot:>"
      ]
     },
     "execution_count": 194,
     "metadata": {},
     "output_type": "execute_result"
    },
    {
     "data": {
      "image/png": "[encoded data removed]",
      "text/plain": [
       "<Figure size 432x288 with 1 Axes>"
      ]
     },
     "metadata": {},
     "output_type": "display_data"
    }
   ],
   "source": [
    "sns.heatmap(df2.isnull(),cbar=False,yticklabels=False,cmap = 'viridis')"
   ]
  },
  {
   "cell_type": "code",
   "execution_count": 195,
   "id": "25ad1368",
   "metadata": {
    "colab": {
     "base_uri": "https://localhost:8080/"
    },
    "id": "25ad1368",
    "outputId": "787ca4ff-2d03-4b53-ca8b-75b0ef873a70"
   },
   "outputs": [
    {
     "data": {
      "text/plain": [
       "['CustomerID',\n",
       " 'OrderID',\n",
       " 'Channel',\n",
       " 'PaymentType',\n",
       " 'Brand',\n",
       " 'Shop',\n",
       " 'Promotion',\n",
       " 'SalePrice',\n",
       " 'SaleDate',\n",
       " 'Reference']"
      ]
     },
     "execution_count": 195,
     "metadata": {},
     "output_type": "execute_result"
    }
   ],
   "source": [
    "#Check nan các cột:\n",
    "lst = list(df2.columns)\n",
    "lst"
   ]
  },
  {
   "cell_type": "code",
   "execution_count": 196,
   "id": "91b38eb4",
   "metadata": {
    "colab": {
     "base_uri": "https://localhost:8080/"
    },
    "id": "91b38eb4",
    "outputId": "c929acdd-9e86-42b9-fed5-62f11af77889"
   },
   "outputs": [
    {
     "name": "stdout",
     "output_type": "stream",
     "text": [
      "CustomerID - Sum NaN: 3\n",
      "OrderID - Sum NaN: 7\n",
      "Channel - Sum NaN: 3\n",
      "PaymentType - Sum NaN: 2\n",
      "Brand - Sum NaN: 2\n",
      "Shop - Sum NaN: 5\n",
      "Promotion - Sum NaN: 0\n",
      "SalePrice - Sum NaN: 7\n",
      "SaleDate - Sum NaN: 0\n",
      "Reference - Sum NaN: 5\n"
     ]
    }
   ],
   "source": [
    "for i in lst:\n",
    "    NaN = df2[i].isna().sum()\n",
    "    print(f\"{i} - Sum NaN: {NaN}\")"
   ]
  },
  {
   "cell_type": "markdown",
   "id": "9e656c2f",
   "metadata": {
    "id": "9e656c2f"
   },
   "source": [
    "## 3. Ideal Clean <a class=\"anchor\" id=\"B3\"></a>\n",
    "### Xử lý dữ liệu mất mát, dữ liệu thừa, thông tin không cần thiết\n",
    "\n",
    "Khi quan sát xong cơ bản về dữ liệu chúng tôi có phân tích và xử lý dữ liệu để xử dụng như sau\n",
    "\n",
    "CustomerID (Drop Row)\n",
    "\n",
    "- Mối tương quan giữa customerID và OrderID hay giao dịch gần như không quá mạnh, nhưng vẫn có thể dẫn đến mất mát thông tin quý giá => Thêm ID mới không ảnh hưởng đến dữ liệu - Tức là ID có tính duy nhất, việc này sẽ tốt hơn là drop\n",
    "\n",
    "- Những cái ID này có thể ảnh hưởng khi merge bảng => Tức là thông tin gần như không giá trị, không có thông tin khách hàng rồi, ảnh hưởng đến doanh thu doanh số :))\n",
    "\n",
    "- Ngó qua 2 cái không phải người mua nhiều nhất => drop tốt\n",
    "\n",
    "OrderID (Drop col)\n",
    "\n",
    "- Trường OrderID khó xác định giao dịch và thông tin không quá hữu ích đối với bài toán hiện có không liên quan chặt chẽ đến số giao dịch, có thể sài key shop thêm với OrderID để phân biệt nhưng không cần thiết\n",
    "\n",
    "Channel (Random: Online Offline)\n",
    "- all online\n",
    "\n",
    "PaymentType (Xác suất)\n",
    "- all thẻ\n",
    "\n",
    "Brand: (Xác suất)\n",
    "- Nhãn hiệu nhiều nhất - asus\n",
    "(Có thể xem mức độ tương quan 2 trường này mà khó xem vãi có phải tuyến tính đâu mà nó gồm nhiều hãng chứ không có tính tăng dần)\n",
    "\n",
    "Shop - Sum NaN: 5 (Xác suất)\n",
    "- Điền theo shop nhiều nhất\n",
    "\n",
    "SalePrice - Sum NaN: 7 (Xác suất)\n",
    "- Cái này khó điền: Điền theo giá trung bình sản phẩm\n",
    "\n",
    "Reference - Sum NaN: 5  (Xác suất)\n",
    "- Điền theo cái xuất hiện nhiều nhất"
   ]
  },
  {
   "cell_type": "code",
   "execution_count": 197,
   "id": "33e722be",
   "metadata": {
    "colab": {
     "base_uri": "https://localhost:8080/"
    },
    "id": "33e722be",
    "outputId": "8270c307-717f-4aa2-c273-33be11d07189"
   },
   "outputs": [
    {
     "data": {
      "text/plain": [
       "2139.0"
      ]
     },
     "execution_count": 197,
     "metadata": {},
     "output_type": "execute_result"
    }
   ],
   "source": [
    "# tại 1 vị trí tiền đô\n",
    "(df2[\"SalePrice\"][9])"
   ]
  },
  {
   "cell_type": "code",
   "execution_count": 198,
   "id": "39eb5cf0",
   "metadata": {
    "id": "39eb5cf0"
   },
   "outputs": [],
   "source": [
    "# df2[5:11]"
   ]
  },
  {
   "cell_type": "markdown",
   "id": "db5c945e",
   "metadata": {
    "id": "db5c945e"
   },
   "source": [
    "Xem xét thông tin chung cột sale"
   ]
  },
  {
   "cell_type": "code",
   "execution_count": 199,
   "id": "e57dae84",
   "metadata": {
    "colab": {
     "base_uri": "https://localhost:8080/"
    },
    "id": "e57dae84",
    "outputId": "4635d508-c4c8-4ad4-ec30-14c1c3bd8773"
   },
   "outputs": [
    {
     "name": "stdout",
     "output_type": "stream",
     "text": [
      "Thong tin cot CustomerID :\n",
      "\n",
      "CTM62896    5\n",
      "CTM6867     5\n",
      "CTM35887    4\n",
      "CTM12627    4\n",
      "CTM95918    4\n",
      "           ..\n",
      "CTM48651    1\n",
      "CTM48664    1\n",
      "CTM48793    1\n",
      "CTM48861    1\n",
      "CTM67995    1\n",
      "Name: CustomerID, Length: 1101, dtype: int64\n",
      "========================================\n",
      "Thong tin cot OrderID :\n",
      "\n",
      "OTS128      2\n",
      "OTS98674    2\n",
      "OTS505      2\n",
      "OTS985      2\n",
      "OTS986      2\n",
      "           ..\n",
      "OTS20509    1\n",
      "OTS721      1\n",
      "OTS90       1\n",
      "OTS488      1\n",
      "OTS373      1\n",
      "Name: OrderID, Length: 1544, dtype: int64\n",
      "========================================\n",
      "Thong tin cot Channel :\n",
      "\n",
      "Offline    785\n",
      "Online     778\n",
      "Name: Channel, dtype: int64\n",
      "========================================\n",
      "Thong tin cot PaymentType :\n",
      "\n",
      "Thẻ         1180\n",
      "Tiền mặt     384\n",
      "Name: PaymentType, dtype: int64\n",
      "========================================\n",
      "Thong tin cot Brand :\n",
      "\n",
      "Asus         402\n",
      "Dell         349\n",
      "HP           269\n",
      "Acer         182\n",
      "Apple        143\n",
      "MSI          133\n",
      "Lenovo        57\n",
      "Microsoft     27\n",
      "LenovoX1       1\n",
      "DellXPS        1\n",
      "Name: Brand, dtype: int64\n",
      "========================================\n",
      "Thong tin cot Shop :\n",
      "\n",
      "FPT Shop               293\n",
      "Thế giới di động       262\n",
      "Điện máy xanh          179\n",
      "Phong Vũ               167\n",
      "Viễn thông A           167\n",
      "Techcare               164\n",
      "Nguyễn Kim             112\n",
      "Viettel Store           91\n",
      "Khác                    81\n",
      "Phi Long Technology     25\n",
      "Chợ Lớn                 20\n",
      "Name: Shop, dtype: int64\n",
      "========================================\n",
      "Thong tin cot Promotion :\n",
      "\n",
      "Có       937\n",
      "Không    629\n",
      "Name: Promotion, dtype: int64\n",
      "========================================\n",
      "Thong tin cot SalePrice :\n",
      "\n",
      "13580000.0    6\n",
      "12010000.0    6\n",
      "13340000.0    6\n",
      "11420000.0    5\n",
      "13250000.0    5\n",
      "             ..\n",
      "22660000.0    1\n",
      "19030000.0    1\n",
      "1618.0        1\n",
      "2572.0        1\n",
      "11530000.0    1\n",
      "Name: SalePrice, Length: 1198, dtype: int64\n",
      "========================================\n",
      "Thong tin cot SaleDate :\n",
      "\n",
      "2020-02-27 00:00:00    12\n",
      "2020-01-27 00:00:00    11\n",
      "2020-08-21 00:00:00    11\n",
      "2020-08-31 00:00:00    10\n",
      "2020-08-11 00:00:00    10\n",
      "                       ..\n",
      "2020-09-27 00:00:00     1\n",
      "2020-09-26 00:00:00     1\n",
      "2020-01-13 00:00:00     1\n",
      "2020-06-13 00:00:00     1\n",
      "9/31/2020               1\n",
      "Name: SaleDate, Length: 364, dtype: int64\n",
      "========================================\n",
      "Thong tin cot Reference :\n",
      "\n",
      "Thông qua người thân, bạn bè, Nhân viên cửa hàng bán Laptop                                                                            140\n",
      "Thông qua người thân, bạn bè, Nhờ người có chuyên môn tư vấn, Nhân viên cửa hàng bán Laptop                                            114\n",
      "Nhân viên cửa hàng bán Laptop                                                                                                          106\n",
      "Thông qua người thân, bạn bè, Nhờ người có chuyên môn tư vấn, Mạng xã hội                                                              105\n",
      "Thông qua người thân, bạn bè                                                                                                           101\n",
      "                                                                                                                                      ... \n",
      "Nhờ người có chuyên môn tư vấn, Nhân viên cửa hàng bán Laptop, Phương tiện truyền thông (báo, tivi,...), Khác                            1\n",
      "Thông qua người thân, bạn bè, Nhờ người có chuyên môn tư vấn, Nhân viên cửa hàng bán Laptop, Mạng xã hội, Website, Khác                  1\n",
      "Nhờ người có chuyên môn tư vấn, Phương tiện truyền thông (báo, tivi,...)                                                                 1\n",
      "Nhờ người có chuyên môn tư vấn, Phương tiện truyền thông (báo, tivi,...), Website                                                        1\n",
      "Nhờ người có chuyên môn tư vấn, Nhân viên cửa hàng bán Laptop, Mạng xã hội, Phương tiện truyền thông (báo, tivi,...), Website, Khác      1\n",
      "Name: Reference, Length: 81, dtype: int64\n",
      "========================================\n"
     ]
    }
   ],
   "source": [
    "list_of_col2 = list(df2.columns)\n",
    "for i in list_of_col2:\n",
    "    print(\"Thong tin cot {} :\".format(i))\n",
    "    print()\n",
    "    print(df2[i].value_counts())\n",
    "    print('='*40)"
   ]
  },
  {
   "cell_type": "code",
   "execution_count": 200,
   "id": "857215d7",
   "metadata": {},
   "outputs": [
    {
     "data": {
      "text/plain": [
       "[5, 5, 4, 4, 4, 4, 4, 4, 4, 4, 4, 4, 4, 4, 3]"
      ]
     },
     "execution_count": 200,
     "metadata": {},
     "output_type": "execute_result"
    }
   ],
   "source": [
    "### số lượng khách hàng mua laptop group theo số lượng mua 5,4,3,2,1 mua 5 laptop có bao nhiêu\n",
    "list(df2[\"CustomerID\"].value_counts())[:15]"
   ]
  },
  {
   "cell_type": "code",
   "execution_count": 201,
   "id": "29f7f22b",
   "metadata": {},
   "outputs": [
    {
     "name": "stdout",
     "output_type": "stream",
     "text": [
      "Counter({1: 723, 2: 310, 3: 54, 4: 12, 5: 2})\n"
     ]
    }
   ],
   "source": [
    "# dem so luong laptop mua theo so luong dung counter\n",
    "list1 = list(df2[\"CustomerID\"].value_counts())\n",
    "from collections import Counter\n",
    "print(Counter(list1))"
   ]
  },
  {
   "cell_type": "code",
   "execution_count": 202,
   "id": "74a8ba54",
   "metadata": {},
   "outputs": [
    {
     "data": {
      "text/plain": [
       "pandas.core.series.Series"
      ]
     },
     "execution_count": 202,
     "metadata": {},
     "output_type": "execute_result"
    }
   ],
   "source": [
    "type(df2[i].value_counts())"
   ]
  },
  {
   "cell_type": "markdown",
   "id": "17b317c8",
   "metadata": {
    "id": "17b317c8"
   },
   "source": [
    "Quy 2 loại tiền USD và VND về VND"
   ]
  },
  {
   "cell_type": "code",
   "execution_count": 203,
   "id": "7ed43f79",
   "metadata": {
    "colab": {
     "base_uri": "https://localhost:8080/",
     "height": 0
    },
    "id": "7ed43f79",
    "outputId": "4a9498a5-efc0-4b36-e1b1-40f5a64095b5"
   },
   "outputs": [
    {
     "data": {
      "text/html": [
       "<div>\n",
       "<style scoped>\n",
       "    .dataframe tbody tr th:only-of-type {\n",
       "        vertical-align: middle;\n",
       "    }\n",
       "\n",
       "    .dataframe tbody tr th {\n",
       "        vertical-align: top;\n",
       "    }\n",
       "\n",
       "    .dataframe thead th {\n",
       "        text-align: right;\n",
       "    }\n",
       "</style>\n",
       "<table border=\"1\" class=\"dataframe\">\n",
       "  <thead>\n",
       "    <tr style=\"text-align: right;\">\n",
       "      <th></th>\n",
       "      <th>CustomerID</th>\n",
       "      <th>OrderID</th>\n",
       "      <th>Channel</th>\n",
       "      <th>PaymentType</th>\n",
       "      <th>Brand</th>\n",
       "      <th>Shop</th>\n",
       "      <th>Promotion</th>\n",
       "      <th>SalePrice</th>\n",
       "      <th>SaleDate</th>\n",
       "      <th>Reference</th>\n",
       "    </tr>\n",
       "  </thead>\n",
       "  <tbody>\n",
       "    <tr>\n",
       "      <th>80</th>\n",
       "      <td>CTM14053</td>\n",
       "      <td>OTS3620</td>\n",
       "      <td>Offline</td>\n",
       "      <td>Tiền mặt</td>\n",
       "      <td>MSI</td>\n",
       "      <td>Nguyễn Kim</td>\n",
       "      <td>Không</td>\n",
       "      <td>NaN</td>\n",
       "      <td>2020-12-03 00:00:00</td>\n",
       "      <td>Nhờ người có chuyên môn tư vấn</td>\n",
       "    </tr>\n",
       "    <tr>\n",
       "      <th>657</th>\n",
       "      <td>CTM48330</td>\n",
       "      <td>OTS56518</td>\n",
       "      <td>Offline</td>\n",
       "      <td>Thẻ</td>\n",
       "      <td>Acer</td>\n",
       "      <td>Viễn thông A</td>\n",
       "      <td>Không</td>\n",
       "      <td>NaN</td>\n",
       "      <td>2020-11-30 00:00:00</td>\n",
       "      <td>Thông qua người thân, bạn bè, Nhờ người có chu...</td>\n",
       "    </tr>\n",
       "    <tr>\n",
       "      <th>720</th>\n",
       "      <td>CTM52387</td>\n",
       "      <td>OTS19956</td>\n",
       "      <td>Offline</td>\n",
       "      <td>Thẻ</td>\n",
       "      <td>MSI</td>\n",
       "      <td>Techcare</td>\n",
       "      <td>Có</td>\n",
       "      <td>NaN</td>\n",
       "      <td>2020-04-28 00:00:00</td>\n",
       "      <td>Thông qua người thân, bạn bè, Nhân viên cửa hà...</td>\n",
       "    </tr>\n",
       "    <tr>\n",
       "      <th>1002</th>\n",
       "      <td>CTM67934</td>\n",
       "      <td>OTS32694</td>\n",
       "      <td>Offline</td>\n",
       "      <td>Thẻ</td>\n",
       "      <td>MSI</td>\n",
       "      <td>Phong Vũ</td>\n",
       "      <td>Không</td>\n",
       "      <td>NaN</td>\n",
       "      <td>2020-10-24 00:00:00</td>\n",
       "      <td>Thông qua người thân, bạn bè, Nhân viên cửa hà...</td>\n",
       "    </tr>\n",
       "    <tr>\n",
       "      <th>1050</th>\n",
       "      <td>CTM70499</td>\n",
       "      <td>OTS20395</td>\n",
       "      <td>Offline</td>\n",
       "      <td>Thẻ</td>\n",
       "      <td>Asus</td>\n",
       "      <td>Viễn thông A</td>\n",
       "      <td>Có</td>\n",
       "      <td>NaN</td>\n",
       "      <td>2020-06-11 00:00:00</td>\n",
       "      <td>Nhờ người có chuyên môn tư vấn, Mạng xã hội</td>\n",
       "    </tr>\n",
       "    <tr>\n",
       "      <th>1092</th>\n",
       "      <td>CTM74077</td>\n",
       "      <td>OTS8049</td>\n",
       "      <td>Offline</td>\n",
       "      <td>Thẻ</td>\n",
       "      <td>Asus</td>\n",
       "      <td>Techcare</td>\n",
       "      <td>Có</td>\n",
       "      <td>NaN</td>\n",
       "      <td>2020-09-07 00:00:00</td>\n",
       "      <td>Thông qua người thân, bạn bè, Nhân viên cửa hà...</td>\n",
       "    </tr>\n",
       "    <tr>\n",
       "      <th>1557</th>\n",
       "      <td>NaN</td>\n",
       "      <td>OTS1000</td>\n",
       "      <td>Offline</td>\n",
       "      <td>Tiền mặt</td>\n",
       "      <td>Dell</td>\n",
       "      <td>Điện máy xanh</td>\n",
       "      <td>Có</td>\n",
       "      <td>NaN</td>\n",
       "      <td>2020-02-17 00:00:00</td>\n",
       "      <td>NaN</td>\n",
       "    </tr>\n",
       "  </tbody>\n",
       "</table>\n",
       "</div>"
      ],
      "text/plain": [
       "     CustomerID   OrderID  Channel PaymentType Brand           Shop Promotion  \\\n",
       "80     CTM14053   OTS3620  Offline    Tiền mặt   MSI     Nguyễn Kim     Không   \n",
       "657    CTM48330  OTS56518  Offline         Thẻ  Acer   Viễn thông A     Không   \n",
       "720    CTM52387  OTS19956  Offline         Thẻ   MSI       Techcare        Có   \n",
       "1002   CTM67934  OTS32694  Offline         Thẻ   MSI       Phong Vũ     Không   \n",
       "1050   CTM70499  OTS20395  Offline         Thẻ  Asus   Viễn thông A        Có   \n",
       "1092   CTM74077   OTS8049  Offline         Thẻ  Asus       Techcare        Có   \n",
       "1557        NaN   OTS1000  Offline    Tiền mặt  Dell  Điện máy xanh        Có   \n",
       "\n",
       "      SalePrice             SaleDate  \\\n",
       "80          NaN  2020-12-03 00:00:00   \n",
       "657         NaN  2020-11-30 00:00:00   \n",
       "720         NaN  2020-04-28 00:00:00   \n",
       "1002        NaN  2020-10-24 00:00:00   \n",
       "1050        NaN  2020-06-11 00:00:00   \n",
       "1092        NaN  2020-09-07 00:00:00   \n",
       "1557        NaN  2020-02-17 00:00:00   \n",
       "\n",
       "                                              Reference  \n",
       "80                       Nhờ người có chuyên môn tư vấn  \n",
       "657   Thông qua người thân, bạn bè, Nhờ người có chu...  \n",
       "720   Thông qua người thân, bạn bè, Nhân viên cửa hà...  \n",
       "1002  Thông qua người thân, bạn bè, Nhân viên cửa hà...  \n",
       "1050        Nhờ người có chuyên môn tư vấn, Mạng xã hội  \n",
       "1092  Thông qua người thân, bạn bè, Nhân viên cửa hà...  \n",
       "1557                                                NaN  "
      ]
     },
     "execution_count": 203,
     "metadata": {},
     "output_type": "execute_result"
    }
   ],
   "source": [
    "# drop nan\n",
    "df2[df2.SalePrice.isnull()]"
   ]
  },
  {
   "cell_type": "code",
   "execution_count": 204,
   "id": "96e84cfe",
   "metadata": {
    "id": "96e84cfe"
   },
   "outputs": [],
   "source": [
    "# list Quan sát sale bị mất thông tin sale price\n",
    "df_Sale_Price_Is_NaN = df2[df2.SalePrice.isnull()]"
   ]
  },
  {
   "cell_type": "code",
   "execution_count": 205,
   "id": "f89580a5",
   "metadata": {
    "colab": {
     "base_uri": "https://localhost:8080/"
    },
    "id": "f89580a5",
    "outputId": "6d87e6e6-8952-4c6e-d565-79cb815b52d4"
   },
   "outputs": [
    {
     "data": {
      "text/plain": [
       "[80, 657, 720, 1002, 1050, 1092, 1557]"
      ]
     },
     "execution_count": 205,
     "metadata": {},
     "output_type": "execute_result"
    }
   ],
   "source": [
    "# list to drop\n",
    "df_Sale_Price_Is_NaN.index.values.tolist()"
   ]
  },
  {
   "cell_type": "code",
   "execution_count": 206,
   "id": "8d432c6d",
   "metadata": {
    "id": "8d432c6d"
   },
   "outputs": [],
   "source": [
    "# drop by index row\n",
    "# l = df_Sale_Price_Is_NaN.index.values.tolist()\n",
    "rows = df2.index[[80, 657, 720, 1002, 1050, 1092, 1557]]\n",
    "df2.drop(rows, inplace=True)"
   ]
  },
  {
   "cell_type": "code",
   "execution_count": 207,
   "id": "858fb24f",
   "metadata": {
    "colab": {
     "base_uri": "https://localhost:8080/"
    },
    "id": "858fb24f",
    "outputId": "0b89ff25-9422-4c5a-97a7-45953fc0188e"
   },
   "outputs": [
    {
     "data": {
      "text/plain": [
       "(1559, 10)"
      ]
     },
     "execution_count": 207,
     "metadata": {},
     "output_type": "execute_result"
    }
   ],
   "source": [
    "#1566 -> 1559 giảm đi 7\n",
    "df2.shape"
   ]
  },
  {
   "cell_type": "code",
   "execution_count": 208,
   "id": "970837ca",
   "metadata": {
    "colab": {
     "base_uri": "https://localhost:8080/",
     "height": 0
    },
    "id": "970837ca",
    "outputId": "14cb622c-894c-4ee9-b432-fe15309c31a7"
   },
   "outputs": [
    {
     "data": {
      "text/html": [
       "<div>\n",
       "<style scoped>\n",
       "    .dataframe tbody tr th:only-of-type {\n",
       "        vertical-align: middle;\n",
       "    }\n",
       "\n",
       "    .dataframe tbody tr th {\n",
       "        vertical-align: top;\n",
       "    }\n",
       "\n",
       "    .dataframe thead th {\n",
       "        text-align: right;\n",
       "    }\n",
       "</style>\n",
       "<table border=\"1\" class=\"dataframe\">\n",
       "  <thead>\n",
       "    <tr style=\"text-align: right;\">\n",
       "      <th></th>\n",
       "      <th>CustomerID</th>\n",
       "      <th>OrderID</th>\n",
       "      <th>Channel</th>\n",
       "      <th>PaymentType</th>\n",
       "      <th>Brand</th>\n",
       "      <th>Shop</th>\n",
       "      <th>Promotion</th>\n",
       "      <th>SalePrice</th>\n",
       "      <th>SaleDate</th>\n",
       "      <th>Reference</th>\n",
       "    </tr>\n",
       "  </thead>\n",
       "  <tbody>\n",
       "  </tbody>\n",
       "</table>\n",
       "</div>"
      ],
      "text/plain": [
       "Empty DataFrame\n",
       "Columns: [CustomerID, OrderID, Channel, PaymentType, Brand, Shop, Promotion, SalePrice, SaleDate, Reference]\n",
       "Index: []"
      ]
     },
     "execution_count": 208,
     "metadata": {},
     "output_type": "execute_result"
    }
   ],
   "source": [
    "df2[df2.SalePrice.isnull()]"
   ]
  },
  {
   "cell_type": "code",
   "execution_count": 209,
   "id": "78051c1f",
   "metadata": {
    "id": "78051c1f"
   },
   "outputs": [],
   "source": [
    "# string to int\n",
    "\n",
    "df2[df2.columns[7]] = df2[df2.columns[7]].apply(lambda x: int(x))"
   ]
  },
  {
   "cell_type": "code",
   "execution_count": 210,
   "id": "65313552",
   "metadata": {
    "colab": {
     "base_uri": "https://localhost:8080/"
    },
    "id": "65313552",
    "outputId": "270e9b10-8999-47ec-f7e1-4744b706635d"
   },
   "outputs": [
    {
     "data": {
      "text/plain": [
       "0       27000000\n",
       "1        3020000\n",
       "2       18310000\n",
       "3       12203000\n",
       "4       13070000\n",
       "          ...   \n",
       "1561    12510000\n",
       "1562     7400000\n",
       "1563    15440000\n",
       "1564    11530000\n",
       "1565    14170000\n",
       "Name: SalePrice, Length: 1559, dtype: int64"
      ]
     },
     "execution_count": 210,
     "metadata": {},
     "output_type": "execute_result"
    }
   ],
   "source": [
    "df2.SalePrice"
   ]
  },
  {
   "cell_type": "code",
   "execution_count": 211,
   "id": "13f5e5db",
   "metadata": {
    "colab": {
     "base_uri": "https://localhost:8080/"
    },
    "id": "13f5e5db",
    "outputId": "52476f6f-827b-4e10-af56-6e5525dd1369"
   },
   "outputs": [
    {
     "data": {
      "text/plain": [
       "1008"
      ]
     },
     "execution_count": 211,
     "metadata": {},
     "output_type": "execute_result"
    }
   ],
   "source": [
    "df2.SalePrice.min()"
   ]
  },
  {
   "cell_type": "code",
   "execution_count": 212,
   "id": "b9aa7ef2",
   "metadata": {
    "id": "b9aa7ef2"
   },
   "outputs": [],
   "source": [
    "df2[df2.columns[7]] = df2[df2.columns[7]].apply(lambda x: x*23000 if x < 9000 else x )"
   ]
  },
  {
   "cell_type": "code",
   "execution_count": 213,
   "id": "e7627e67",
   "metadata": {
    "colab": {
     "base_uri": "https://localhost:8080/"
    },
    "id": "e7627e67",
    "outputId": "8dc842fc-bc4e-42dc-ca9b-735733a22446"
   },
   "outputs": [
    {
     "data": {
      "text/plain": [
       "0       27000000\n",
       "1        3020000\n",
       "2       18310000\n",
       "3       12203000\n",
       "4       13070000\n",
       "          ...   \n",
       "1561    12510000\n",
       "1562     7400000\n",
       "1563    15440000\n",
       "1564    11530000\n",
       "1565    14170000\n",
       "Name: SalePrice, Length: 1559, dtype: int64"
      ]
     },
     "execution_count": 213,
     "metadata": {},
     "output_type": "execute_result"
    }
   ],
   "source": [
    "df2.SalePrice"
   ]
  },
  {
   "cell_type": "code",
   "execution_count": 214,
   "id": "1b604996",
   "metadata": {
    "colab": {
     "base_uri": "https://localhost:8080/"
    },
    "id": "1b604996",
    "outputId": "7aa3c900-36d2-421e-8d17-cb5677c73a70"
   },
   "outputs": [
    {
     "data": {
      "text/plain": [
       "15.815076972418217"
      ]
     },
     "execution_count": 214,
     "metadata": {},
     "output_type": "execute_result"
    }
   ],
   "source": [
    "# giá tiền trung bình 15tr\n",
    "df2.SalePrice.mean()/1000000"
   ]
  },
  {
   "cell_type": "code",
   "execution_count": 215,
   "id": "0c30f495",
   "metadata": {
    "id": "0c30f495"
   },
   "outputs": [],
   "source": [
    "# df2['SalePrice'].mean()"
   ]
  },
  {
   "cell_type": "code",
   "execution_count": 216,
   "id": "dd313ab6",
   "metadata": {
    "colab": {
     "base_uri": "https://localhost:8080/"
    },
    "id": "dd313ab6",
    "outputId": "fabb8fd0-193e-4e86-af81-bf2f0b5469ce"
   },
   "outputs": [
    {
     "data": {
      "text/plain": [
       "15815076.972418217"
      ]
     },
     "execution_count": 216,
     "metadata": {},
     "output_type": "execute_result"
    }
   ],
   "source": [
    "mean_price = df2['SalePrice'].mean()\n",
    "mean_price"
   ]
  },
  {
   "cell_type": "code",
   "execution_count": 217,
   "id": "772748ca",
   "metadata": {
    "colab": {
     "base_uri": "https://localhost:8080/"
    },
    "id": "772748ca",
    "outputId": "e2ad3cd8-1018-4b88-88dd-331dcfa97aa2"
   },
   "outputs": [
    {
     "data": {
      "text/plain": [
       "68977000"
      ]
     },
     "execution_count": 217,
     "metadata": {},
     "output_type": "execute_result"
    }
   ],
   "source": [
    "df2['SalePrice'].max()"
   ]
  },
  {
   "cell_type": "code",
   "execution_count": 218,
   "id": "6ba865cc",
   "metadata": {
    "colab": {
     "base_uri": "https://localhost:8080/",
     "height": 0
    },
    "id": "6ba865cc",
    "outputId": "a2bdd8c9-e30c-448a-e17b-3ab77e471284"
   },
   "outputs": [
    {
     "data": {
      "text/plain": [
       "<AxesSubplot:ylabel='Channel'>"
      ]
     },
     "execution_count": 218,
     "metadata": {},
     "output_type": "execute_result"
    },
    {
     "data": {
      "image/png": "[encoded data removed]",
      "text/plain": [
       "<Figure size 432x288 with 1 Axes>"
      ]
     },
     "metadata": {},
     "output_type": "display_data"
    }
   ],
   "source": [
    "df2[\"Channel\"].value_counts().plot(kind=\"pie\",autopct=\"%1.0f%%\")"
   ]
  },
  {
   "cell_type": "code",
   "execution_count": 219,
   "id": "84302425",
   "metadata": {
    "colab": {
     "base_uri": "https://localhost:8080/",
     "height": 0
    },
    "id": "84302425",
    "outputId": "a7e6c3b0-130e-4784-f298-6115aac59ccc"
   },
   "outputs": [
    {
     "data": {
      "text/plain": [
       "<AxesSubplot:ylabel='PaymentType'>"
      ]
     },
     "execution_count": 219,
     "metadata": {},
     "output_type": "execute_result"
    },
    {
     "data": {
      "image/png": "[encoded data removed]",
      "text/plain": [
       "<Figure size 432x288 with 1 Axes>"
      ]
     },
     "metadata": {},
     "output_type": "display_data"
    }
   ],
   "source": [
    "df2[\"PaymentType\"].value_counts().plot(kind=\"pie\",autopct=\"%1.0f%%\")"
   ]
  },
  {
   "cell_type": "code",
   "execution_count": 220,
   "id": "9765fc40",
   "metadata": {
    "colab": {
     "base_uri": "https://localhost:8080/",
     "height": 0
    },
    "id": "9765fc40",
    "outputId": "a76b8420-f937-4e5e-c270-d37afad24fc8"
   },
   "outputs": [
    {
     "data": {
      "text/plain": [
       "<AxesSubplot:ylabel='Brand'>"
      ]
     },
     "execution_count": 220,
     "metadata": {},
     "output_type": "execute_result"
    },
    {
     "data": {
      "image/png": "[encoded data removed]",
      "text/plain": [
       "<Figure size 432x288 with 1 Axes>"
      ]
     },
     "metadata": {},
     "output_type": "display_data"
    }
   ],
   "source": [
    "df2[\"Brand\"].value_counts().plot(kind=\"pie\",autopct=\"%1.0f%%\")"
   ]
  },
  {
   "cell_type": "code",
   "execution_count": 221,
   "id": "176de6ee",
   "metadata": {
    "colab": {
     "base_uri": "https://localhost:8080/",
     "height": 0
    },
    "id": "176de6ee",
    "outputId": "389103e5-031e-4a5a-ac9c-d204582c9ed6"
   },
   "outputs": [
    {
     "data": {
      "text/plain": [
       "<AxesSubplot:ylabel='Shop'>"
      ]
     },
     "execution_count": 221,
     "metadata": {},
     "output_type": "execute_result"
    },
    {
     "data": {
      "image/png": "[encoded data removed]",
      "text/plain": [
       "<Figure size 432x288 with 1 Axes>"
      ]
     },
     "metadata": {},
     "output_type": "display_data"
    }
   ],
   "source": [
    "df2[\"Shop\"].value_counts().plot(kind=\"pie\",autopct=\"%1.0f%%\")"
   ]
  },
  {
   "cell_type": "code",
   "execution_count": 222,
   "id": "bfae2151",
   "metadata": {
    "colab": {
     "base_uri": "https://localhost:8080/",
     "height": 0
    },
    "id": "bfae2151",
    "outputId": "25d55e73-e065-4335-ab67-caf0e1fe5ea6"
   },
   "outputs": [
    {
     "data": {
      "text/plain": [
       "<AxesSubplot:ylabel='Promotion'>"
      ]
     },
     "execution_count": 222,
     "metadata": {},
     "output_type": "execute_result"
    },
    {
     "data": {
      "image/png": "[encoded data removed]",
      "text/plain": [
       "<Figure size 432x288 with 1 Axes>"
      ]
     },
     "metadata": {},
     "output_type": "display_data"
    }
   ],
   "source": [
    "df2[\"Promotion\"].value_counts().plot(kind=\"pie\",autopct=\"%1.0f%%\")"
   ]
  },
  {
   "cell_type": "code",
   "execution_count": null,
   "id": "af0d5beb",
   "metadata": {
    "id": "af0d5beb"
   },
   "outputs": [],
   "source": []
  },
  {
   "cell_type": "markdown",
   "id": "ddba9056",
   "metadata": {
    "id": "ddba9056"
   },
   "source": [
    "## C. Data Preparation <a class=\"anchor\" id=\"C\"></a>"
   ]
  },
  {
   "cell_type": "markdown",
   "id": "5ebbb858",
   "metadata": {
    "id": "5ebbb858"
   },
   "source": [
    "## 1. Handle Missing Value <a class=\"anchor\" id=\"C1\"></a>"
   ]
  },
  {
   "cell_type": "markdown",
   "id": "ab1880d9",
   "metadata": {
    "id": "ab1880d9"
   },
   "source": [
    "Nhiệm vụ này chúng tôi xử dụng các nghiệp vụ sau:\n",
    "\n",
    "- Tại bảng2 (bảng Sale):\n",
    "\n",
    "- Xử lý 31 row có chứa NaN\n",
    "\n",
    "- Xử lý dữ liệu ngày\n",
    "\n",
    "- Drop col orderID (lý do drop trường orderID chúng tôi đã nêu ở Ideal Clean)\n",
    "\n",
    "- Merge 2 table\n",
    "\n",
    "- Xem xét NaN => Xử lý tiếp\n",
    "\n",
    "- Crosstable"
   ]
  },
  {
   "cell_type": "code",
   "execution_count": 223,
   "id": "7a4698e2",
   "metadata": {
    "colab": {
     "base_uri": "https://localhost:8080/",
     "height": 0
    },
    "id": "7a4698e2",
    "outputId": "e0423975-ef7c-4357-e4c4-798a6f85df23"
   },
   "outputs": [
    {
     "data": {
      "text/html": [
       "<div>\n",
       "<style scoped>\n",
       "    .dataframe tbody tr th:only-of-type {\n",
       "        vertical-align: middle;\n",
       "    }\n",
       "\n",
       "    .dataframe tbody tr th {\n",
       "        vertical-align: top;\n",
       "    }\n",
       "\n",
       "    .dataframe thead th {\n",
       "        text-align: right;\n",
       "    }\n",
       "</style>\n",
       "<table border=\"1\" class=\"dataframe\">\n",
       "  <thead>\n",
       "    <tr style=\"text-align: right;\">\n",
       "      <th></th>\n",
       "      <th>CustomerID</th>\n",
       "      <th>OrderID</th>\n",
       "      <th>Channel</th>\n",
       "      <th>PaymentType</th>\n",
       "      <th>Brand</th>\n",
       "      <th>Shop</th>\n",
       "      <th>Promotion</th>\n",
       "      <th>SalePrice</th>\n",
       "      <th>SaleDate</th>\n",
       "      <th>Reference</th>\n",
       "    </tr>\n",
       "  </thead>\n",
       "  <tbody>\n",
       "    <tr>\n",
       "      <th>0</th>\n",
       "      <td>CTM012</td>\n",
       "      <td>OTS015</td>\n",
       "      <td>Online</td>\n",
       "      <td>Thẻ</td>\n",
       "      <td>LenovoX1</td>\n",
       "      <td>Phong Vũ</td>\n",
       "      <td>Không</td>\n",
       "      <td>27000000</td>\n",
       "      <td>2020-04-23 00:00:00</td>\n",
       "      <td>NaN</td>\n",
       "    </tr>\n",
       "    <tr>\n",
       "      <th>1</th>\n",
       "      <td>CTM10164</td>\n",
       "      <td>OTS831</td>\n",
       "      <td>Offline</td>\n",
       "      <td>Tiền mặt</td>\n",
       "      <td>Apple</td>\n",
       "      <td>Viettel Store</td>\n",
       "      <td>Không</td>\n",
       "      <td>3020000</td>\n",
       "      <td>2020-08-03 00:00:00</td>\n",
       "      <td>Nhân viên cửa hàng bán Laptop</td>\n",
       "    </tr>\n",
       "    <tr>\n",
       "      <th>2</th>\n",
       "      <td>CTM10246</td>\n",
       "      <td>OTS293</td>\n",
       "      <td>Offline</td>\n",
       "      <td>Tiền mặt</td>\n",
       "      <td>Dell</td>\n",
       "      <td>FPT Shop</td>\n",
       "      <td>Có</td>\n",
       "      <td>18310000</td>\n",
       "      <td>2020-10-09 00:00:00</td>\n",
       "      <td>Nhân viên cửa hàng bán Laptop, Mạng xã hội, We...</td>\n",
       "    </tr>\n",
       "    <tr>\n",
       "      <th>3</th>\n",
       "      <td>CTM1028</td>\n",
       "      <td>OTS34756</td>\n",
       "      <td>Offline</td>\n",
       "      <td>Tiền mặt</td>\n",
       "      <td>MSI</td>\n",
       "      <td>Phong Vũ</td>\n",
       "      <td>Không</td>\n",
       "      <td>12203000</td>\n",
       "      <td>2020-05-24 00:00:00</td>\n",
       "      <td>Thông qua người thân, bạn bè, Nhân viên cửa hà...</td>\n",
       "    </tr>\n",
       "    <tr>\n",
       "      <th>4</th>\n",
       "      <td>CTM1028</td>\n",
       "      <td>OTS1044</td>\n",
       "      <td>Offline</td>\n",
       "      <td>Tiền mặt</td>\n",
       "      <td>Asus</td>\n",
       "      <td>Thế giới di động</td>\n",
       "      <td>Có</td>\n",
       "      <td>13070000</td>\n",
       "      <td>2020-10-08 00:00:00</td>\n",
       "      <td>Nhờ người có chuyên môn tư vấn</td>\n",
       "    </tr>\n",
       "  </tbody>\n",
       "</table>\n",
       "</div>"
      ],
      "text/plain": [
       "  CustomerID   OrderID  Channel PaymentType     Brand              Shop  \\\n",
       "0     CTM012    OTS015   Online         Thẻ  LenovoX1          Phong Vũ   \n",
       "1   CTM10164    OTS831  Offline    Tiền mặt     Apple     Viettel Store   \n",
       "2   CTM10246    OTS293  Offline    Tiền mặt      Dell          FPT Shop   \n",
       "3    CTM1028  OTS34756  Offline    Tiền mặt       MSI          Phong Vũ   \n",
       "4    CTM1028   OTS1044  Offline    Tiền mặt      Asus  Thế giới di động   \n",
       "\n",
       "  Promotion  SalePrice             SaleDate  \\\n",
       "0     Không   27000000  2020-04-23 00:00:00   \n",
       "1     Không    3020000  2020-08-03 00:00:00   \n",
       "2        Có   18310000  2020-10-09 00:00:00   \n",
       "3     Không   12203000  2020-05-24 00:00:00   \n",
       "4        Có   13070000  2020-10-08 00:00:00   \n",
       "\n",
       "                                           Reference  \n",
       "0                                                NaN  \n",
       "1                      Nhân viên cửa hàng bán Laptop  \n",
       "2  Nhân viên cửa hàng bán Laptop, Mạng xã hội, We...  \n",
       "3  Thông qua người thân, bạn bè, Nhân viên cửa hà...  \n",
       "4                     Nhờ người có chuyên môn tư vấn  "
      ]
     },
     "execution_count": 223,
     "metadata": {},
     "output_type": "execute_result"
    }
   ],
   "source": [
    "df2.head()"
   ]
  },
  {
   "cell_type": "code",
   "execution_count": 224,
   "id": "274bd18f",
   "metadata": {
    "colab": {
     "base_uri": "https://localhost:8080/",
     "height": 0
    },
    "id": "274bd18f",
    "outputId": "0c4eee81-1ef9-472d-c46f-e678f6621b5f"
   },
   "outputs": [
    {
     "data": {
      "text/html": [
       "<div>\n",
       "<style scoped>\n",
       "    .dataframe tbody tr th:only-of-type {\n",
       "        vertical-align: middle;\n",
       "    }\n",
       "\n",
       "    .dataframe tbody tr th {\n",
       "        vertical-align: top;\n",
       "    }\n",
       "\n",
       "    .dataframe thead th {\n",
       "        text-align: right;\n",
       "    }\n",
       "</style>\n",
       "<table border=\"1\" class=\"dataframe\">\n",
       "  <thead>\n",
       "    <tr style=\"text-align: right;\">\n",
       "      <th></th>\n",
       "      <th>CustomerID</th>\n",
       "      <th>OrderID</th>\n",
       "      <th>Channel</th>\n",
       "      <th>PaymentType</th>\n",
       "      <th>Brand</th>\n",
       "      <th>Shop</th>\n",
       "      <th>Promotion</th>\n",
       "      <th>SalePrice</th>\n",
       "      <th>SaleDate</th>\n",
       "      <th>Reference</th>\n",
       "    </tr>\n",
       "  </thead>\n",
       "  <tbody>\n",
       "    <tr>\n",
       "      <th>0</th>\n",
       "      <td>CTM012</td>\n",
       "      <td>OTS015</td>\n",
       "      <td>Online</td>\n",
       "      <td>Thẻ</td>\n",
       "      <td>LenovoX1</td>\n",
       "      <td>Phong Vũ</td>\n",
       "      <td>Không</td>\n",
       "      <td>27000000</td>\n",
       "      <td>2020-04-23 00:00:00</td>\n",
       "      <td>NaN</td>\n",
       "    </tr>\n",
       "    <tr>\n",
       "      <th>10</th>\n",
       "      <td>CTM10573</td>\n",
       "      <td>OTS51473</td>\n",
       "      <td>Online</td>\n",
       "      <td>Thẻ</td>\n",
       "      <td>Acer</td>\n",
       "      <td>NaN</td>\n",
       "      <td>Có</td>\n",
       "      <td>13513000</td>\n",
       "      <td>2020-03-10 00:00:00</td>\n",
       "      <td>Thông qua người thân, bạn bè, Nhờ người có chu...</td>\n",
       "    </tr>\n",
       "    <tr>\n",
       "      <th>45</th>\n",
       "      <td>CTM1234</td>\n",
       "      <td>OTS12</td>\n",
       "      <td>Online</td>\n",
       "      <td>Thẻ</td>\n",
       "      <td>DellXPS</td>\n",
       "      <td>FPT Shop</td>\n",
       "      <td>Không</td>\n",
       "      <td>15500000</td>\n",
       "      <td>2020-06-05 00:00:00</td>\n",
       "      <td>NaN</td>\n",
       "    </tr>\n",
       "    <tr>\n",
       "      <th>48</th>\n",
       "      <td>CTM12491</td>\n",
       "      <td>OTS512</td>\n",
       "      <td>Offline</td>\n",
       "      <td>Thẻ</td>\n",
       "      <td>NaN</td>\n",
       "      <td>Thế giới di động</td>\n",
       "      <td>Không</td>\n",
       "      <td>14700000</td>\n",
       "      <td>2020-12-10 00:00:00</td>\n",
       "      <td>Thông qua người thân, bạn bè, Nhân viên cửa hà...</td>\n",
       "    </tr>\n",
       "    <tr>\n",
       "      <th>90</th>\n",
       "      <td>CTM14696</td>\n",
       "      <td>NaN</td>\n",
       "      <td>Offline</td>\n",
       "      <td>Tiền mặt</td>\n",
       "      <td>MSI</td>\n",
       "      <td>Techcare</td>\n",
       "      <td>Có</td>\n",
       "      <td>9852000</td>\n",
       "      <td>2020-04-24 00:00:00</td>\n",
       "      <td>Thông qua người thân, bạn bè, Nhờ người có chu...</td>\n",
       "    </tr>\n",
       "    <tr>\n",
       "      <th>150</th>\n",
       "      <td>CTM18644</td>\n",
       "      <td>OTS30795</td>\n",
       "      <td>Online</td>\n",
       "      <td>Thẻ</td>\n",
       "      <td>Asus</td>\n",
       "      <td>NaN</td>\n",
       "      <td>Có</td>\n",
       "      <td>13105000</td>\n",
       "      <td>2020-06-14 00:00:00</td>\n",
       "      <td>Thông qua người thân, bạn bè, Nhân viên cửa hà...</td>\n",
       "    </tr>\n",
       "    <tr>\n",
       "      <th>185</th>\n",
       "      <td>CTM20230</td>\n",
       "      <td>OTS308</td>\n",
       "      <td>Online</td>\n",
       "      <td>Thẻ</td>\n",
       "      <td>Apple</td>\n",
       "      <td>Viettel Store</td>\n",
       "      <td>Có</td>\n",
       "      <td>33787000</td>\n",
       "      <td>2020-05-05 00:00:00</td>\n",
       "      <td>NaN</td>\n",
       "    </tr>\n",
       "    <tr>\n",
       "      <th>241</th>\n",
       "      <td>CTM23314</td>\n",
       "      <td>NaN</td>\n",
       "      <td>Offline</td>\n",
       "      <td>Tiền mặt</td>\n",
       "      <td>HP</td>\n",
       "      <td>Phong Vũ</td>\n",
       "      <td>Có</td>\n",
       "      <td>11107000</td>\n",
       "      <td>2020-10-03 00:00:00</td>\n",
       "      <td>Thông qua người thân, bạn bè</td>\n",
       "    </tr>\n",
       "    <tr>\n",
       "      <th>455</th>\n",
       "      <td>CTM36874</td>\n",
       "      <td>OTS38995</td>\n",
       "      <td>Online</td>\n",
       "      <td>Thẻ</td>\n",
       "      <td>HP</td>\n",
       "      <td>NaN</td>\n",
       "      <td>Có</td>\n",
       "      <td>12742000</td>\n",
       "      <td>2020-09-01 00:00:00</td>\n",
       "      <td>Nhờ người có chuyên môn tư vấn, Nhân viên cửa ...</td>\n",
       "    </tr>\n",
       "    <tr>\n",
       "      <th>540</th>\n",
       "      <td>CTM41481</td>\n",
       "      <td>OTS1061</td>\n",
       "      <td>Online</td>\n",
       "      <td>Thẻ</td>\n",
       "      <td>Asus</td>\n",
       "      <td>NaN</td>\n",
       "      <td>Không</td>\n",
       "      <td>19880000</td>\n",
       "      <td>2020-12-07 00:00:00</td>\n",
       "      <td>Nhờ người có chuyên môn tư vấn, Nhân viên cửa ...</td>\n",
       "    </tr>\n",
       "    <tr>\n",
       "      <th>550</th>\n",
       "      <td>CTM42049</td>\n",
       "      <td>OTS297</td>\n",
       "      <td>Offline</td>\n",
       "      <td>Thẻ</td>\n",
       "      <td>Apple</td>\n",
       "      <td>Viettel Store</td>\n",
       "      <td>Không</td>\n",
       "      <td>54510000</td>\n",
       "      <td>2020-06-22 00:00:00</td>\n",
       "      <td>NaN</td>\n",
       "    </tr>\n",
       "    <tr>\n",
       "      <th>619</th>\n",
       "      <td>CTM46088</td>\n",
       "      <td>OTS63760</td>\n",
       "      <td>Online</td>\n",
       "      <td>NaN</td>\n",
       "      <td>Acer</td>\n",
       "      <td>Viễn thông A</td>\n",
       "      <td>Có</td>\n",
       "      <td>9262000</td>\n",
       "      <td>2020-12-30 00:00:00</td>\n",
       "      <td>Nhờ người có chuyên môn tư vấn, Nhân viên cửa ...</td>\n",
       "    </tr>\n",
       "    <tr>\n",
       "      <th>727</th>\n",
       "      <td>CTM52837</td>\n",
       "      <td>NaN</td>\n",
       "      <td>Offline</td>\n",
       "      <td>Thẻ</td>\n",
       "      <td>MSI</td>\n",
       "      <td>Viễn thông A</td>\n",
       "      <td>Có</td>\n",
       "      <td>20305000</td>\n",
       "      <td>2020-08-15 00:00:00</td>\n",
       "      <td>Thông qua người thân, bạn bè, Nhờ người có chu...</td>\n",
       "    </tr>\n",
       "    <tr>\n",
       "      <th>768</th>\n",
       "      <td>CTM55484</td>\n",
       "      <td>NaN</td>\n",
       "      <td>Offline</td>\n",
       "      <td>Thẻ</td>\n",
       "      <td>HP</td>\n",
       "      <td>Viễn thông A</td>\n",
       "      <td>Có</td>\n",
       "      <td>12377000</td>\n",
       "      <td>2020-12-20 00:00:00</td>\n",
       "      <td>Thông qua người thân, bạn bè, Nhân viên cửa hà...</td>\n",
       "    </tr>\n",
       "    <tr>\n",
       "      <th>889</th>\n",
       "      <td>CTM62148</td>\n",
       "      <td>OTS17878</td>\n",
       "      <td>NaN</td>\n",
       "      <td>Thẻ</td>\n",
       "      <td>Asus</td>\n",
       "      <td>Viễn thông A</td>\n",
       "      <td>Không</td>\n",
       "      <td>12502000</td>\n",
       "      <td>2020-12-31 00:00:00</td>\n",
       "      <td>Thông qua người thân, bạn bè, Nhờ người có chu...</td>\n",
       "    </tr>\n",
       "    <tr>\n",
       "      <th>945</th>\n",
       "      <td>CTM65275</td>\n",
       "      <td>OTS95750</td>\n",
       "      <td>NaN</td>\n",
       "      <td>Thẻ</td>\n",
       "      <td>Acer</td>\n",
       "      <td>Techcare</td>\n",
       "      <td>Không</td>\n",
       "      <td>14670000</td>\n",
       "      <td>2020-12-30 00:00:00</td>\n",
       "      <td>Thông qua người thân, bạn bè, Nhân viên cửa hà...</td>\n",
       "    </tr>\n",
       "    <tr>\n",
       "      <th>970</th>\n",
       "      <td>CTM66453</td>\n",
       "      <td>OTS907</td>\n",
       "      <td>Online</td>\n",
       "      <td>Thẻ</td>\n",
       "      <td>HP</td>\n",
       "      <td>NaN</td>\n",
       "      <td>Không</td>\n",
       "      <td>17030000</td>\n",
       "      <td>2020-11-29 00:00:00</td>\n",
       "      <td>Thông qua người thân, bạn bè, Nhờ người có chu...</td>\n",
       "    </tr>\n",
       "    <tr>\n",
       "      <th>1058</th>\n",
       "      <td>CTM70782</td>\n",
       "      <td>OTS7086</td>\n",
       "      <td>NaN</td>\n",
       "      <td>NaN</td>\n",
       "      <td>HP</td>\n",
       "      <td>Điện máy xanh</td>\n",
       "      <td>Không</td>\n",
       "      <td>11277000</td>\n",
       "      <td>2020-12-29 00:00:00</td>\n",
       "      <td>Nhờ người có chuyên môn tư vấn</td>\n",
       "    </tr>\n",
       "    <tr>\n",
       "      <th>1247</th>\n",
       "      <td>CTM83049</td>\n",
       "      <td>NaN</td>\n",
       "      <td>Online</td>\n",
       "      <td>Thẻ</td>\n",
       "      <td>Asus</td>\n",
       "      <td>Viễn thông A</td>\n",
       "      <td>Có</td>\n",
       "      <td>10177000</td>\n",
       "      <td>2020-08-18 00:00:00</td>\n",
       "      <td>Thông qua người thân, bạn bè, Nhờ người có chu...</td>\n",
       "    </tr>\n",
       "    <tr>\n",
       "      <th>1353</th>\n",
       "      <td>CTM89943</td>\n",
       "      <td>NaN</td>\n",
       "      <td>Online</td>\n",
       "      <td>Thẻ</td>\n",
       "      <td>Asus</td>\n",
       "      <td>Viễn thông A</td>\n",
       "      <td>Có</td>\n",
       "      <td>13125000</td>\n",
       "      <td>2020-12-24 00:00:00</td>\n",
       "      <td>Nhờ người có chuyên môn tư vấn, Nhân viên cửa ...</td>\n",
       "    </tr>\n",
       "    <tr>\n",
       "      <th>1494</th>\n",
       "      <td>CTM96337</td>\n",
       "      <td>OTS43581</td>\n",
       "      <td>Offline</td>\n",
       "      <td>Tiền mặt</td>\n",
       "      <td>NaN</td>\n",
       "      <td>Techcare</td>\n",
       "      <td>Không</td>\n",
       "      <td>11876000</td>\n",
       "      <td>2020-12-09 00:00:00</td>\n",
       "      <td>Nhờ người có chuyên môn tư vấn, Nhân viên cửa ...</td>\n",
       "    </tr>\n",
       "    <tr>\n",
       "      <th>1502</th>\n",
       "      <td>CTM96612</td>\n",
       "      <td>NaN</td>\n",
       "      <td>Online</td>\n",
       "      <td>Thẻ</td>\n",
       "      <td>MSI</td>\n",
       "      <td>Viễn thông A</td>\n",
       "      <td>Không</td>\n",
       "      <td>14092000</td>\n",
       "      <td>2020-12-28 00:00:00</td>\n",
       "      <td>Thông qua người thân, bạn bè, Nhờ người có chu...</td>\n",
       "    </tr>\n",
       "    <tr>\n",
       "      <th>1558</th>\n",
       "      <td>NaN</td>\n",
       "      <td>OTS36486</td>\n",
       "      <td>Online</td>\n",
       "      <td>Thẻ</td>\n",
       "      <td>Asus</td>\n",
       "      <td>Điện máy xanh</td>\n",
       "      <td>Không</td>\n",
       "      <td>18600000</td>\n",
       "      <td>2020-12-21 00:00:00</td>\n",
       "      <td>Nhân viên cửa hàng bán Laptop</td>\n",
       "    </tr>\n",
       "    <tr>\n",
       "      <th>1559</th>\n",
       "      <td>NaN</td>\n",
       "      <td>OTS65519</td>\n",
       "      <td>Online</td>\n",
       "      <td>Thẻ</td>\n",
       "      <td>HP</td>\n",
       "      <td>Viễn thông A</td>\n",
       "      <td>Không</td>\n",
       "      <td>37743000</td>\n",
       "      <td>2020-12-25 00:00:00</td>\n",
       "      <td>Thông qua người thân, bạn bè, Nhân viên cửa hà...</td>\n",
       "    </tr>\n",
       "  </tbody>\n",
       "</table>\n",
       "</div>"
      ],
      "text/plain": [
       "     CustomerID   OrderID  Channel PaymentType     Brand              Shop  \\\n",
       "0        CTM012    OTS015   Online         Thẻ  LenovoX1          Phong Vũ   \n",
       "10     CTM10573  OTS51473   Online         Thẻ      Acer               NaN   \n",
       "45      CTM1234     OTS12   Online         Thẻ   DellXPS          FPT Shop   \n",
       "48     CTM12491    OTS512  Offline         Thẻ       NaN  Thế giới di động   \n",
       "90     CTM14696       NaN  Offline    Tiền mặt       MSI          Techcare   \n",
       "150    CTM18644  OTS30795   Online         Thẻ      Asus               NaN   \n",
       "185    CTM20230    OTS308   Online         Thẻ     Apple     Viettel Store   \n",
       "241    CTM23314       NaN  Offline    Tiền mặt        HP          Phong Vũ   \n",
       "455    CTM36874  OTS38995   Online         Thẻ        HP               NaN   \n",
       "540    CTM41481   OTS1061   Online         Thẻ      Asus               NaN   \n",
       "550    CTM42049    OTS297  Offline         Thẻ     Apple     Viettel Store   \n",
       "619    CTM46088  OTS63760   Online         NaN      Acer      Viễn thông A   \n",
       "727    CTM52837       NaN  Offline         Thẻ       MSI      Viễn thông A   \n",
       "768    CTM55484       NaN  Offline         Thẻ        HP      Viễn thông A   \n",
       "889    CTM62148  OTS17878      NaN         Thẻ      Asus      Viễn thông A   \n",
       "945    CTM65275  OTS95750      NaN         Thẻ      Acer          Techcare   \n",
       "970    CTM66453    OTS907   Online         Thẻ        HP               NaN   \n",
       "1058   CTM70782   OTS7086      NaN         NaN        HP     Điện máy xanh   \n",
       "1247   CTM83049       NaN   Online         Thẻ      Asus      Viễn thông A   \n",
       "1353   CTM89943       NaN   Online         Thẻ      Asus      Viễn thông A   \n",
       "1494   CTM96337  OTS43581  Offline    Tiền mặt       NaN          Techcare   \n",
       "1502   CTM96612       NaN   Online         Thẻ       MSI      Viễn thông A   \n",
       "1558        NaN  OTS36486   Online         Thẻ      Asus     Điện máy xanh   \n",
       "1559        NaN  OTS65519   Online         Thẻ        HP      Viễn thông A   \n",
       "\n",
       "     Promotion  SalePrice             SaleDate  \\\n",
       "0        Không   27000000  2020-04-23 00:00:00   \n",
       "10          Có   13513000  2020-03-10 00:00:00   \n",
       "45       Không   15500000  2020-06-05 00:00:00   \n",
       "48       Không   14700000  2020-12-10 00:00:00   \n",
       "90          Có    9852000  2020-04-24 00:00:00   \n",
       "150         Có   13105000  2020-06-14 00:00:00   \n",
       "185         Có   33787000  2020-05-05 00:00:00   \n",
       "241         Có   11107000  2020-10-03 00:00:00   \n",
       "455         Có   12742000  2020-09-01 00:00:00   \n",
       "540      Không   19880000  2020-12-07 00:00:00   \n",
       "550      Không   54510000  2020-06-22 00:00:00   \n",
       "619         Có    9262000  2020-12-30 00:00:00   \n",
       "727         Có   20305000  2020-08-15 00:00:00   \n",
       "768         Có   12377000  2020-12-20 00:00:00   \n",
       "889      Không   12502000  2020-12-31 00:00:00   \n",
       "945      Không   14670000  2020-12-30 00:00:00   \n",
       "970      Không   17030000  2020-11-29 00:00:00   \n",
       "1058     Không   11277000  2020-12-29 00:00:00   \n",
       "1247        Có   10177000  2020-08-18 00:00:00   \n",
       "1353        Có   13125000  2020-12-24 00:00:00   \n",
       "1494     Không   11876000  2020-12-09 00:00:00   \n",
       "1502     Không   14092000  2020-12-28 00:00:00   \n",
       "1558     Không   18600000  2020-12-21 00:00:00   \n",
       "1559     Không   37743000  2020-12-25 00:00:00   \n",
       "\n",
       "                                              Reference  \n",
       "0                                                   NaN  \n",
       "10    Thông qua người thân, bạn bè, Nhờ người có chu...  \n",
       "45                                                  NaN  \n",
       "48    Thông qua người thân, bạn bè, Nhân viên cửa hà...  \n",
       "90    Thông qua người thân, bạn bè, Nhờ người có chu...  \n",
       "150   Thông qua người thân, bạn bè, Nhân viên cửa hà...  \n",
       "185                                                 NaN  \n",
       "241                        Thông qua người thân, bạn bè  \n",
       "455   Nhờ người có chuyên môn tư vấn, Nhân viên cửa ...  \n",
       "540   Nhờ người có chuyên môn tư vấn, Nhân viên cửa ...  \n",
       "550                                                 NaN  \n",
       "619   Nhờ người có chuyên môn tư vấn, Nhân viên cửa ...  \n",
       "727   Thông qua người thân, bạn bè, Nhờ người có chu...  \n",
       "768   Thông qua người thân, bạn bè, Nhân viên cửa hà...  \n",
       "889   Thông qua người thân, bạn bè, Nhờ người có chu...  \n",
       "945   Thông qua người thân, bạn bè, Nhân viên cửa hà...  \n",
       "970   Thông qua người thân, bạn bè, Nhờ người có chu...  \n",
       "1058                     Nhờ người có chuyên môn tư vấn  \n",
       "1247  Thông qua người thân, bạn bè, Nhờ người có chu...  \n",
       "1353  Nhờ người có chuyên môn tư vấn, Nhân viên cửa ...  \n",
       "1494  Nhờ người có chuyên môn tư vấn, Nhân viên cửa ...  \n",
       "1502  Thông qua người thân, bạn bè, Nhờ người có chu...  \n",
       "1558                      Nhân viên cửa hàng bán Laptop  \n",
       "1559  Thông qua người thân, bạn bè, Nhân viên cửa hà...  "
      ]
     },
     "execution_count": 224,
     "metadata": {},
     "output_type": "execute_result"
    }
   ],
   "source": [
    "df2[df2.isna().any(axis=1)]"
   ]
  },
  {
   "cell_type": "code",
   "execution_count": 225,
   "id": "9b7afa8d",
   "metadata": {
    "colab": {
     "base_uri": "https://localhost:8080/"
    },
    "id": "9b7afa8d",
    "outputId": "46e89f3f-028f-44c9-d4d9-5fd406b66ae8"
   },
   "outputs": [
    {
     "data": {
      "text/plain": [
       "24"
      ]
     },
     "execution_count": 225,
     "metadata": {},
     "output_type": "execute_result"
    }
   ],
   "source": [
    "# Số ô NaN\n",
    "df_NaN = df2[df2.isna().any(axis=1)]\n",
    "df_NaN.shape[0]"
   ]
  },
  {
   "cell_type": "markdown",
   "id": "20c735ff",
   "metadata": {
    "id": "20c735ff"
   },
   "source": [
    "### xử lý nan dựa trên ideal clean ở trên"
   ]
  },
  {
   "cell_type": "code",
   "execution_count": 226,
   "id": "31865fc6",
   "metadata": {
    "id": "31865fc6"
   },
   "outputs": [],
   "source": [
    "# df2 = df2[df2['CustomerID'].notna()] # drop customerID with NaN\n",
    "# df.drop(df.columns[\"OrderID\"],axis=1,inplace=True)\n",
    "df2.drop(columns=[\"OrderID\"],axis=1,inplace=True)\n",
    "df2[\"Channel\"].fillna('Online', inplace=True)\n",
    "df2[\"PaymentType\"].fillna('Thẻ', inplace=True)\n",
    "df2[\"Brand\"].fillna('Asus', inplace=True)\n",
    "df2[\"Shop\"].fillna('FPT Shop', inplace=True)\n",
    "df2[\"SalePrice\"].fillna(mean_price, inplace=True)\n",
    "df2[\"Reference\"].fillna(\"Thông qua người thân, bạn bè, Nhân viên cửa hàng bán Laptop\", inplace=True)"
   ]
  },
  {
   "cell_type": "code",
   "execution_count": 227,
   "id": "93e904e6",
   "metadata": {
    "colab": {
     "base_uri": "https://localhost:8080/"
    },
    "id": "93e904e6",
    "outputId": "1b56b091-61ca-4813-f64a-8128088cfc9c"
   },
   "outputs": [
    {
     "data": {
      "text/plain": [
       "2"
      ]
     },
     "execution_count": 227,
     "metadata": {},
     "output_type": "execute_result"
    }
   ],
   "source": [
    "df_NaN = df2[df2.isna().any(axis=1)]\n",
    "df_NaN.shape[0]"
   ]
  },
  {
   "cell_type": "code",
   "execution_count": 228,
   "id": "303bc4ec",
   "metadata": {
    "colab": {
     "base_uri": "https://localhost:8080/",
     "height": 0
    },
    "id": "303bc4ec",
    "outputId": "5c9a0c71-3697-4513-972a-b88b627701b0"
   },
   "outputs": [
    {
     "data": {
      "text/html": [
       "<div>\n",
       "<style scoped>\n",
       "    .dataframe tbody tr th:only-of-type {\n",
       "        vertical-align: middle;\n",
       "    }\n",
       "\n",
       "    .dataframe tbody tr th {\n",
       "        vertical-align: top;\n",
       "    }\n",
       "\n",
       "    .dataframe thead th {\n",
       "        text-align: right;\n",
       "    }\n",
       "</style>\n",
       "<table border=\"1\" class=\"dataframe\">\n",
       "  <thead>\n",
       "    <tr style=\"text-align: right;\">\n",
       "      <th></th>\n",
       "      <th>CustomerID</th>\n",
       "      <th>Channel</th>\n",
       "      <th>PaymentType</th>\n",
       "      <th>Brand</th>\n",
       "      <th>Shop</th>\n",
       "      <th>Promotion</th>\n",
       "      <th>SalePrice</th>\n",
       "      <th>SaleDate</th>\n",
       "      <th>Reference</th>\n",
       "    </tr>\n",
       "  </thead>\n",
       "  <tbody>\n",
       "    <tr>\n",
       "      <th>1558</th>\n",
       "      <td>NaN</td>\n",
       "      <td>Online</td>\n",
       "      <td>Thẻ</td>\n",
       "      <td>Asus</td>\n",
       "      <td>Điện máy xanh</td>\n",
       "      <td>Không</td>\n",
       "      <td>18600000</td>\n",
       "      <td>2020-12-21 00:00:00</td>\n",
       "      <td>Nhân viên cửa hàng bán Laptop</td>\n",
       "    </tr>\n",
       "    <tr>\n",
       "      <th>1559</th>\n",
       "      <td>NaN</td>\n",
       "      <td>Online</td>\n",
       "      <td>Thẻ</td>\n",
       "      <td>HP</td>\n",
       "      <td>Viễn thông A</td>\n",
       "      <td>Không</td>\n",
       "      <td>37743000</td>\n",
       "      <td>2020-12-25 00:00:00</td>\n",
       "      <td>Thông qua người thân, bạn bè, Nhân viên cửa hà...</td>\n",
       "    </tr>\n",
       "  </tbody>\n",
       "</table>\n",
       "</div>"
      ],
      "text/plain": [
       "     CustomerID Channel PaymentType Brand           Shop Promotion  SalePrice  \\\n",
       "1558        NaN  Online         Thẻ  Asus  Điện máy xanh     Không   18600000   \n",
       "1559        NaN  Online         Thẻ    HP   Viễn thông A     Không   37743000   \n",
       "\n",
       "                 SaleDate                                          Reference  \n",
       "1558  2020-12-21 00:00:00                      Nhân viên cửa hàng bán Laptop  \n",
       "1559  2020-12-25 00:00:00  Thông qua người thân, bạn bè, Nhân viên cửa hà...  "
      ]
     },
     "execution_count": 228,
     "metadata": {},
     "output_type": "execute_result"
    }
   ],
   "source": [
    "df2[df2.isna().any(axis=1)]"
   ]
  },
  {
   "cell_type": "code",
   "execution_count": 229,
   "id": "50bb5f42",
   "metadata": {
    "id": "50bb5f42"
   },
   "outputs": [],
   "source": [
    "df2 = df2.drop([1564,1565])"
   ]
  },
  {
   "cell_type": "code",
   "execution_count": 230,
   "id": "ddbd0611",
   "metadata": {
    "colab": {
     "base_uri": "https://localhost:8080/",
     "height": 0
    },
    "id": "ddbd0611",
    "outputId": "b6204b73-170c-4b13-90d7-177004a9fccb"
   },
   "outputs": [
    {
     "data": {
      "text/html": [
       "<div>\n",
       "<style scoped>\n",
       "    .dataframe tbody tr th:only-of-type {\n",
       "        vertical-align: middle;\n",
       "    }\n",
       "\n",
       "    .dataframe tbody tr th {\n",
       "        vertical-align: top;\n",
       "    }\n",
       "\n",
       "    .dataframe thead th {\n",
       "        text-align: right;\n",
       "    }\n",
       "</style>\n",
       "<table border=\"1\" class=\"dataframe\">\n",
       "  <thead>\n",
       "    <tr style=\"text-align: right;\">\n",
       "      <th></th>\n",
       "      <th>CustomerID</th>\n",
       "      <th>Channel</th>\n",
       "      <th>PaymentType</th>\n",
       "      <th>Brand</th>\n",
       "      <th>Shop</th>\n",
       "      <th>Promotion</th>\n",
       "      <th>SalePrice</th>\n",
       "      <th>SaleDate</th>\n",
       "      <th>Reference</th>\n",
       "    </tr>\n",
       "  </thead>\n",
       "  <tbody>\n",
       "    <tr>\n",
       "      <th>1558</th>\n",
       "      <td>NaN</td>\n",
       "      <td>Online</td>\n",
       "      <td>Thẻ</td>\n",
       "      <td>Asus</td>\n",
       "      <td>Điện máy xanh</td>\n",
       "      <td>Không</td>\n",
       "      <td>18600000</td>\n",
       "      <td>2020-12-21 00:00:00</td>\n",
       "      <td>Nhân viên cửa hàng bán Laptop</td>\n",
       "    </tr>\n",
       "    <tr>\n",
       "      <th>1559</th>\n",
       "      <td>NaN</td>\n",
       "      <td>Online</td>\n",
       "      <td>Thẻ</td>\n",
       "      <td>HP</td>\n",
       "      <td>Viễn thông A</td>\n",
       "      <td>Không</td>\n",
       "      <td>37743000</td>\n",
       "      <td>2020-12-25 00:00:00</td>\n",
       "      <td>Thông qua người thân, bạn bè, Nhân viên cửa hà...</td>\n",
       "    </tr>\n",
       "  </tbody>\n",
       "</table>\n",
       "</div>"
      ],
      "text/plain": [
       "     CustomerID Channel PaymentType Brand           Shop Promotion  SalePrice  \\\n",
       "1558        NaN  Online         Thẻ  Asus  Điện máy xanh     Không   18600000   \n",
       "1559        NaN  Online         Thẻ    HP   Viễn thông A     Không   37743000   \n",
       "\n",
       "                 SaleDate                                          Reference  \n",
       "1558  2020-12-21 00:00:00                      Nhân viên cửa hàng bán Laptop  \n",
       "1559  2020-12-25 00:00:00  Thông qua người thân, bạn bè, Nhân viên cửa hà...  "
      ]
     },
     "execution_count": 230,
     "metadata": {},
     "output_type": "execute_result"
    }
   ],
   "source": [
    "df2[df2.isna().any(axis=1)]"
   ]
  },
  {
   "cell_type": "code",
   "execution_count": 231,
   "id": "0ba74a31",
   "metadata": {
    "colab": {
     "base_uri": "https://localhost:8080/"
    },
    "id": "0ba74a31",
    "outputId": "f330eb4f-0b00-4f2b-b8db-b58feb84bb78"
   },
   "outputs": [
    {
     "data": {
      "text/plain": [
       "2"
      ]
     },
     "execution_count": 231,
     "metadata": {},
     "output_type": "execute_result"
    }
   ],
   "source": [
    "df_NaN = df2[df2.isna().any(axis=1)]\n",
    "df_NaN.shape[0]"
   ]
  },
  {
   "cell_type": "code",
   "execution_count": 232,
   "id": "84a3f411",
   "metadata": {},
   "outputs": [
    {
     "data": {
      "image/png": "[encoded data removed]",
      "text/plain": [
       "<Figure size 432x288 with 1 Axes>"
      ]
     },
     "metadata": {},
     "output_type": "display_data"
    }
   ],
   "source": [
    "# Phan phoi gia +> tap trung nhieu o 10 tr\n",
    "plt.hist(df2[\"SalePrice\"], bins=10)\n",
    "plt.show()"
   ]
  },
  {
   "cell_type": "markdown",
   "id": "54e006ec",
   "metadata": {
    "id": "54e006ec"
   },
   "source": [
    "## 2. Merge Two Table<a class=\"anchor\" id=\"C2\"></a>"
   ]
  },
  {
   "cell_type": "code",
   "execution_count": 233,
   "id": "7a061f72",
   "metadata": {
    "colab": {
     "base_uri": "https://localhost:8080/",
     "height": 0
    },
    "id": "7a061f72",
    "outputId": "23ca1873-daf5-451d-c7a6-2bbdceb3e5c3"
   },
   "outputs": [
    {
     "data": {
      "text/html": [
       "<div>\n",
       "<style scoped>\n",
       "    .dataframe tbody tr th:only-of-type {\n",
       "        vertical-align: middle;\n",
       "    }\n",
       "\n",
       "    .dataframe tbody tr th {\n",
       "        vertical-align: top;\n",
       "    }\n",
       "\n",
       "    .dataframe thead th {\n",
       "        text-align: right;\n",
       "    }\n",
       "</style>\n",
       "<table border=\"1\" class=\"dataframe\">\n",
       "  <thead>\n",
       "    <tr style=\"text-align: right;\">\n",
       "      <th></th>\n",
       "      <th>CustomerID</th>\n",
       "      <th>Channel</th>\n",
       "      <th>PaymentType</th>\n",
       "      <th>Brand</th>\n",
       "      <th>Shop</th>\n",
       "      <th>Promotion</th>\n",
       "      <th>SalePrice</th>\n",
       "      <th>SaleDate</th>\n",
       "      <th>Reference</th>\n",
       "    </tr>\n",
       "  </thead>\n",
       "  <tbody>\n",
       "    <tr>\n",
       "      <th>0</th>\n",
       "      <td>CTM012</td>\n",
       "      <td>Online</td>\n",
       "      <td>Thẻ</td>\n",
       "      <td>LenovoX1</td>\n",
       "      <td>Phong Vũ</td>\n",
       "      <td>Không</td>\n",
       "      <td>27000000</td>\n",
       "      <td>2020-04-23 00:00:00</td>\n",
       "      <td>Thông qua người thân, bạn bè, Nhân viên cửa hà...</td>\n",
       "    </tr>\n",
       "    <tr>\n",
       "      <th>1</th>\n",
       "      <td>CTM10164</td>\n",
       "      <td>Offline</td>\n",
       "      <td>Tiền mặt</td>\n",
       "      <td>Apple</td>\n",
       "      <td>Viettel Store</td>\n",
       "      <td>Không</td>\n",
       "      <td>3020000</td>\n",
       "      <td>2020-08-03 00:00:00</td>\n",
       "      <td>Nhân viên cửa hàng bán Laptop</td>\n",
       "    </tr>\n",
       "    <tr>\n",
       "      <th>2</th>\n",
       "      <td>CTM10246</td>\n",
       "      <td>Offline</td>\n",
       "      <td>Tiền mặt</td>\n",
       "      <td>Dell</td>\n",
       "      <td>FPT Shop</td>\n",
       "      <td>Có</td>\n",
       "      <td>18310000</td>\n",
       "      <td>2020-10-09 00:00:00</td>\n",
       "      <td>Nhân viên cửa hàng bán Laptop, Mạng xã hội, We...</td>\n",
       "    </tr>\n",
       "    <tr>\n",
       "      <th>3</th>\n",
       "      <td>CTM1028</td>\n",
       "      <td>Offline</td>\n",
       "      <td>Tiền mặt</td>\n",
       "      <td>MSI</td>\n",
       "      <td>Phong Vũ</td>\n",
       "      <td>Không</td>\n",
       "      <td>12203000</td>\n",
       "      <td>2020-05-24 00:00:00</td>\n",
       "      <td>Thông qua người thân, bạn bè, Nhân viên cửa hà...</td>\n",
       "    </tr>\n",
       "    <tr>\n",
       "      <th>4</th>\n",
       "      <td>CTM1028</td>\n",
       "      <td>Offline</td>\n",
       "      <td>Tiền mặt</td>\n",
       "      <td>Asus</td>\n",
       "      <td>Thế giới di động</td>\n",
       "      <td>Có</td>\n",
       "      <td>13070000</td>\n",
       "      <td>2020-10-08 00:00:00</td>\n",
       "      <td>Nhờ người có chuyên môn tư vấn</td>\n",
       "    </tr>\n",
       "    <tr>\n",
       "      <th>...</th>\n",
       "      <td>...</td>\n",
       "      <td>...</td>\n",
       "      <td>...</td>\n",
       "      <td>...</td>\n",
       "      <td>...</td>\n",
       "      <td>...</td>\n",
       "      <td>...</td>\n",
       "      <td>...</td>\n",
       "      <td>...</td>\n",
       "    </tr>\n",
       "    <tr>\n",
       "      <th>1559</th>\n",
       "      <td>NaN</td>\n",
       "      <td>Online</td>\n",
       "      <td>Thẻ</td>\n",
       "      <td>HP</td>\n",
       "      <td>Viễn thông A</td>\n",
       "      <td>Không</td>\n",
       "      <td>37743000</td>\n",
       "      <td>2020-12-25 00:00:00</td>\n",
       "      <td>Thông qua người thân, bạn bè, Nhân viên cửa hà...</td>\n",
       "    </tr>\n",
       "    <tr>\n",
       "      <th>1560</th>\n",
       "      <td>CTM28612</td>\n",
       "      <td>Offline</td>\n",
       "      <td>Tiền mặt</td>\n",
       "      <td>HP</td>\n",
       "      <td>Phong Vũ</td>\n",
       "      <td>Có</td>\n",
       "      <td>12981000</td>\n",
       "      <td>2020-03-02 00:00:00</td>\n",
       "      <td>Nhờ người có chuyên môn tư vấn</td>\n",
       "    </tr>\n",
       "    <tr>\n",
       "      <th>1561</th>\n",
       "      <td>CTM36125</td>\n",
       "      <td>Online</td>\n",
       "      <td>Thẻ</td>\n",
       "      <td>Dell</td>\n",
       "      <td>FPT Shop</td>\n",
       "      <td>Không</td>\n",
       "      <td>12510000</td>\n",
       "      <td>9/31/2020</td>\n",
       "      <td>Thông qua người thân, bạn bè</td>\n",
       "    </tr>\n",
       "    <tr>\n",
       "      <th>1562</th>\n",
       "      <td>CTM57399</td>\n",
       "      <td>Online</td>\n",
       "      <td>Thẻ</td>\n",
       "      <td>Asus</td>\n",
       "      <td>Nguyễn Kim</td>\n",
       "      <td>Có</td>\n",
       "      <td>7400000</td>\n",
       "      <td>2020-06-25 00:00:00</td>\n",
       "      <td>Nhân viên cửa hàng bán Laptop</td>\n",
       "    </tr>\n",
       "    <tr>\n",
       "      <th>1563</th>\n",
       "      <td>CTM65862</td>\n",
       "      <td>Offline</td>\n",
       "      <td>Thẻ</td>\n",
       "      <td>Lenovo</td>\n",
       "      <td>FPT Shop</td>\n",
       "      <td>Có</td>\n",
       "      <td>15440000</td>\n",
       "      <td>2020-03-02 00:00:00</td>\n",
       "      <td>Nhờ người có chuyên môn tư vấn</td>\n",
       "    </tr>\n",
       "  </tbody>\n",
       "</table>\n",
       "<p>1557 rows × 9 columns</p>\n",
       "</div>"
      ],
      "text/plain": [
       "     CustomerID  Channel PaymentType     Brand              Shop Promotion  \\\n",
       "0        CTM012   Online         Thẻ  LenovoX1          Phong Vũ     Không   \n",
       "1      CTM10164  Offline    Tiền mặt     Apple     Viettel Store     Không   \n",
       "2      CTM10246  Offline    Tiền mặt      Dell          FPT Shop        Có   \n",
       "3       CTM1028  Offline    Tiền mặt       MSI          Phong Vũ     Không   \n",
       "4       CTM1028  Offline    Tiền mặt      Asus  Thế giới di động        Có   \n",
       "...         ...      ...         ...       ...               ...       ...   \n",
       "1559        NaN   Online         Thẻ        HP      Viễn thông A     Không   \n",
       "1560   CTM28612  Offline    Tiền mặt        HP          Phong Vũ        Có   \n",
       "1561   CTM36125   Online         Thẻ      Dell          FPT Shop     Không   \n",
       "1562   CTM57399   Online         Thẻ      Asus        Nguyễn Kim        Có   \n",
       "1563   CTM65862  Offline         Thẻ    Lenovo          FPT Shop        Có   \n",
       "\n",
       "      SalePrice             SaleDate  \\\n",
       "0      27000000  2020-04-23 00:00:00   \n",
       "1       3020000  2020-08-03 00:00:00   \n",
       "2      18310000  2020-10-09 00:00:00   \n",
       "3      12203000  2020-05-24 00:00:00   \n",
       "4      13070000  2020-10-08 00:00:00   \n",
       "...         ...                  ...   \n",
       "1559   37743000  2020-12-25 00:00:00   \n",
       "1560   12981000  2020-03-02 00:00:00   \n",
       "1561   12510000            9/31/2020   \n",
       "1562    7400000  2020-06-25 00:00:00   \n",
       "1563   15440000  2020-03-02 00:00:00   \n",
       "\n",
       "                                              Reference  \n",
       "0     Thông qua người thân, bạn bè, Nhân viên cửa hà...  \n",
       "1                         Nhân viên cửa hàng bán Laptop  \n",
       "2     Nhân viên cửa hàng bán Laptop, Mạng xã hội, We...  \n",
       "3     Thông qua người thân, bạn bè, Nhân viên cửa hà...  \n",
       "4                        Nhờ người có chuyên môn tư vấn  \n",
       "...                                                 ...  \n",
       "1559  Thông qua người thân, bạn bè, Nhân viên cửa hà...  \n",
       "1560                     Nhờ người có chuyên môn tư vấn  \n",
       "1561                       Thông qua người thân, bạn bè  \n",
       "1562                      Nhân viên cửa hàng bán Laptop  \n",
       "1563                     Nhờ người có chuyên môn tư vấn  \n",
       "\n",
       "[1557 rows x 9 columns]"
      ]
     },
     "execution_count": 233,
     "metadata": {},
     "output_type": "execute_result"
    }
   ],
   "source": [
    "df2"
   ]
  },
  {
   "cell_type": "code",
   "execution_count": 234,
   "id": "265343eb",
   "metadata": {
    "colab": {
     "base_uri": "https://localhost:8080/",
     "height": 0
    },
    "id": "265343eb",
    "outputId": "2a1806c4-3526-4a66-e8a1-14a02d2785e7",
    "scrolled": true
   },
   "outputs": [
    {
     "data": {
      "text/html": [
       "<div>\n",
       "<style scoped>\n",
       "    .dataframe tbody tr th:only-of-type {\n",
       "        vertical-align: middle;\n",
       "    }\n",
       "\n",
       "    .dataframe tbody tr th {\n",
       "        vertical-align: top;\n",
       "    }\n",
       "\n",
       "    .dataframe thead th {\n",
       "        text-align: right;\n",
       "    }\n",
       "</style>\n",
       "<table border=\"1\" class=\"dataframe\">\n",
       "  <thead>\n",
       "    <tr style=\"text-align: right;\">\n",
       "      <th></th>\n",
       "      <th>KH_ID</th>\n",
       "      <th>GioiTinh</th>\n",
       "      <th>QueQuan</th>\n",
       "      <th>NamHocThu</th>\n",
       "      <th>ChuyenNganh</th>\n",
       "      <th>NgheNghiepGiaDinh</th>\n",
       "      <th>ChiTieuHangThang</th>\n",
       "      <th>ThoiGianSuDung</th>\n",
       "      <th>MucDichSuDungLaptop</th>\n",
       "      <th>MucDoHaiLong</th>\n",
       "      <th>YeuToThuongHieuSP</th>\n",
       "      <th>YeuToCauHinh</th>\n",
       "      <th>YeuToTocDoXuLy</th>\n",
       "      <th>YeuToGia</th>\n",
       "      <th>YeuToThietKe</th>\n",
       "      <th>YeuToUyTinNhaBanle</th>\n",
       "      <th>YeuToBaoMat</th>\n",
       "      <th>YeuToBaoHanh</th>\n",
       "      <th>YeuToKhuyenMai</th>\n",
       "    </tr>\n",
       "  </thead>\n",
       "  <tbody>\n",
       "    <tr>\n",
       "      <th>0</th>\n",
       "      <td>CTM10164</td>\n",
       "      <td>Nam</td>\n",
       "      <td>Quảng Trị</td>\n",
       "      <td>Năm 2</td>\n",
       "      <td>Luật kinh tế</td>\n",
       "      <td>Nông dân</td>\n",
       "      <td>Từ 1.500.000 đến 3.000.000</td>\n",
       "      <td>Từ 6 tháng - 1 năm</td>\n",
       "      <td>Học tập, Làm việc, Chơi game, Giải trí (xem ph...</td>\n",
       "      <td>5</td>\n",
       "      <td>3</td>\n",
       "      <td>3</td>\n",
       "      <td>3</td>\n",
       "      <td>3</td>\n",
       "      <td>3</td>\n",
       "      <td>3</td>\n",
       "      <td>3</td>\n",
       "      <td>3</td>\n",
       "      <td>3</td>\n",
       "    </tr>\n",
       "    <tr>\n",
       "      <th>1</th>\n",
       "      <td>CTM10246</td>\n",
       "      <td>Nam</td>\n",
       "      <td>Đà Nẵng</td>\n",
       "      <td>Năm 4</td>\n",
       "      <td>Hệ thống thông tin quản lý</td>\n",
       "      <td>Kinh doanh tự do</td>\n",
       "      <td>Từ 3.000.000 đến 5.000.000</td>\n",
       "      <td>Trên 2 năm</td>\n",
       "      <td>Học tập, Làm việc, Chơi game</td>\n",
       "      <td>4</td>\n",
       "      <td>4</td>\n",
       "      <td>5</td>\n",
       "      <td>5</td>\n",
       "      <td>4</td>\n",
       "      <td>3</td>\n",
       "      <td>4</td>\n",
       "      <td>1</td>\n",
       "      <td>5</td>\n",
       "      <td>5</td>\n",
       "    </tr>\n",
       "    <tr>\n",
       "      <th>2</th>\n",
       "      <td>CTM1028</td>\n",
       "      <td>Nữ</td>\n",
       "      <td>Nghệ An</td>\n",
       "      <td>Năm 3</td>\n",
       "      <td>Thương mại điện tử</td>\n",
       "      <td>Nông dân</td>\n",
       "      <td>Từ 1.500.000 đến 3.000.000</td>\n",
       "      <td>Trên 2 năm</td>\n",
       "      <td>Học tập, Làm việc</td>\n",
       "      <td>4</td>\n",
       "      <td>4</td>\n",
       "      <td>3</td>\n",
       "      <td>4</td>\n",
       "      <td>4</td>\n",
       "      <td>3</td>\n",
       "      <td>4</td>\n",
       "      <td>2</td>\n",
       "      <td>4</td>\n",
       "      <td>4</td>\n",
       "    </tr>\n",
       "    <tr>\n",
       "      <th>3</th>\n",
       "      <td>CTM10516</td>\n",
       "      <td>Nam</td>\n",
       "      <td>Gia Lai</td>\n",
       "      <td>Năm 2</td>\n",
       "      <td>Thương mại</td>\n",
       "      <td>Nông dân</td>\n",
       "      <td>Từ 1.500.000 đến 3.000.000</td>\n",
       "      <td>Từ 1 năm đến 2 năm</td>\n",
       "      <td>Học tập, Làm việc, Giải trí (xem phim, nghe nh...</td>\n",
       "      <td>4</td>\n",
       "      <td>3</td>\n",
       "      <td>4</td>\n",
       "      <td>4</td>\n",
       "      <td>3</td>\n",
       "      <td>2</td>\n",
       "      <td>3</td>\n",
       "      <td>3</td>\n",
       "      <td>4</td>\n",
       "      <td>2</td>\n",
       "    </tr>\n",
       "    <tr>\n",
       "      <th>4</th>\n",
       "      <td>CTM10573</td>\n",
       "      <td>Nam</td>\n",
       "      <td>Thừa Thiên Huế</td>\n",
       "      <td>Năm 4</td>\n",
       "      <td>Tài chính doanh nghiệp</td>\n",
       "      <td>Nông dân</td>\n",
       "      <td>Từ 1.500.000 đến 3.000.000</td>\n",
       "      <td>Trên 2 năm</td>\n",
       "      <td>Học tập, Làm việc</td>\n",
       "      <td>3</td>\n",
       "      <td>3</td>\n",
       "      <td>4</td>\n",
       "      <td>3</td>\n",
       "      <td>4</td>\n",
       "      <td>1</td>\n",
       "      <td>4</td>\n",
       "      <td>1</td>\n",
       "      <td>3</td>\n",
       "      <td>4</td>\n",
       "    </tr>\n",
       "    <tr>\n",
       "      <th>...</th>\n",
       "      <td>...</td>\n",
       "      <td>...</td>\n",
       "      <td>...</td>\n",
       "      <td>...</td>\n",
       "      <td>...</td>\n",
       "      <td>...</td>\n",
       "      <td>...</td>\n",
       "      <td>...</td>\n",
       "      <td>...</td>\n",
       "      <td>...</td>\n",
       "      <td>...</td>\n",
       "      <td>...</td>\n",
       "      <td>...</td>\n",
       "      <td>...</td>\n",
       "      <td>...</td>\n",
       "      <td>...</td>\n",
       "      <td>...</td>\n",
       "      <td>...</td>\n",
       "      <td>...</td>\n",
       "    </tr>\n",
       "    <tr>\n",
       "      <th>1095</th>\n",
       "      <td>CTM99547</td>\n",
       "      <td>Nam</td>\n",
       "      <td>Quảng Trị</td>\n",
       "      <td>Năm 1</td>\n",
       "      <td>Hệ thống thông tin quản lý</td>\n",
       "      <td>Nông dân</td>\n",
       "      <td>Từ 1.500.000 đến 3.000.000</td>\n",
       "      <td>Dưới 6 tháng</td>\n",
       "      <td>Học tập, Chơi game, Giải trí (xem phim, nghe n...</td>\n",
       "      <td>4</td>\n",
       "      <td>2</td>\n",
       "      <td>5</td>\n",
       "      <td>5</td>\n",
       "      <td>4</td>\n",
       "      <td>2</td>\n",
       "      <td>2</td>\n",
       "      <td>1</td>\n",
       "      <td>3</td>\n",
       "      <td>4</td>\n",
       "    </tr>\n",
       "    <tr>\n",
       "      <th>1096</th>\n",
       "      <td>CTM9971</td>\n",
       "      <td>Nữ</td>\n",
       "      <td>Hồ Chí Minh</td>\n",
       "      <td>Năm 3</td>\n",
       "      <td>Kế toán</td>\n",
       "      <td>Nông dân</td>\n",
       "      <td>Dưới 1.500.000</td>\n",
       "      <td>Từ 6 tháng - 1 năm</td>\n",
       "      <td>Học tập, Làm việc, Giải trí (xem phim, nghe nh...</td>\n",
       "      <td>4</td>\n",
       "      <td>3</td>\n",
       "      <td>5</td>\n",
       "      <td>5</td>\n",
       "      <td>4</td>\n",
       "      <td>4</td>\n",
       "      <td>5</td>\n",
       "      <td>3</td>\n",
       "      <td>4</td>\n",
       "      <td>4</td>\n",
       "    </tr>\n",
       "    <tr>\n",
       "      <th>1097</th>\n",
       "      <td>CTM99751</td>\n",
       "      <td>Nữ</td>\n",
       "      <td>Bình Định</td>\n",
       "      <td>Năm 1</td>\n",
       "      <td>Quản trị khách sạn</td>\n",
       "      <td>Nhân viên văn phòng</td>\n",
       "      <td>Từ 1.500.000 đến 3.000.000</td>\n",
       "      <td>Từ 6 tháng - 1 năm</td>\n",
       "      <td>Giải trí (xem phim, nghe nhạc, lướt web)</td>\n",
       "      <td>4</td>\n",
       "      <td>4</td>\n",
       "      <td>4</td>\n",
       "      <td>4</td>\n",
       "      <td>4</td>\n",
       "      <td>4</td>\n",
       "      <td>4</td>\n",
       "      <td>4</td>\n",
       "      <td>4</td>\n",
       "      <td>4</td>\n",
       "    </tr>\n",
       "    <tr>\n",
       "      <th>1098</th>\n",
       "      <td>CTM99852</td>\n",
       "      <td>Nữ</td>\n",
       "      <td>Bình Định</td>\n",
       "      <td>Năm 4</td>\n",
       "      <td>Quản trị kinh doanh</td>\n",
       "      <td>Nông dân</td>\n",
       "      <td>Trên 5.000.000</td>\n",
       "      <td>Trên 2 năm</td>\n",
       "      <td>Học tập, Làm việc</td>\n",
       "      <td>4</td>\n",
       "      <td>3</td>\n",
       "      <td>4</td>\n",
       "      <td>4</td>\n",
       "      <td>3</td>\n",
       "      <td>3</td>\n",
       "      <td>3</td>\n",
       "      <td>3</td>\n",
       "      <td>3</td>\n",
       "      <td>3</td>\n",
       "    </tr>\n",
       "    <tr>\n",
       "      <th>1099</th>\n",
       "      <td>CTM99985</td>\n",
       "      <td>Nữ</td>\n",
       "      <td>Thừa Thiên Huế</td>\n",
       "      <td>Năm 1</td>\n",
       "      <td>Quản trị dịch vụ du lịch và lữ hành</td>\n",
       "      <td>Nông dân</td>\n",
       "      <td>Từ 1.500.000 đến 3.000.000</td>\n",
       "      <td>Từ 6 tháng - 1 năm</td>\n",
       "      <td>Học tập, Làm việc, Giải trí (xem phim, nghe nh...</td>\n",
       "      <td>5</td>\n",
       "      <td>4</td>\n",
       "      <td>4</td>\n",
       "      <td>4</td>\n",
       "      <td>4</td>\n",
       "      <td>3</td>\n",
       "      <td>4</td>\n",
       "      <td>4</td>\n",
       "      <td>4</td>\n",
       "      <td>3</td>\n",
       "    </tr>\n",
       "  </tbody>\n",
       "</table>\n",
       "<p>1100 rows × 19 columns</p>\n",
       "</div>"
      ],
      "text/plain": [
       "         KH_ID GioiTinh         QueQuan NamHocThu  \\\n",
       "0     CTM10164      Nam       Quảng Trị     Năm 2   \n",
       "1     CTM10246      Nam         Đà Nẵng     Năm 4   \n",
       "2      CTM1028       Nữ         Nghệ An     Năm 3   \n",
       "3     CTM10516      Nam         Gia Lai     Năm 2   \n",
       "4     CTM10573      Nam  Thừa Thiên Huế     Năm 4   \n",
       "...        ...      ...             ...       ...   \n",
       "1095  CTM99547      Nam       Quảng Trị     Năm 1   \n",
       "1096   CTM9971       Nữ     Hồ Chí Minh     Năm 3   \n",
       "1097  CTM99751       Nữ       Bình Định     Năm 1   \n",
       "1098  CTM99852       Nữ       Bình Định     Năm 4   \n",
       "1099  CTM99985       Nữ  Thừa Thiên Huế     Năm 1   \n",
       "\n",
       "                              ChuyenNganh    NgheNghiepGiaDinh  \\\n",
       "0                            Luật kinh tế             Nông dân   \n",
       "1              Hệ thống thông tin quản lý     Kinh doanh tự do   \n",
       "2                      Thương mại điện tử             Nông dân   \n",
       "3                              Thương mại             Nông dân   \n",
       "4                  Tài chính doanh nghiệp             Nông dân   \n",
       "...                                   ...                  ...   \n",
       "1095           Hệ thống thông tin quản lý             Nông dân   \n",
       "1096                              Kế toán             Nông dân   \n",
       "1097                   Quản trị khách sạn  Nhân viên văn phòng   \n",
       "1098                  Quản trị kinh doanh             Nông dân   \n",
       "1099  Quản trị dịch vụ du lịch và lữ hành             Nông dân   \n",
       "\n",
       "                ChiTieuHangThang      ThoiGianSuDung  \\\n",
       "0     Từ 1.500.000 đến 3.000.000  Từ 6 tháng - 1 năm   \n",
       "1     Từ 3.000.000 đến 5.000.000          Trên 2 năm   \n",
       "2     Từ 1.500.000 đến 3.000.000          Trên 2 năm   \n",
       "3     Từ 1.500.000 đến 3.000.000  Từ 1 năm đến 2 năm   \n",
       "4     Từ 1.500.000 đến 3.000.000          Trên 2 năm   \n",
       "...                          ...                 ...   \n",
       "1095  Từ 1.500.000 đến 3.000.000        Dưới 6 tháng   \n",
       "1096              Dưới 1.500.000  Từ 6 tháng - 1 năm   \n",
       "1097  Từ 1.500.000 đến 3.000.000  Từ 6 tháng - 1 năm   \n",
       "1098              Trên 5.000.000          Trên 2 năm   \n",
       "1099  Từ 1.500.000 đến 3.000.000  Từ 6 tháng - 1 năm   \n",
       "\n",
       "                                    MucDichSuDungLaptop  MucDoHaiLong  \\\n",
       "0     Học tập, Làm việc, Chơi game, Giải trí (xem ph...             5   \n",
       "1                          Học tập, Làm việc, Chơi game             4   \n",
       "2                                     Học tập, Làm việc             4   \n",
       "3     Học tập, Làm việc, Giải trí (xem phim, nghe nh...             4   \n",
       "4                                     Học tập, Làm việc             3   \n",
       "...                                                 ...           ...   \n",
       "1095  Học tập, Chơi game, Giải trí (xem phim, nghe n...             4   \n",
       "1096  Học tập, Làm việc, Giải trí (xem phim, nghe nh...             4   \n",
       "1097           Giải trí (xem phim, nghe nhạc, lướt web)             4   \n",
       "1098                                  Học tập, Làm việc             4   \n",
       "1099  Học tập, Làm việc, Giải trí (xem phim, nghe nh...             5   \n",
       "\n",
       "      YeuToThuongHieuSP  YeuToCauHinh  YeuToTocDoXuLy  YeuToGia  YeuToThietKe  \\\n",
       "0                     3             3               3         3             3   \n",
       "1                     4             5               5         4             3   \n",
       "2                     4             3               4         4             3   \n",
       "3                     3             4               4         3             2   \n",
       "4                     3             4               3         4             1   \n",
       "...                 ...           ...             ...       ...           ...   \n",
       "1095                  2             5               5         4             2   \n",
       "1096                  3             5               5         4             4   \n",
       "1097                  4             4               4         4             4   \n",
       "1098                  3             4               4         3             3   \n",
       "1099                  4             4               4         4             3   \n",
       "\n",
       "      YeuToUyTinNhaBanle  YeuToBaoMat  YeuToBaoHanh  YeuToKhuyenMai  \n",
       "0                      3            3             3               3  \n",
       "1                      4            1             5               5  \n",
       "2                      4            2             4               4  \n",
       "3                      3            3             4               2  \n",
       "4                      4            1             3               4  \n",
       "...                  ...          ...           ...             ...  \n",
       "1095                   2            1             3               4  \n",
       "1096                   5            3             4               4  \n",
       "1097                   4            4             4               4  \n",
       "1098                   3            3             3               3  \n",
       "1099                   4            4             4               3  \n",
       "\n",
       "[1100 rows x 19 columns]"
      ]
     },
     "execution_count": 234,
     "metadata": {},
     "output_type": "execute_result"
    }
   ],
   "source": [
    "df1"
   ]
  },
  {
   "cell_type": "code",
   "execution_count": 235,
   "id": "cf85ff0c",
   "metadata": {
    "colab": {
     "base_uri": "https://localhost:8080/",
     "height": 0
    },
    "id": "cf85ff0c",
    "outputId": "ed7505b4-5c1a-4672-b574-cfdea3df85a8"
   },
   "outputs": [
    {
     "data": {
      "text/html": [
       "<div>\n",
       "<style scoped>\n",
       "    .dataframe tbody tr th:only-of-type {\n",
       "        vertical-align: middle;\n",
       "    }\n",
       "\n",
       "    .dataframe tbody tr th {\n",
       "        vertical-align: top;\n",
       "    }\n",
       "\n",
       "    .dataframe thead th {\n",
       "        text-align: right;\n",
       "    }\n",
       "</style>\n",
       "<table border=\"1\" class=\"dataframe\">\n",
       "  <thead>\n",
       "    <tr style=\"text-align: right;\">\n",
       "      <th></th>\n",
       "      <th>CustomerID</th>\n",
       "      <th>Channel</th>\n",
       "      <th>PaymentType</th>\n",
       "      <th>Brand</th>\n",
       "      <th>Shop</th>\n",
       "      <th>Promotion</th>\n",
       "      <th>SalePrice</th>\n",
       "      <th>SaleDate</th>\n",
       "      <th>Reference</th>\n",
       "    </tr>\n",
       "  </thead>\n",
       "  <tbody>\n",
       "    <tr>\n",
       "      <th>0</th>\n",
       "      <td>CTM012</td>\n",
       "      <td>Online</td>\n",
       "      <td>Thẻ</td>\n",
       "      <td>LenovoX1</td>\n",
       "      <td>Phong Vũ</td>\n",
       "      <td>Không</td>\n",
       "      <td>27000000</td>\n",
       "      <td>2020-04-23 00:00:00</td>\n",
       "      <td>Thông qua người thân, bạn bè, Nhân viên cửa hà...</td>\n",
       "    </tr>\n",
       "  </tbody>\n",
       "</table>\n",
       "</div>"
      ],
      "text/plain": [
       "  CustomerID Channel PaymentType     Brand      Shop Promotion  SalePrice  \\\n",
       "0     CTM012  Online         Thẻ  LenovoX1  Phong Vũ     Không   27000000   \n",
       "\n",
       "              SaleDate                                          Reference  \n",
       "0  2020-04-23 00:00:00  Thông qua người thân, bạn bè, Nhân viên cửa hà...  "
      ]
     },
     "execution_count": 235,
     "metadata": {},
     "output_type": "execute_result"
    }
   ],
   "source": [
    "df1 = df1.rename({'KH_ID': 'CustomerID'}, axis=1)  # new method\n",
    "df2.head(1)"
   ]
  },
  {
   "cell_type": "code",
   "execution_count": 236,
   "id": "0aef773d",
   "metadata": {
    "id": "0aef773d"
   },
   "outputs": [],
   "source": [
    "df3 = pd.merge(df1, df2, on=\"CustomerID\")"
   ]
  },
  {
   "cell_type": "code",
   "execution_count": 237,
   "id": "6a6c5b60",
   "metadata": {
    "colab": {
     "base_uri": "https://localhost:8080/",
     "height": 0
    },
    "id": "6a6c5b60",
    "outputId": "a766446a-f6a7-4329-9813-5d6113877eb1"
   },
   "outputs": [
    {
     "data": {
      "text/html": [
       "<div>\n",
       "<style scoped>\n",
       "    .dataframe tbody tr th:only-of-type {\n",
       "        vertical-align: middle;\n",
       "    }\n",
       "\n",
       "    .dataframe tbody tr th {\n",
       "        vertical-align: top;\n",
       "    }\n",
       "\n",
       "    .dataframe thead th {\n",
       "        text-align: right;\n",
       "    }\n",
       "</style>\n",
       "<table border=\"1\" class=\"dataframe\">\n",
       "  <thead>\n",
       "    <tr style=\"text-align: right;\">\n",
       "      <th></th>\n",
       "      <th>MucDoHaiLong</th>\n",
       "      <th>YeuToThuongHieuSP</th>\n",
       "      <th>YeuToCauHinh</th>\n",
       "      <th>YeuToTocDoXuLy</th>\n",
       "      <th>YeuToGia</th>\n",
       "      <th>YeuToThietKe</th>\n",
       "      <th>YeuToUyTinNhaBanle</th>\n",
       "      <th>YeuToBaoMat</th>\n",
       "      <th>YeuToBaoHanh</th>\n",
       "      <th>YeuToKhuyenMai</th>\n",
       "      <th>SalePrice</th>\n",
       "    </tr>\n",
       "  </thead>\n",
       "  <tbody>\n",
       "    <tr>\n",
       "      <th>count</th>\n",
       "      <td>1558.000000</td>\n",
       "      <td>1558.000000</td>\n",
       "      <td>1558.000000</td>\n",
       "      <td>1558.000000</td>\n",
       "      <td>1558.000000</td>\n",
       "      <td>1558.000000</td>\n",
       "      <td>1558.000000</td>\n",
       "      <td>1558.000000</td>\n",
       "      <td>1558.000000</td>\n",
       "      <td>1558.000000</td>\n",
       "      <td>1.558000e+03</td>\n",
       "    </tr>\n",
       "    <tr>\n",
       "      <th>mean</th>\n",
       "      <td>3.810655</td>\n",
       "      <td>3.591784</td>\n",
       "      <td>3.475610</td>\n",
       "      <td>3.761874</td>\n",
       "      <td>3.857510</td>\n",
       "      <td>3.367779</td>\n",
       "      <td>3.608472</td>\n",
       "      <td>3.027599</td>\n",
       "      <td>3.890886</td>\n",
       "      <td>3.842747</td>\n",
       "      <td>1.578987e+07</td>\n",
       "    </tr>\n",
       "    <tr>\n",
       "      <th>std</th>\n",
       "      <td>0.841728</td>\n",
       "      <td>0.933352</td>\n",
       "      <td>1.032725</td>\n",
       "      <td>0.875212</td>\n",
       "      <td>0.780448</td>\n",
       "      <td>1.070496</td>\n",
       "      <td>0.969400</td>\n",
       "      <td>1.050985</td>\n",
       "      <td>0.824111</td>\n",
       "      <td>0.895458</td>\n",
       "      <td>1.039039e+07</td>\n",
       "    </tr>\n",
       "    <tr>\n",
       "      <th>min</th>\n",
       "      <td>1.000000</td>\n",
       "      <td>1.000000</td>\n",
       "      <td>1.000000</td>\n",
       "      <td>1.000000</td>\n",
       "      <td>1.000000</td>\n",
       "      <td>1.000000</td>\n",
       "      <td>1.000000</td>\n",
       "      <td>1.000000</td>\n",
       "      <td>1.000000</td>\n",
       "      <td>1.000000</td>\n",
       "      <td>3.020000e+06</td>\n",
       "    </tr>\n",
       "    <tr>\n",
       "      <th>25%</th>\n",
       "      <td>3.000000</td>\n",
       "      <td>3.000000</td>\n",
       "      <td>3.000000</td>\n",
       "      <td>3.000000</td>\n",
       "      <td>3.000000</td>\n",
       "      <td>3.000000</td>\n",
       "      <td>3.000000</td>\n",
       "      <td>2.000000</td>\n",
       "      <td>3.000000</td>\n",
       "      <td>3.000000</td>\n",
       "      <td>1.110050e+07</td>\n",
       "    </tr>\n",
       "    <tr>\n",
       "      <th>50%</th>\n",
       "      <td>4.000000</td>\n",
       "      <td>4.000000</td>\n",
       "      <td>3.000000</td>\n",
       "      <td>4.000000</td>\n",
       "      <td>4.000000</td>\n",
       "      <td>3.000000</td>\n",
       "      <td>4.000000</td>\n",
       "      <td>3.000000</td>\n",
       "      <td>4.000000</td>\n",
       "      <td>4.000000</td>\n",
       "      <td>1.315000e+07</td>\n",
       "    </tr>\n",
       "    <tr>\n",
       "      <th>75%</th>\n",
       "      <td>4.000000</td>\n",
       "      <td>4.000000</td>\n",
       "      <td>4.000000</td>\n",
       "      <td>4.000000</td>\n",
       "      <td>4.000000</td>\n",
       "      <td>4.000000</td>\n",
       "      <td>4.000000</td>\n",
       "      <td>4.000000</td>\n",
       "      <td>4.000000</td>\n",
       "      <td>4.000000</td>\n",
       "      <td>1.655000e+07</td>\n",
       "    </tr>\n",
       "    <tr>\n",
       "      <th>max</th>\n",
       "      <td>5.000000</td>\n",
       "      <td>5.000000</td>\n",
       "      <td>5.000000</td>\n",
       "      <td>5.000000</td>\n",
       "      <td>5.000000</td>\n",
       "      <td>5.000000</td>\n",
       "      <td>5.000000</td>\n",
       "      <td>5.000000</td>\n",
       "      <td>5.000000</td>\n",
       "      <td>5.000000</td>\n",
       "      <td>6.897700e+07</td>\n",
       "    </tr>\n",
       "  </tbody>\n",
       "</table>\n",
       "</div>"
      ],
      "text/plain": [
       "       MucDoHaiLong  YeuToThuongHieuSP  YeuToCauHinh  YeuToTocDoXuLy  \\\n",
       "count   1558.000000        1558.000000   1558.000000     1558.000000   \n",
       "mean       3.810655           3.591784      3.475610        3.761874   \n",
       "std        0.841728           0.933352      1.032725        0.875212   \n",
       "min        1.000000           1.000000      1.000000        1.000000   \n",
       "25%        3.000000           3.000000      3.000000        3.000000   \n",
       "50%        4.000000           4.000000      3.000000        4.000000   \n",
       "75%        4.000000           4.000000      4.000000        4.000000   \n",
       "max        5.000000           5.000000      5.000000        5.000000   \n",
       "\n",
       "          YeuToGia  YeuToThietKe  YeuToUyTinNhaBanle  YeuToBaoMat  \\\n",
       "count  1558.000000   1558.000000         1558.000000  1558.000000   \n",
       "mean      3.857510      3.367779            3.608472     3.027599   \n",
       "std       0.780448      1.070496            0.969400     1.050985   \n",
       "min       1.000000      1.000000            1.000000     1.000000   \n",
       "25%       3.000000      3.000000            3.000000     2.000000   \n",
       "50%       4.000000      3.000000            4.000000     3.000000   \n",
       "75%       4.000000      4.000000            4.000000     4.000000   \n",
       "max       5.000000      5.000000            5.000000     5.000000   \n",
       "\n",
       "       YeuToBaoHanh  YeuToKhuyenMai     SalePrice  \n",
       "count   1558.000000     1558.000000  1.558000e+03  \n",
       "mean       3.890886        3.842747  1.578987e+07  \n",
       "std        0.824111        0.895458  1.039039e+07  \n",
       "min        1.000000        1.000000  3.020000e+06  \n",
       "25%        3.000000        3.000000  1.110050e+07  \n",
       "50%        4.000000        4.000000  1.315000e+07  \n",
       "75%        4.000000        4.000000  1.655000e+07  \n",
       "max        5.000000        5.000000  6.897700e+07  "
      ]
     },
     "execution_count": 237,
     "metadata": {},
     "output_type": "execute_result"
    }
   ],
   "source": [
    "df3.describe()"
   ]
  },
  {
   "cell_type": "code",
   "execution_count": 238,
   "id": "bad97c76",
   "metadata": {
    "colab": {
     "base_uri": "https://localhost:8080/"
    },
    "id": "bad97c76",
    "outputId": "6052c287-f69b-4890-9225-655c43c758dc"
   },
   "outputs": [
    {
     "data": {
      "text/plain": [
       "0"
      ]
     },
     "execution_count": 238,
     "metadata": {},
     "output_type": "execute_result"
    }
   ],
   "source": [
    "df_NaN = df3[df3.isna().any(axis=1)]\n",
    "df_NaN.shape[0]"
   ]
  },
  {
   "cell_type": "markdown",
   "id": "5f0d4059",
   "metadata": {
    "id": "5f0d4059"
   },
   "source": [
    "Không có nan"
   ]
  },
  {
   "cell_type": "code",
   "execution_count": 239,
   "id": "1b6c50a8",
   "metadata": {
    "colab": {
     "base_uri": "https://localhost:8080/",
     "height": 0
    },
    "id": "1b6c50a8",
    "outputId": "1f6e52a7-d1f1-4e9a-9229-528061c1fb22",
    "scrolled": true
   },
   "outputs": [
    {
     "data": {
      "text/html": [
       "<div>\n",
       "<style scoped>\n",
       "    .dataframe tbody tr th:only-of-type {\n",
       "        vertical-align: middle;\n",
       "    }\n",
       "\n",
       "    .dataframe tbody tr th {\n",
       "        vertical-align: top;\n",
       "    }\n",
       "\n",
       "    .dataframe thead th {\n",
       "        text-align: right;\n",
       "    }\n",
       "</style>\n",
       "<table border=\"1\" class=\"dataframe\">\n",
       "  <thead>\n",
       "    <tr style=\"text-align: right;\">\n",
       "      <th></th>\n",
       "      <th>CustomerID</th>\n",
       "      <th>GioiTinh</th>\n",
       "      <th>QueQuan</th>\n",
       "      <th>NamHocThu</th>\n",
       "      <th>ChuyenNganh</th>\n",
       "      <th>NgheNghiepGiaDinh</th>\n",
       "      <th>ChiTieuHangThang</th>\n",
       "      <th>ThoiGianSuDung</th>\n",
       "      <th>MucDichSuDungLaptop</th>\n",
       "      <th>MucDoHaiLong</th>\n",
       "      <th>...</th>\n",
       "      <th>YeuToBaoHanh</th>\n",
       "      <th>YeuToKhuyenMai</th>\n",
       "      <th>Channel</th>\n",
       "      <th>PaymentType</th>\n",
       "      <th>Brand</th>\n",
       "      <th>Shop</th>\n",
       "      <th>Promotion</th>\n",
       "      <th>SalePrice</th>\n",
       "      <th>SaleDate</th>\n",
       "      <th>Reference</th>\n",
       "    </tr>\n",
       "  </thead>\n",
       "  <tbody>\n",
       "    <tr>\n",
       "      <th>0</th>\n",
       "      <td>CTM10164</td>\n",
       "      <td>Nam</td>\n",
       "      <td>Quảng Trị</td>\n",
       "      <td>Năm 2</td>\n",
       "      <td>Luật kinh tế</td>\n",
       "      <td>Nông dân</td>\n",
       "      <td>Từ 1.500.000 đến 3.000.000</td>\n",
       "      <td>Từ 6 tháng - 1 năm</td>\n",
       "      <td>Học tập, Làm việc, Chơi game, Giải trí (xem ph...</td>\n",
       "      <td>5</td>\n",
       "      <td>...</td>\n",
       "      <td>3</td>\n",
       "      <td>3</td>\n",
       "      <td>Offline</td>\n",
       "      <td>Tiền mặt</td>\n",
       "      <td>Apple</td>\n",
       "      <td>Viettel Store</td>\n",
       "      <td>Không</td>\n",
       "      <td>3020000</td>\n",
       "      <td>2020-08-03 00:00:00</td>\n",
       "      <td>Nhân viên cửa hàng bán Laptop</td>\n",
       "    </tr>\n",
       "    <tr>\n",
       "      <th>1</th>\n",
       "      <td>CTM10246</td>\n",
       "      <td>Nam</td>\n",
       "      <td>Đà Nẵng</td>\n",
       "      <td>Năm 4</td>\n",
       "      <td>Hệ thống thông tin quản lý</td>\n",
       "      <td>Kinh doanh tự do</td>\n",
       "      <td>Từ 3.000.000 đến 5.000.000</td>\n",
       "      <td>Trên 2 năm</td>\n",
       "      <td>Học tập, Làm việc, Chơi game</td>\n",
       "      <td>4</td>\n",
       "      <td>...</td>\n",
       "      <td>5</td>\n",
       "      <td>5</td>\n",
       "      <td>Offline</td>\n",
       "      <td>Tiền mặt</td>\n",
       "      <td>Dell</td>\n",
       "      <td>FPT Shop</td>\n",
       "      <td>Có</td>\n",
       "      <td>18310000</td>\n",
       "      <td>2020-10-09 00:00:00</td>\n",
       "      <td>Nhân viên cửa hàng bán Laptop, Mạng xã hội, We...</td>\n",
       "    </tr>\n",
       "    <tr>\n",
       "      <th>2</th>\n",
       "      <td>CTM1028</td>\n",
       "      <td>Nữ</td>\n",
       "      <td>Nghệ An</td>\n",
       "      <td>Năm 3</td>\n",
       "      <td>Thương mại điện tử</td>\n",
       "      <td>Nông dân</td>\n",
       "      <td>Từ 1.500.000 đến 3.000.000</td>\n",
       "      <td>Trên 2 năm</td>\n",
       "      <td>Học tập, Làm việc</td>\n",
       "      <td>4</td>\n",
       "      <td>...</td>\n",
       "      <td>4</td>\n",
       "      <td>4</td>\n",
       "      <td>Offline</td>\n",
       "      <td>Tiền mặt</td>\n",
       "      <td>MSI</td>\n",
       "      <td>Phong Vũ</td>\n",
       "      <td>Không</td>\n",
       "      <td>12203000</td>\n",
       "      <td>2020-05-24 00:00:00</td>\n",
       "      <td>Thông qua người thân, bạn bè, Nhân viên cửa hà...</td>\n",
       "    </tr>\n",
       "    <tr>\n",
       "      <th>3</th>\n",
       "      <td>CTM1028</td>\n",
       "      <td>Nữ</td>\n",
       "      <td>Nghệ An</td>\n",
       "      <td>Năm 3</td>\n",
       "      <td>Thương mại điện tử</td>\n",
       "      <td>Nông dân</td>\n",
       "      <td>Từ 1.500.000 đến 3.000.000</td>\n",
       "      <td>Trên 2 năm</td>\n",
       "      <td>Học tập, Làm việc</td>\n",
       "      <td>4</td>\n",
       "      <td>...</td>\n",
       "      <td>4</td>\n",
       "      <td>4</td>\n",
       "      <td>Offline</td>\n",
       "      <td>Tiền mặt</td>\n",
       "      <td>Asus</td>\n",
       "      <td>Thế giới di động</td>\n",
       "      <td>Có</td>\n",
       "      <td>13070000</td>\n",
       "      <td>2020-10-08 00:00:00</td>\n",
       "      <td>Nhờ người có chuyên môn tư vấn</td>\n",
       "    </tr>\n",
       "    <tr>\n",
       "      <th>4</th>\n",
       "      <td>CTM1028</td>\n",
       "      <td>Nữ</td>\n",
       "      <td>Nghệ An</td>\n",
       "      <td>Năm 3</td>\n",
       "      <td>Thương mại điện tử</td>\n",
       "      <td>Nông dân</td>\n",
       "      <td>Từ 1.500.000 đến 3.000.000</td>\n",
       "      <td>Trên 2 năm</td>\n",
       "      <td>Học tập, Làm việc</td>\n",
       "      <td>4</td>\n",
       "      <td>...</td>\n",
       "      <td>4</td>\n",
       "      <td>4</td>\n",
       "      <td>Offline</td>\n",
       "      <td>Tiền mặt</td>\n",
       "      <td>Acer</td>\n",
       "      <td>Phong Vũ</td>\n",
       "      <td>Không</td>\n",
       "      <td>10172000</td>\n",
       "      <td>2020-12-10 00:00:00</td>\n",
       "      <td>Thông qua người thân, bạn bè, Nhân viên cửa hà...</td>\n",
       "    </tr>\n",
       "  </tbody>\n",
       "</table>\n",
       "<p>5 rows × 27 columns</p>\n",
       "</div>"
      ],
      "text/plain": [
       "  CustomerID GioiTinh    QueQuan NamHocThu                 ChuyenNganh  \\\n",
       "0   CTM10164      Nam  Quảng Trị     Năm 2                Luật kinh tế   \n",
       "1   CTM10246      Nam    Đà Nẵng     Năm 4  Hệ thống thông tin quản lý   \n",
       "2    CTM1028       Nữ    Nghệ An     Năm 3          Thương mại điện tử   \n",
       "3    CTM1028       Nữ    Nghệ An     Năm 3          Thương mại điện tử   \n",
       "4    CTM1028       Nữ    Nghệ An     Năm 3          Thương mại điện tử   \n",
       "\n",
       "  NgheNghiepGiaDinh            ChiTieuHangThang      ThoiGianSuDung  \\\n",
       "0          Nông dân  Từ 1.500.000 đến 3.000.000  Từ 6 tháng - 1 năm   \n",
       "1  Kinh doanh tự do  Từ 3.000.000 đến 5.000.000          Trên 2 năm   \n",
       "2          Nông dân  Từ 1.500.000 đến 3.000.000          Trên 2 năm   \n",
       "3          Nông dân  Từ 1.500.000 đến 3.000.000          Trên 2 năm   \n",
       "4          Nông dân  Từ 1.500.000 đến 3.000.000          Trên 2 năm   \n",
       "\n",
       "                                 MucDichSuDungLaptop  MucDoHaiLong  ...  \\\n",
       "0  Học tập, Làm việc, Chơi game, Giải trí (xem ph...             5  ...   \n",
       "1                       Học tập, Làm việc, Chơi game             4  ...   \n",
       "2                                  Học tập, Làm việc             4  ...   \n",
       "3                                  Học tập, Làm việc             4  ...   \n",
       "4                                  Học tập, Làm việc             4  ...   \n",
       "\n",
       "   YeuToBaoHanh  YeuToKhuyenMai  Channel  PaymentType  Brand  \\\n",
       "0             3               3  Offline     Tiền mặt  Apple   \n",
       "1             5               5  Offline     Tiền mặt   Dell   \n",
       "2             4               4  Offline     Tiền mặt    MSI   \n",
       "3             4               4  Offline     Tiền mặt   Asus   \n",
       "4             4               4  Offline     Tiền mặt   Acer   \n",
       "\n",
       "               Shop  Promotion  SalePrice             SaleDate  \\\n",
       "0     Viettel Store      Không    3020000  2020-08-03 00:00:00   \n",
       "1          FPT Shop         Có   18310000  2020-10-09 00:00:00   \n",
       "2          Phong Vũ      Không   12203000  2020-05-24 00:00:00   \n",
       "3  Thế giới di động         Có   13070000  2020-10-08 00:00:00   \n",
       "4          Phong Vũ      Không   10172000  2020-12-10 00:00:00   \n",
       "\n",
       "                                           Reference  \n",
       "0                      Nhân viên cửa hàng bán Laptop  \n",
       "1  Nhân viên cửa hàng bán Laptop, Mạng xã hội, We...  \n",
       "2  Thông qua người thân, bạn bè, Nhân viên cửa hà...  \n",
       "3                     Nhờ người có chuyên môn tư vấn  \n",
       "4  Thông qua người thân, bạn bè, Nhân viên cửa hà...  \n",
       "\n",
       "[5 rows x 27 columns]"
      ]
     },
     "execution_count": 239,
     "metadata": {},
     "output_type": "execute_result"
    }
   ],
   "source": [
    "df3.head(5)"
   ]
  },
  {
   "cell_type": "code",
   "execution_count": 240,
   "id": "9cb9a2f6",
   "metadata": {
    "colab": {
     "base_uri": "https://localhost:8080/"
    },
    "id": "9cb9a2f6",
    "outputId": "d5b92afb-2b22-41fb-ec14-5fa5ff0113e8"
   },
   "outputs": [
    {
     "data": {
      "text/plain": [
       "(1558, 27)"
      ]
     },
     "execution_count": 240,
     "metadata": {},
     "output_type": "execute_result"
    }
   ],
   "source": [
    "df3.shape"
   ]
  },
  {
   "cell_type": "code",
   "execution_count": 241,
   "id": "b94cd564",
   "metadata": {
    "id": "b94cd564"
   },
   "outputs": [],
   "source": [
    "# df3.to_csv(\"DataSetVer4.csv\",index=False,encoding='utf-8-sig')"
   ]
  },
  {
   "cell_type": "markdown",
   "id": "5b6a1861",
   "metadata": {
    "id": "5b6a1861"
   },
   "source": [
    "#### Số khách hàng, số giao dịch, doanh thu tháng"
   ]
  },
  {
   "cell_type": "code",
   "execution_count": 242,
   "id": "7103ab5f",
   "metadata": {
    "colab": {
     "base_uri": "https://localhost:8080/"
    },
    "id": "7103ab5f",
    "outputId": "c243dc51-24db-41ce-ebe8-284a68816d49"
   },
   "outputs": [
    {
     "data": {
      "text/plain": [
       "1098"
      ]
     },
     "execution_count": 242,
     "metadata": {},
     "output_type": "execute_result"
    }
   ],
   "source": [
    "# số khách hàng\n",
    "df3['CustomerID'].nunique()"
   ]
  },
  {
   "cell_type": "code",
   "execution_count": 243,
   "id": "ad2d8a51",
   "metadata": {
    "colab": {
     "base_uri": "https://localhost:8080/"
    },
    "id": "ad2d8a51",
    "outputId": "1267bcca-d0e2-43e8-f9aa-266f055e3078"
   },
   "outputs": [
    {
     "data": {
      "text/plain": [
       "1558"
      ]
     },
     "execution_count": 243,
     "metadata": {},
     "output_type": "execute_result"
    }
   ],
   "source": [
    "# số giao dịch\n",
    "df3['CustomerID'].count()"
   ]
  },
  {
   "cell_type": "code",
   "execution_count": 244,
   "id": "20012739",
   "metadata": {
    "colab": {
     "base_uri": "https://localhost:8080/"
    },
    "id": "20012739",
    "outputId": "b4269cb9-03fb-4dae-c6f4-5ddbf4799fb6"
   },
   "outputs": [
    {
     "data": {
      "text/plain": [
       "24600618000"
      ]
     },
     "execution_count": 244,
     "metadata": {},
     "output_type": "execute_result"
    }
   ],
   "source": [
    "# Doanh thu năm\n",
    "df3['SalePrice'].sum()"
   ]
  },
  {
   "cell_type": "markdown",
   "id": "bc31d32c",
   "metadata": {
    "id": "bc31d32c"
   },
   "source": [
    "#### Chuẩn hoá: Xử lý các kiểu thời gian về cùng 1 loại"
   ]
  },
  {
   "cell_type": "markdown",
   "id": "936baf7e",
   "metadata": {
    "id": "936baf7e"
   },
   "source": [
    "Dữ liệu về lỗi ngày 31 tháng 02 hay năm 1990 đã được chuẩn hoá\n",
    "\n",
    "Dữ liệu có kiểu ngày tháng và tháng ngày => Được xử lý như bên dưới"
   ]
  },
  {
   "cell_type": "code",
   "execution_count": 245,
   "id": "4fce210c",
   "metadata": {
    "colab": {
     "base_uri": "https://localhost:8080/"
    },
    "id": "4fce210c",
    "outputId": "aee99c6b-acd1-4c2a-9058-ea62dfc33f16"
   },
   "outputs": [
    {
     "data": {
      "text/plain": [
       "pandas.core.series.Series"
      ]
     },
     "execution_count": 245,
     "metadata": {},
     "output_type": "execute_result"
    }
   ],
   "source": [
    "s = df3.SaleDate\n",
    "type(s)"
   ]
  },
  {
   "cell_type": "code",
   "execution_count": 246,
   "id": "74b1e07d",
   "metadata": {
    "colab": {
     "base_uri": "https://localhost:8080/"
    },
    "id": "74b1e07d",
    "outputId": "103731c0-d19c-465c-bfd4-bac3bec6f406"
   },
   "outputs": [
    {
     "data": {
      "text/plain": [
       "0      NaT\n",
       "1      NaT\n",
       "2      NaT\n",
       "3      NaT\n",
       "4      NaT\n",
       "        ..\n",
       "1553   NaT\n",
       "1554   NaT\n",
       "1555   NaT\n",
       "1556   NaT\n",
       "1557   NaT\n",
       "Name: SaleDate, Length: 1558, dtype: datetime64[ns]"
      ]
     },
     "execution_count": 246,
     "metadata": {},
     "output_type": "execute_result"
    }
   ],
   "source": [
    "pd.to_datetime(s, format=\"%Y-%d-%m\", errors=\"coerce\")"
   ]
  },
  {
   "cell_type": "code",
   "execution_count": 247,
   "id": "b0427e9d",
   "metadata": {
    "colab": {
     "base_uri": "https://localhost:8080/"
    },
    "id": "b0427e9d",
    "outputId": "7b769459-d07e-41cc-ed00-2521a4807006"
   },
   "outputs": [
    {
     "data": {
      "text/plain": [
       "0      2020-08-03\n",
       "1      2020-10-09\n",
       "2      2020-05-24\n",
       "3      2020-10-08\n",
       "4      2020-12-10\n",
       "          ...    \n",
       "1553   2020-01-14\n",
       "1554   2020-10-02\n",
       "1555   2020-10-31\n",
       "1556   2020-01-11\n",
       "1557   2020-12-26\n",
       "Name: SaleDate, Length: 1558, dtype: datetime64[ns]"
      ]
     },
     "execution_count": 247,
     "metadata": {},
     "output_type": "execute_result"
    }
   ],
   "source": [
    "pd.to_datetime(s, format=\"%Y-%m-%d\", errors=\"coerce\")"
   ]
  },
  {
   "cell_type": "code",
   "execution_count": 248,
   "id": "b3bf58df",
   "metadata": {
    "colab": {
     "base_uri": "https://localhost:8080/"
    },
    "id": "b3bf58df",
    "outputId": "0d823d6f-ec38-4ee0-ae1b-ec2e0fe314e6"
   },
   "outputs": [
    {
     "data": {
      "text/plain": [
       "0      2020-08-03\n",
       "1      2020-10-09\n",
       "2      2020-05-24\n",
       "3      2020-10-08\n",
       "4      2020-12-10\n",
       "          ...    \n",
       "1553   2020-01-14\n",
       "1554   2020-10-02\n",
       "1555   2020-10-31\n",
       "1556   2020-01-11\n",
       "1557   2020-12-26\n",
       "Name: SaleDate, Length: 1558, dtype: datetime64[ns]"
      ]
     },
     "execution_count": 248,
     "metadata": {},
     "output_type": "execute_result"
    }
   ],
   "source": [
    "# Các kiểu dữ liệu được đưa về năm tháng ngày\n",
    "pd.to_datetime(s, format=\"%Y-%d-%m\", errors=\"coerce\").fillna(pd.to_datetime(s, format=\"%Y-%m-%d\", errors=\"coerce\"))"
   ]
  },
  {
   "cell_type": "code",
   "execution_count": 249,
   "id": "9ca63da7",
   "metadata": {
    "id": "9ca63da7"
   },
   "outputs": [],
   "source": [
    "df3.SaleDate = pd.to_datetime(s, format=\"%Y-%d-%m\", errors=\"coerce\").fillna(pd.to_datetime(s, format=\"%Y-%m-%d\", errors=\"coerce\"))"
   ]
  },
  {
   "cell_type": "code",
   "execution_count": 250,
   "id": "e178df75",
   "metadata": {
    "id": "e178df75"
   },
   "outputs": [],
   "source": [
    "# df3.to_csv(\"DataSetVer5.csv\",index=False,encoding='utf-8-sig')"
   ]
  },
  {
   "cell_type": "code",
   "execution_count": 251,
   "id": "0a1eb080",
   "metadata": {
    "colab": {
     "base_uri": "https://localhost:8080/"
    },
    "id": "0a1eb080",
    "outputId": "7ceec310-8dde-45f8-955b-fda5801387f6"
   },
   "outputs": [
    {
     "data": {
      "text/plain": [
       "Index(['CustomerID', 'GioiTinh', 'QueQuan', 'NamHocThu', 'ChuyenNganh',\n",
       "       'NgheNghiepGiaDinh', 'ChiTieuHangThang', 'ThoiGianSuDung',\n",
       "       'MucDichSuDungLaptop', 'MucDoHaiLong', 'YeuToThuongHieuSP',\n",
       "       'YeuToCauHinh', 'YeuToTocDoXuLy', 'YeuToGia', 'YeuToThietKe',\n",
       "       'YeuToUyTinNhaBanle', 'YeuToBaoMat', 'YeuToBaoHanh', 'YeuToKhuyenMai',\n",
       "       'Channel', 'PaymentType', 'Brand', 'Shop', 'Promotion', 'SalePrice',\n",
       "       'SaleDate', 'Reference'],\n",
       "      dtype='object')"
      ]
     },
     "execution_count": 251,
     "metadata": {},
     "output_type": "execute_result"
    }
   ],
   "source": [
    "df3.columns"
   ]
  },
  {
   "cell_type": "code",
   "execution_count": 252,
   "id": "80aee9f3",
   "metadata": {},
   "outputs": [],
   "source": [
    "# type(df2[i].value_counts())"
   ]
  },
  {
   "cell_type": "code",
   "execution_count": 253,
   "id": "d6326202",
   "metadata": {},
   "outputs": [],
   "source": [
    "# # dem so luong laptop mua theo so luong dung counter\n",
    "# list1 = list(df3[\"CustomerID\"].value_counts())\n",
    "# from collections import Counter\n",
    "# print(Counter(list1))\n",
    "# type(df3[i].value_counts())"
   ]
  },
  {
   "cell_type": "code",
   "execution_count": 254,
   "id": "0a42b642",
   "metadata": {},
   "outputs": [],
   "source": [
    "# ![image.png](attachment:image.png)"
   ]
  },
  {
   "cell_type": "markdown",
   "id": "ed8f467d",
   "metadata": {
    "id": "ed8f467d"
   },
   "source": [
    "## D. Modeling  <a class=\"anchor\" id=\"D\"></a>"
   ]
  },
  {
   "cell_type": "code",
   "execution_count": 255,
   "id": "HI3zIqodx37k",
   "metadata": {
    "colab": {
     "base_uri": "https://localhost:8080/"
    },
    "id": "HI3zIqodx37k",
    "outputId": "168ce113-d51f-4209-eda7-d20e88b8644a"
   },
   "outputs": [
    {
     "name": "stdout",
     "output_type": "stream",
     "text": [
      "Requirement already satisfied: word2number in c:\\users\\admin\\anaconda3\\envs\\dmining\\lib\\site-packages (1.1)\n"
     ]
    }
   ],
   "source": [
    "!pip install word2number"
   ]
  },
  {
   "cell_type": "code",
   "execution_count": 256,
   "id": "c876d88e",
   "metadata": {
    "id": "c876d88e"
   },
   "outputs": [],
   "source": [
    "import pandas as pd\n",
    "import numpy as np\n",
    "from sklearn import linear_model\n",
    "from sklearn.preprocessing import LabelEncoder\n",
    "from word2number import w2n"
   ]
  },
  {
   "cell_type": "markdown",
   "id": "98874675",
   "metadata": {},
   "source": [
    "## 1.  Select And Prepair Feature And Target For Model:<a class=\"anchor\" id=\"D1\"></a>"
   ]
  },
  {
   "cell_type": "code",
   "execution_count": 257,
   "id": "8cac8130",
   "metadata": {
    "colab": {
     "base_uri": "https://localhost:8080/",
     "height": 337
    },
    "id": "8cac8130",
    "outputId": "2f4106c9-9a87-4825-9291-6eff41c8912f"
   },
   "outputs": [
    {
     "data": {
      "text/html": [
       "<div>\n",
       "<style scoped>\n",
       "    .dataframe tbody tr th:only-of-type {\n",
       "        vertical-align: middle;\n",
       "    }\n",
       "\n",
       "    .dataframe tbody tr th {\n",
       "        vertical-align: top;\n",
       "    }\n",
       "\n",
       "    .dataframe thead th {\n",
       "        text-align: right;\n",
       "    }\n",
       "</style>\n",
       "<table border=\"1\" class=\"dataframe\">\n",
       "  <thead>\n",
       "    <tr style=\"text-align: right;\">\n",
       "      <th></th>\n",
       "      <th>GioiTinh</th>\n",
       "      <th>NamHocThu</th>\n",
       "      <th>ChiTieuHangThang</th>\n",
       "      <th>ThoiGianSuDung</th>\n",
       "      <th>MucDichSuDungLaptop</th>\n",
       "      <th>SalePrice</th>\n",
       "    </tr>\n",
       "  </thead>\n",
       "  <tbody>\n",
       "    <tr>\n",
       "      <th>0</th>\n",
       "      <td>Nam</td>\n",
       "      <td>Năm 2</td>\n",
       "      <td>Từ 1.500.000 đến 3.000.000</td>\n",
       "      <td>Từ 6 tháng - 1 năm</td>\n",
       "      <td>Học tập, Làm việc, Chơi game, Giải trí (xem ph...</td>\n",
       "      <td>3020000</td>\n",
       "    </tr>\n",
       "    <tr>\n",
       "      <th>1</th>\n",
       "      <td>Nam</td>\n",
       "      <td>Năm 4</td>\n",
       "      <td>Từ 3.000.000 đến 5.000.000</td>\n",
       "      <td>Trên 2 năm</td>\n",
       "      <td>Học tập, Làm việc, Chơi game</td>\n",
       "      <td>18310000</td>\n",
       "    </tr>\n",
       "    <tr>\n",
       "      <th>2</th>\n",
       "      <td>Nữ</td>\n",
       "      <td>Năm 3</td>\n",
       "      <td>Từ 1.500.000 đến 3.000.000</td>\n",
       "      <td>Trên 2 năm</td>\n",
       "      <td>Học tập, Làm việc</td>\n",
       "      <td>12203000</td>\n",
       "    </tr>\n",
       "    <tr>\n",
       "      <th>3</th>\n",
       "      <td>Nữ</td>\n",
       "      <td>Năm 3</td>\n",
       "      <td>Từ 1.500.000 đến 3.000.000</td>\n",
       "      <td>Trên 2 năm</td>\n",
       "      <td>Học tập, Làm việc</td>\n",
       "      <td>13070000</td>\n",
       "    </tr>\n",
       "    <tr>\n",
       "      <th>4</th>\n",
       "      <td>Nữ</td>\n",
       "      <td>Năm 3</td>\n",
       "      <td>Từ 1.500.000 đến 3.000.000</td>\n",
       "      <td>Trên 2 năm</td>\n",
       "      <td>Học tập, Làm việc</td>\n",
       "      <td>10172000</td>\n",
       "    </tr>\n",
       "  </tbody>\n",
       "</table>\n",
       "</div>"
      ],
      "text/plain": [
       "  GioiTinh NamHocThu            ChiTieuHangThang      ThoiGianSuDung  \\\n",
       "0      Nam     Năm 2  Từ 1.500.000 đến 3.000.000  Từ 6 tháng - 1 năm   \n",
       "1      Nam     Năm 4  Từ 3.000.000 đến 5.000.000          Trên 2 năm   \n",
       "2       Nữ     Năm 3  Từ 1.500.000 đến 3.000.000          Trên 2 năm   \n",
       "3       Nữ     Năm 3  Từ 1.500.000 đến 3.000.000          Trên 2 năm   \n",
       "4       Nữ     Năm 3  Từ 1.500.000 đến 3.000.000          Trên 2 năm   \n",
       "\n",
       "                                 MucDichSuDungLaptop  SalePrice  \n",
       "0  Học tập, Làm việc, Chơi game, Giải trí (xem ph...    3020000  \n",
       "1                       Học tập, Làm việc, Chơi game   18310000  \n",
       "2                                  Học tập, Làm việc   12203000  \n",
       "3                                  Học tập, Làm việc   13070000  \n",
       "4                                  Học tập, Làm việc   10172000  "
      ]
     },
     "execution_count": 257,
     "metadata": {},
     "output_type": "execute_result"
    }
   ],
   "source": [
    "#data_for_training_model \n",
    "d = df3[['GioiTinh', 'NamHocThu', 'ChiTieuHangThang', 'ThoiGianSuDung', 'MucDichSuDungLaptop', 'SalePrice']]\n",
    "d.head()"
   ]
  },
  {
   "cell_type": "code",
   "execution_count": 258,
   "id": "28ccbf2d",
   "metadata": {
    "id": "28ccbf2d"
   },
   "outputs": [],
   "source": [
    "raw_dataset = d"
   ]
  },
  {
   "cell_type": "code",
   "execution_count": 259,
   "id": "f15cd5d5",
   "metadata": {
    "id": "f15cd5d5"
   },
   "outputs": [],
   "source": [
    "\n",
    "nominal_cols = ['GioiTinh', 'NamHocThu', 'ChiTieuHangThang', 'ThoiGianSuDung']\n",
    "encoded_df = raw_dataset.copy()\n",
    "\n",
    "for col in nominal_cols:\n",
    "\n",
    "    encoder = LabelEncoder()\n",
    "    encoded_df[col] = encoder.fit_transform(raw_dataset[col])"
   ]
  },
  {
   "cell_type": "code",
   "execution_count": 260,
   "id": "fe05862b",
   "metadata": {
    "colab": {
     "base_uri": "https://localhost:8080/",
     "height": 423
    },
    "id": "fe05862b",
    "outputId": "6eeffad2-05f0-4479-e15f-d9452535f4a5"
   },
   "outputs": [
    {
     "data": {
      "text/html": [
       "<div>\n",
       "<style scoped>\n",
       "    .dataframe tbody tr th:only-of-type {\n",
       "        vertical-align: middle;\n",
       "    }\n",
       "\n",
       "    .dataframe tbody tr th {\n",
       "        vertical-align: top;\n",
       "    }\n",
       "\n",
       "    .dataframe thead th {\n",
       "        text-align: right;\n",
       "    }\n",
       "</style>\n",
       "<table border=\"1\" class=\"dataframe\">\n",
       "  <thead>\n",
       "    <tr style=\"text-align: right;\">\n",
       "      <th></th>\n",
       "      <th>GioiTinh</th>\n",
       "      <th>NamHocThu</th>\n",
       "      <th>ChiTieuHangThang</th>\n",
       "      <th>ThoiGianSuDung</th>\n",
       "      <th>SalePrice</th>\n",
       "    </tr>\n",
       "  </thead>\n",
       "  <tbody>\n",
       "    <tr>\n",
       "      <th>0</th>\n",
       "      <td>0</td>\n",
       "      <td>1</td>\n",
       "      <td>2</td>\n",
       "      <td>3</td>\n",
       "      <td>3020000</td>\n",
       "    </tr>\n",
       "    <tr>\n",
       "      <th>1</th>\n",
       "      <td>0</td>\n",
       "      <td>3</td>\n",
       "      <td>3</td>\n",
       "      <td>1</td>\n",
       "      <td>18310000</td>\n",
       "    </tr>\n",
       "    <tr>\n",
       "      <th>2</th>\n",
       "      <td>1</td>\n",
       "      <td>2</td>\n",
       "      <td>2</td>\n",
       "      <td>1</td>\n",
       "      <td>12203000</td>\n",
       "    </tr>\n",
       "    <tr>\n",
       "      <th>3</th>\n",
       "      <td>1</td>\n",
       "      <td>2</td>\n",
       "      <td>2</td>\n",
       "      <td>1</td>\n",
       "      <td>13070000</td>\n",
       "    </tr>\n",
       "    <tr>\n",
       "      <th>4</th>\n",
       "      <td>1</td>\n",
       "      <td>2</td>\n",
       "      <td>2</td>\n",
       "      <td>1</td>\n",
       "      <td>10172000</td>\n",
       "    </tr>\n",
       "    <tr>\n",
       "      <th>...</th>\n",
       "      <td>...</td>\n",
       "      <td>...</td>\n",
       "      <td>...</td>\n",
       "      <td>...</td>\n",
       "      <td>...</td>\n",
       "    </tr>\n",
       "    <tr>\n",
       "      <th>1553</th>\n",
       "      <td>1</td>\n",
       "      <td>0</td>\n",
       "      <td>2</td>\n",
       "      <td>3</td>\n",
       "      <td>15500000</td>\n",
       "    </tr>\n",
       "    <tr>\n",
       "      <th>1554</th>\n",
       "      <td>1</td>\n",
       "      <td>3</td>\n",
       "      <td>1</td>\n",
       "      <td>1</td>\n",
       "      <td>11539000</td>\n",
       "    </tr>\n",
       "    <tr>\n",
       "      <th>1555</th>\n",
       "      <td>1</td>\n",
       "      <td>3</td>\n",
       "      <td>1</td>\n",
       "      <td>1</td>\n",
       "      <td>21200000</td>\n",
       "    </tr>\n",
       "    <tr>\n",
       "      <th>1556</th>\n",
       "      <td>1</td>\n",
       "      <td>0</td>\n",
       "      <td>2</td>\n",
       "      <td>3</td>\n",
       "      <td>4248000</td>\n",
       "    </tr>\n",
       "    <tr>\n",
       "      <th>1557</th>\n",
       "      <td>1</td>\n",
       "      <td>0</td>\n",
       "      <td>2</td>\n",
       "      <td>3</td>\n",
       "      <td>14390000</td>\n",
       "    </tr>\n",
       "  </tbody>\n",
       "</table>\n",
       "<p>1558 rows × 5 columns</p>\n",
       "</div>"
      ],
      "text/plain": [
       "      GioiTinh  NamHocThu  ChiTieuHangThang  ThoiGianSuDung  SalePrice\n",
       "0            0          1                 2               3    3020000\n",
       "1            0          3                 3               1   18310000\n",
       "2            1          2                 2               1   12203000\n",
       "3            1          2                 2               1   13070000\n",
       "4            1          2                 2               1   10172000\n",
       "...        ...        ...               ...             ...        ...\n",
       "1553         1          0                 2               3   15500000\n",
       "1554         1          3                 1               1   11539000\n",
       "1555         1          3                 1               1   21200000\n",
       "1556         1          0                 2               3    4248000\n",
       "1557         1          0                 2               3   14390000\n",
       "\n",
       "[1558 rows x 5 columns]"
      ]
     },
     "execution_count": 260,
     "metadata": {},
     "output_type": "execute_result"
    }
   ],
   "source": [
    "new_ds = encoded_df.drop('MucDichSuDungLaptop', axis=1) \n",
    "new_ds"
   ]
  },
  {
   "cell_type": "code",
   "execution_count": 261,
   "id": "692fbcd6",
   "metadata": {
    "id": "692fbcd6"
   },
   "outputs": [],
   "source": [
    "purposes = raw_dataset['MucDichSuDungLaptop']\n",
    "\n",
    "new_purpose = {\"Hoc_tap\":[], \"Lam_viec\":[], \"Choi_game\":[], \"Giai_tri\":[], \"Khac\":[]}\n",
    "\n",
    "for purpose in purposes:\n",
    "\n",
    "    current_pp = [0,0,0,0,0]\n",
    "    if \"Học tập\" in purpose: current_pp[0]+=1\n",
    "    if \"Làm việc\" in purpose: current_pp[1]+=1\n",
    "    if \"Chơi game\" in purpose: current_pp[2]+=1\n",
    "    if \"Giải trí\" in purpose: current_pp[3]+=1\n",
    "    if \"Khác\" in purpose: current_pp[4]+=1\n",
    "    \n",
    "    new_purpose[\"Hoc_tap\"].append(current_pp[0])\n",
    "    new_purpose[\"Lam_viec\"].append(current_pp[1])\n",
    "    new_purpose[\"Choi_game\"].append(current_pp[2])\n",
    "    new_purpose[\"Giai_tri\"].append(current_pp[3])\n",
    "    new_purpose[\"Khac\"].append(current_pp[4])\n",
    "\n",
    "newpp = pd.DataFrame(new_purpose)\n",
    "newpp.index = raw_dataset.index"
   ]
  },
  {
   "cell_type": "code",
   "execution_count": 262,
   "id": "13221a9f",
   "metadata": {
    "colab": {
     "base_uri": "https://localhost:8080/",
     "height": 423
    },
    "id": "13221a9f",
    "outputId": "838102d1-25b2-4b56-8a85-5da30ed8471a"
   },
   "outputs": [
    {
     "data": {
      "text/html": [
       "<div>\n",
       "<style scoped>\n",
       "    .dataframe tbody tr th:only-of-type {\n",
       "        vertical-align: middle;\n",
       "    }\n",
       "\n",
       "    .dataframe tbody tr th {\n",
       "        vertical-align: top;\n",
       "    }\n",
       "\n",
       "    .dataframe thead th {\n",
       "        text-align: right;\n",
       "    }\n",
       "</style>\n",
       "<table border=\"1\" class=\"dataframe\">\n",
       "  <thead>\n",
       "    <tr style=\"text-align: right;\">\n",
       "      <th></th>\n",
       "      <th>Hoc_tap</th>\n",
       "      <th>Lam_viec</th>\n",
       "      <th>Choi_game</th>\n",
       "      <th>Giai_tri</th>\n",
       "      <th>Khac</th>\n",
       "    </tr>\n",
       "  </thead>\n",
       "  <tbody>\n",
       "    <tr>\n",
       "      <th>0</th>\n",
       "      <td>1</td>\n",
       "      <td>1</td>\n",
       "      <td>1</td>\n",
       "      <td>1</td>\n",
       "      <td>1</td>\n",
       "    </tr>\n",
       "    <tr>\n",
       "      <th>1</th>\n",
       "      <td>1</td>\n",
       "      <td>1</td>\n",
       "      <td>1</td>\n",
       "      <td>0</td>\n",
       "      <td>0</td>\n",
       "    </tr>\n",
       "    <tr>\n",
       "      <th>2</th>\n",
       "      <td>1</td>\n",
       "      <td>1</td>\n",
       "      <td>0</td>\n",
       "      <td>0</td>\n",
       "      <td>0</td>\n",
       "    </tr>\n",
       "    <tr>\n",
       "      <th>3</th>\n",
       "      <td>1</td>\n",
       "      <td>1</td>\n",
       "      <td>0</td>\n",
       "      <td>0</td>\n",
       "      <td>0</td>\n",
       "    </tr>\n",
       "    <tr>\n",
       "      <th>4</th>\n",
       "      <td>1</td>\n",
       "      <td>1</td>\n",
       "      <td>0</td>\n",
       "      <td>0</td>\n",
       "      <td>0</td>\n",
       "    </tr>\n",
       "    <tr>\n",
       "      <th>...</th>\n",
       "      <td>...</td>\n",
       "      <td>...</td>\n",
       "      <td>...</td>\n",
       "      <td>...</td>\n",
       "      <td>...</td>\n",
       "    </tr>\n",
       "    <tr>\n",
       "      <th>1553</th>\n",
       "      <td>0</td>\n",
       "      <td>0</td>\n",
       "      <td>0</td>\n",
       "      <td>1</td>\n",
       "      <td>0</td>\n",
       "    </tr>\n",
       "    <tr>\n",
       "      <th>1554</th>\n",
       "      <td>1</td>\n",
       "      <td>1</td>\n",
       "      <td>0</td>\n",
       "      <td>0</td>\n",
       "      <td>0</td>\n",
       "    </tr>\n",
       "    <tr>\n",
       "      <th>1555</th>\n",
       "      <td>1</td>\n",
       "      <td>1</td>\n",
       "      <td>0</td>\n",
       "      <td>0</td>\n",
       "      <td>0</td>\n",
       "    </tr>\n",
       "    <tr>\n",
       "      <th>1556</th>\n",
       "      <td>1</td>\n",
       "      <td>1</td>\n",
       "      <td>0</td>\n",
       "      <td>1</td>\n",
       "      <td>0</td>\n",
       "    </tr>\n",
       "    <tr>\n",
       "      <th>1557</th>\n",
       "      <td>1</td>\n",
       "      <td>1</td>\n",
       "      <td>0</td>\n",
       "      <td>1</td>\n",
       "      <td>0</td>\n",
       "    </tr>\n",
       "  </tbody>\n",
       "</table>\n",
       "<p>1558 rows × 5 columns</p>\n",
       "</div>"
      ],
      "text/plain": [
       "      Hoc_tap  Lam_viec  Choi_game  Giai_tri  Khac\n",
       "0           1         1          1         1     1\n",
       "1           1         1          1         0     0\n",
       "2           1         1          0         0     0\n",
       "3           1         1          0         0     0\n",
       "4           1         1          0         0     0\n",
       "...       ...       ...        ...       ...   ...\n",
       "1553        0         0          0         1     0\n",
       "1554        1         1          0         0     0\n",
       "1555        1         1          0         0     0\n",
       "1556        1         1          0         1     0\n",
       "1557        1         1          0         1     0\n",
       "\n",
       "[1558 rows x 5 columns]"
      ]
     },
     "execution_count": 262,
     "metadata": {},
     "output_type": "execute_result"
    }
   ],
   "source": [
    "newpp"
   ]
  },
  {
   "cell_type": "code",
   "execution_count": 263,
   "id": "b702de94",
   "metadata": {
    "id": "b702de94"
   },
   "outputs": [],
   "source": [
    "new_data_Fk = pd.merge(newpp, new_ds, left_index=True, right_index=True)\n"
   ]
  },
  {
   "cell_type": "code",
   "execution_count": 264,
   "id": "facf8fce",
   "metadata": {
    "colab": {
     "base_uri": "https://localhost:8080/",
     "height": 487
    },
    "id": "facf8fce",
    "outputId": "bf426146-3497-4f0c-bdd9-5297237e01f4"
   },
   "outputs": [
    {
     "data": {
      "text/html": [
       "<div>\n",
       "<style scoped>\n",
       "    .dataframe tbody tr th:only-of-type {\n",
       "        vertical-align: middle;\n",
       "    }\n",
       "\n",
       "    .dataframe tbody tr th {\n",
       "        vertical-align: top;\n",
       "    }\n",
       "\n",
       "    .dataframe thead th {\n",
       "        text-align: right;\n",
       "    }\n",
       "</style>\n",
       "<table border=\"1\" class=\"dataframe\">\n",
       "  <thead>\n",
       "    <tr style=\"text-align: right;\">\n",
       "      <th></th>\n",
       "      <th>Hoc_tap</th>\n",
       "      <th>Lam_viec</th>\n",
       "      <th>Choi_game</th>\n",
       "      <th>Giai_tri</th>\n",
       "      <th>Khac</th>\n",
       "      <th>GioiTinh</th>\n",
       "      <th>NamHocThu</th>\n",
       "      <th>ChiTieuHangThang</th>\n",
       "      <th>ThoiGianSuDung</th>\n",
       "      <th>SalePrice</th>\n",
       "    </tr>\n",
       "  </thead>\n",
       "  <tbody>\n",
       "    <tr>\n",
       "      <th>0</th>\n",
       "      <td>1</td>\n",
       "      <td>1</td>\n",
       "      <td>1</td>\n",
       "      <td>1</td>\n",
       "      <td>1</td>\n",
       "      <td>0</td>\n",
       "      <td>1</td>\n",
       "      <td>2</td>\n",
       "      <td>3</td>\n",
       "      <td>3020000</td>\n",
       "    </tr>\n",
       "    <tr>\n",
       "      <th>1</th>\n",
       "      <td>1</td>\n",
       "      <td>1</td>\n",
       "      <td>1</td>\n",
       "      <td>0</td>\n",
       "      <td>0</td>\n",
       "      <td>0</td>\n",
       "      <td>3</td>\n",
       "      <td>3</td>\n",
       "      <td>1</td>\n",
       "      <td>18310000</td>\n",
       "    </tr>\n",
       "    <tr>\n",
       "      <th>2</th>\n",
       "      <td>1</td>\n",
       "      <td>1</td>\n",
       "      <td>0</td>\n",
       "      <td>0</td>\n",
       "      <td>0</td>\n",
       "      <td>1</td>\n",
       "      <td>2</td>\n",
       "      <td>2</td>\n",
       "      <td>1</td>\n",
       "      <td>12203000</td>\n",
       "    </tr>\n",
       "    <tr>\n",
       "      <th>3</th>\n",
       "      <td>1</td>\n",
       "      <td>1</td>\n",
       "      <td>0</td>\n",
       "      <td>0</td>\n",
       "      <td>0</td>\n",
       "      <td>1</td>\n",
       "      <td>2</td>\n",
       "      <td>2</td>\n",
       "      <td>1</td>\n",
       "      <td>13070000</td>\n",
       "    </tr>\n",
       "    <tr>\n",
       "      <th>4</th>\n",
       "      <td>1</td>\n",
       "      <td>1</td>\n",
       "      <td>0</td>\n",
       "      <td>0</td>\n",
       "      <td>0</td>\n",
       "      <td>1</td>\n",
       "      <td>2</td>\n",
       "      <td>2</td>\n",
       "      <td>1</td>\n",
       "      <td>10172000</td>\n",
       "    </tr>\n",
       "    <tr>\n",
       "      <th>...</th>\n",
       "      <td>...</td>\n",
       "      <td>...</td>\n",
       "      <td>...</td>\n",
       "      <td>...</td>\n",
       "      <td>...</td>\n",
       "      <td>...</td>\n",
       "      <td>...</td>\n",
       "      <td>...</td>\n",
       "      <td>...</td>\n",
       "      <td>...</td>\n",
       "    </tr>\n",
       "    <tr>\n",
       "      <th>1553</th>\n",
       "      <td>0</td>\n",
       "      <td>0</td>\n",
       "      <td>0</td>\n",
       "      <td>1</td>\n",
       "      <td>0</td>\n",
       "      <td>1</td>\n",
       "      <td>0</td>\n",
       "      <td>2</td>\n",
       "      <td>3</td>\n",
       "      <td>15500000</td>\n",
       "    </tr>\n",
       "    <tr>\n",
       "      <th>1554</th>\n",
       "      <td>1</td>\n",
       "      <td>1</td>\n",
       "      <td>0</td>\n",
       "      <td>0</td>\n",
       "      <td>0</td>\n",
       "      <td>1</td>\n",
       "      <td>3</td>\n",
       "      <td>1</td>\n",
       "      <td>1</td>\n",
       "      <td>11539000</td>\n",
       "    </tr>\n",
       "    <tr>\n",
       "      <th>1555</th>\n",
       "      <td>1</td>\n",
       "      <td>1</td>\n",
       "      <td>0</td>\n",
       "      <td>0</td>\n",
       "      <td>0</td>\n",
       "      <td>1</td>\n",
       "      <td>3</td>\n",
       "      <td>1</td>\n",
       "      <td>1</td>\n",
       "      <td>21200000</td>\n",
       "    </tr>\n",
       "    <tr>\n",
       "      <th>1556</th>\n",
       "      <td>1</td>\n",
       "      <td>1</td>\n",
       "      <td>0</td>\n",
       "      <td>1</td>\n",
       "      <td>0</td>\n",
       "      <td>1</td>\n",
       "      <td>0</td>\n",
       "      <td>2</td>\n",
       "      <td>3</td>\n",
       "      <td>4248000</td>\n",
       "    </tr>\n",
       "    <tr>\n",
       "      <th>1557</th>\n",
       "      <td>1</td>\n",
       "      <td>1</td>\n",
       "      <td>0</td>\n",
       "      <td>1</td>\n",
       "      <td>0</td>\n",
       "      <td>1</td>\n",
       "      <td>0</td>\n",
       "      <td>2</td>\n",
       "      <td>3</td>\n",
       "      <td>14390000</td>\n",
       "    </tr>\n",
       "  </tbody>\n",
       "</table>\n",
       "<p>1558 rows × 10 columns</p>\n",
       "</div>"
      ],
      "text/plain": [
       "      Hoc_tap  Lam_viec  Choi_game  Giai_tri  Khac  GioiTinh  NamHocThu  \\\n",
       "0           1         1          1         1     1         0          1   \n",
       "1           1         1          1         0     0         0          3   \n",
       "2           1         1          0         0     0         1          2   \n",
       "3           1         1          0         0     0         1          2   \n",
       "4           1         1          0         0     0         1          2   \n",
       "...       ...       ...        ...       ...   ...       ...        ...   \n",
       "1553        0         0          0         1     0         1          0   \n",
       "1554        1         1          0         0     0         1          3   \n",
       "1555        1         1          0         0     0         1          3   \n",
       "1556        1         1          0         1     0         1          0   \n",
       "1557        1         1          0         1     0         1          0   \n",
       "\n",
       "      ChiTieuHangThang  ThoiGianSuDung  SalePrice  \n",
       "0                    2               3    3020000  \n",
       "1                    3               1   18310000  \n",
       "2                    2               1   12203000  \n",
       "3                    2               1   13070000  \n",
       "4                    2               1   10172000  \n",
       "...                ...             ...        ...  \n",
       "1553                 2               3   15500000  \n",
       "1554                 1               1   11539000  \n",
       "1555                 1               1   21200000  \n",
       "1556                 2               3    4248000  \n",
       "1557                 2               3   14390000  \n",
       "\n",
       "[1558 rows x 10 columns]"
      ]
     },
     "execution_count": 264,
     "metadata": {},
     "output_type": "execute_result"
    }
   ],
   "source": [
    "new_data_Fk"
   ]
  },
  {
   "cell_type": "code",
   "execution_count": 265,
   "id": "404abbd1",
   "metadata": {
    "colab": {
     "base_uri": "https://localhost:8080/"
    },
    "id": "404abbd1",
    "outputId": "e06ab27f-15d7-4172-813a-bfd6c8ec3c87"
   },
   "outputs": [
    {
     "data": {
      "text/plain": [
       "Index(['Hoc_tap', 'Lam_viec', 'Choi_game', 'Giai_tri', 'Khac', 'GioiTinh',\n",
       "       'NamHocThu', 'ChiTieuHangThang', 'ThoiGianSuDung', 'SalePrice'],\n",
       "      dtype='object')"
      ]
     },
     "execution_count": 265,
     "metadata": {},
     "output_type": "execute_result"
    }
   ],
   "source": [
    "new_data_Fk.columns"
   ]
  },
  {
   "cell_type": "markdown",
   "id": "5f5a9f36",
   "metadata": {},
   "source": [
    "## 2. Training Model:<a class=\"anchor\" id=\"D2\"></a>"
   ]
  },
  {
   "cell_type": "code",
   "execution_count": 266,
   "id": "b23d367a",
   "metadata": {
    "id": "b23d367a"
   },
   "outputs": [],
   "source": [
    "# chia tajap duwx lieeju\n",
    "feature = new_data_Fk[['Hoc_tap', 'Lam_viec', 'Choi_game', 'Giai_tri', 'GioiTinh',\n",
    "       'NamHocThu', 'ChiTieuHangThang', 'ThoiGianSuDung']]\n",
    "target = new_data_Fk['SalePrice']\n",
    "from sklearn.model_selection import train_test_split\n",
    "\n",
    "X_train, X_test, y_train, y_test = train_test_split(feature, target, test_size =0.33)"
   ]
  },
  {
   "cell_type": "code",
   "execution_count": 267,
   "id": "3efb5e36",
   "metadata": {
    "id": "3efb5e36"
   },
   "outputs": [],
   "source": [
    "reg = linear_model.LinearRegression()"
   ]
  },
  {
   "cell_type": "code",
   "execution_count": 268,
   "id": "e8e52802",
   "metadata": {
    "colab": {
     "base_uri": "https://localhost:8080/"
    },
    "id": "e8e52802",
    "outputId": "a3ead67a-73f8-4c53-a684-73160ff72e65",
    "scrolled": true
   },
   "outputs": [
    {
     "data": {
      "text/plain": [
       "LinearRegression()"
      ]
     },
     "execution_count": 268,
     "metadata": {},
     "output_type": "execute_result"
    }
   ],
   "source": [
    "# reg.fit(new_data_Fk[['Hoc_tap', 'Lam_viec', 'Choi_game', 'Giai_tri', 'Khac','GioiTinh', 'NamHocThu', 'ChiTieuHangThang', 'ThoiGianSuDung']],new_data_Fk['SalePrice'])\n",
    "reg.fit(X_train, y_train)"
   ]
  },
  {
   "cell_type": "code",
   "execution_count": 269,
   "id": "29afaa5f",
   "metadata": {
    "colab": {
     "base_uri": "https://localhost:8080/"
    },
    "id": "29afaa5f",
    "outputId": "aaeae8c8-63b9-4885-9092-184b4978f6ca"
   },
   "outputs": [
    {
     "data": {
      "text/plain": [
       "0.0591804764711239"
      ]
     },
     "execution_count": 269,
     "metadata": {},
     "output_type": "execute_result"
    }
   ],
   "source": [
    "reg.score(X_test, y_test)"
   ]
  },
  {
   "cell_type": "code",
   "execution_count": 270,
   "id": "sxkjd0ZRxenL",
   "metadata": {
    "colab": {
     "base_uri": "https://localhost:8080/",
     "height": 498
    },
    "id": "sxkjd0ZRxenL",
    "outputId": "d365e65d-c6f3-4729-88e5-ba0928eabf0a"
   },
   "outputs": [
    {
     "name": "stdout",
     "output_type": "stream",
     "text": [
      "SalePrice distribution\n",
      "Mean:0.1936090232514851 Std:0.15753284965221342\n"
     ]
    },
    {
     "data": {
      "text/plain": [
       "<AxesSubplot:>"
      ]
     },
     "execution_count": 270,
     "metadata": {},
     "output_type": "execute_result"
    },
    {
     "data": {
      "image/png": "[encoded data removed]",
      "text/plain": [
       "<Figure size 1440x720 with 1 Axes>"
      ]
     },
     "metadata": {},
     "output_type": "display_data"
    }
   ],
   "source": [
    "print('SalePrice distribution')\n",
    "print(\"Mean:\"+str(((target - target.min())/(target.max()-target.min())).mean()),\n",
    "\"Std:\"+str(((target - target.min())/(target.max()-target.min())).std()))\n",
    "((target - target.min())/(target.max()-target.min())).hist(bins=200, figsize=(20,10))"
   ]
  },
  {
   "cell_type": "code",
   "execution_count": 271,
   "id": "3f917ad8",
   "metadata": {
    "id": "3f917ad8"
   },
   "outputs": [],
   "source": [
    "# chia tajap duwx lieeju\n",
    "feature = new_data_Fk[['GioiTinh', 'Hoc_tap', 'Lam_viec', 'Choi_game',\n",
    "       'NamHocThu', 'ChiTieuHangThang', 'ThoiGianSuDung']]\n",
    "target = new_data_Fk['SalePrice']\n",
    "from sklearn.model_selection import train_test_split\n",
    "\n",
    "X_train, X_test, y_train, y_test = train_test_split(feature, target, test_size =0.2, random_state=10)"
   ]
  },
  {
   "cell_type": "code",
   "execution_count": 272,
   "id": "462b6028",
   "metadata": {
    "colab": {
     "base_uri": "https://localhost:8080/"
    },
    "id": "462b6028",
    "outputId": "ef683510-c607-4ee8-a15b-6e32f2a6cb19"
   },
   "outputs": [
    {
     "data": {
      "text/plain": [
       "LinearRegression()"
      ]
     },
     "execution_count": 272,
     "metadata": {},
     "output_type": "execute_result"
    }
   ],
   "source": [
    "reg = linear_model.LinearRegression()\n",
    "reg.fit(X_train, y_train)"
   ]
  },
  {
   "cell_type": "markdown",
   "id": "6f82690d",
   "metadata": {
    "id": "6f82690d"
   },
   "source": [
    "Use K Fold cross validation to measure accuracy of our LinearRegression model"
   ]
  },
  {
   "cell_type": "code",
   "execution_count": 273,
   "id": "e649b3b3",
   "metadata": {
    "colab": {
     "base_uri": "https://localhost:8080/"
    },
    "id": "e649b3b3",
    "outputId": "7738d229-8211-4607-dfb2-020d9dbee331"
   },
   "outputs": [
    {
     "data": {
      "text/plain": [
       "array([ 0.03597598,  0.07741916,  0.05095781,  0.05710752, -0.02684985])"
      ]
     },
     "execution_count": 273,
     "metadata": {},
     "output_type": "execute_result"
    }
   ],
   "source": [
    "from sklearn.linear_model import LinearRegression\n",
    "from sklearn.model_selection import ShuffleSplit\n",
    "from sklearn.model_selection import cross_val_score\n",
    "\n",
    "cv = ShuffleSplit(n_splits=5, test_size=0.2, random_state=0)\n",
    "\n",
    "cross_val_score(LinearRegression(), feature, target, cv=cv)"
   ]
  },
  {
   "cell_type": "markdown",
   "id": "20f9abdb",
   "metadata": {
    "id": "20f9abdb"
   },
   "source": [
    "Find best model using GridSearchCV"
   ]
  },
  {
   "cell_type": "code",
   "execution_count": 274,
   "id": "CY69wiT9y4zQ",
   "metadata": {
    "id": "CY69wiT9y4zQ"
   },
   "outputs": [],
   "source": [
    "new_data_Fk['NamHocThu'] = [int(data[-1:]) for data in raw_dataset['NamHocThu']]"
   ]
  },
  {
   "cell_type": "code",
   "execution_count": 275,
   "id": "gG1ieJRGy1FU",
   "metadata": {
    "colab": {
     "base_uri": "https://localhost:8080/"
    },
    "id": "gG1ieJRGy1FU",
    "outputId": "0b360444-44e8-4a7d-9b02-7be889386c37"
   },
   "outputs": [
    {
     "data": {
      "text/plain": [
       "Index(['GioiTinh', 'Hoc_tap', 'Lam_viec', 'Choi_game', 'NamHocThu',\n",
       "       'ChiTieuHangThang', 'ThoiGianSuDung'],\n",
       "      dtype='object')"
      ]
     },
     "execution_count": 275,
     "metadata": {},
     "output_type": "execute_result"
    }
   ],
   "source": [
    "feature.columns"
   ]
  },
  {
   "cell_type": "code",
   "execution_count": 276,
   "id": "kXOs5xMLyQAP",
   "metadata": {
    "colab": {
     "base_uri": "https://localhost:8080/",
     "height": 383
    },
    "id": "kXOs5xMLyQAP",
    "outputId": "e4869ae9-7e63-4291-f596-84e59f8029ef"
   },
   "outputs": [
    {
     "data": {
      "text/plain": [
       "<AxesSubplot:>"
      ]
     },
     "execution_count": 276,
     "metadata": {},
     "output_type": "execute_result"
    },
    {
     "data": {
      "image/png": "[encoded data removed]",
      "text/plain": [
       "<Figure size 432x288 with 2 Axes>"
      ]
     },
     "metadata": {},
     "output_type": "display_data"
    }
   ],
   "source": [
    "import seaborn\n",
    "\n",
    "# features linear correlation\n",
    "seaborn.heatmap(new_data_Fk.corr())"
   ]
  },
  {
   "cell_type": "code",
   "execution_count": 277,
   "id": "0cf68ca7",
   "metadata": {
    "colab": {
     "base_uri": "https://localhost:8080/",
     "height": 1000
    },
    "id": "0cf68ca7",
    "outputId": "fd5cd513-49ab-4c4b-e5c4-4465a75273dc"
   },
   "outputs": [
    {
     "data": {
      "text/html": [
       "<div>\n",
       "<style scoped>\n",
       "    .dataframe tbody tr th:only-of-type {\n",
       "        vertical-align: middle;\n",
       "    }\n",
       "\n",
       "    .dataframe tbody tr th {\n",
       "        vertical-align: top;\n",
       "    }\n",
       "\n",
       "    .dataframe thead th {\n",
       "        text-align: right;\n",
       "    }\n",
       "</style>\n",
       "<table border=\"1\" class=\"dataframe\">\n",
       "  <thead>\n",
       "    <tr style=\"text-align: right;\">\n",
       "      <th></th>\n",
       "      <th>model</th>\n",
       "      <th>best_score</th>\n",
       "      <th>best_params</th>\n",
       "    </tr>\n",
       "  </thead>\n",
       "  <tbody>\n",
       "    <tr>\n",
       "      <th>0</th>\n",
       "      <td>linear_regression</td>\n",
       "      <td>0.036485</td>\n",
       "      <td>{'normalize': False}</td>\n",
       "    </tr>\n",
       "    <tr>\n",
       "      <th>1</th>\n",
       "      <td>lasso</td>\n",
       "      <td>0.036485</td>\n",
       "      <td>{'alpha': 2, 'selection': 'random'}</td>\n",
       "    </tr>\n",
       "    <tr>\n",
       "      <th>2</th>\n",
       "      <td>SVR</td>\n",
       "      <td>-0.077420</td>\n",
       "      <td>{'gamma': 'scale', 'kernel': 'poly'}</td>\n",
       "    </tr>\n",
       "    <tr>\n",
       "      <th>3</th>\n",
       "      <td>decision_tree</td>\n",
       "      <td>-0.229865</td>\n",
       "      <td>{'criterion': 'friedman_mse', 'splitter': 'best'}</td>\n",
       "    </tr>\n",
       "  </tbody>\n",
       "</table>\n",
       "</div>"
      ],
      "text/plain": [
       "               model  best_score  \\\n",
       "0  linear_regression    0.036485   \n",
       "1              lasso    0.036485   \n",
       "2                SVR   -0.077420   \n",
       "3      decision_tree   -0.229865   \n",
       "\n",
       "                                         best_params  \n",
       "0                               {'normalize': False}  \n",
       "1                {'alpha': 2, 'selection': 'random'}  \n",
       "2               {'gamma': 'scale', 'kernel': 'poly'}  \n",
       "3  {'criterion': 'friedman_mse', 'splitter': 'best'}  "
      ]
     },
     "execution_count": 277,
     "metadata": {},
     "output_type": "execute_result"
    }
   ],
   "source": [
    "from sklearn.model_selection import GridSearchCV\n",
    "\n",
    "from sklearn.linear_model import Lasso\n",
    "from sklearn.tree import DecisionTreeRegressor\n",
    "from sklearn.svm import SVR\n",
    "\n",
    "\n",
    "def find_best_model_using_gridsearchcv(X,y):\n",
    "    algos = {\n",
    "        'linear_regression' : {\n",
    "            'model': LinearRegression(),\n",
    "            'params': {\n",
    "                'normalize': [True, False]\n",
    "            }\n",
    "        },\n",
    "        'lasso': {\n",
    "            'model': Lasso(),\n",
    "            'params': {\n",
    "                'alpha': [1,2],\n",
    "                'selection': ['random', 'cyclic']\n",
    "            }  \n",
    "        },'SVR': {\n",
    "            'model': SVR(),\n",
    "            'params': {\n",
    "                'kernel': ['linear', 'poly', 'rbf'],\n",
    "                'gamma': ['scale','auto']\n",
    "            }},\n",
    "        'decision_tree': {\n",
    "            'model': DecisionTreeRegressor(),\n",
    "            'params': {\n",
    "                'criterion' : ['mse','friedman_mse'],\n",
    "                'splitter': ['best','random']\n",
    "            }\n",
    "        }\n",
    "    }\n",
    "    scores = []\n",
    "    cv = ShuffleSplit(n_splits=5, test_size=0.5, random_state=0)\n",
    "    for algo_name, config in algos.items():\n",
    "        gs =  GridSearchCV(config['model'], config['params'], cv=cv, return_train_score=False)\n",
    "        gs.fit(X,y)\n",
    "        scores.append({\n",
    "            'model': algo_name,\n",
    "            'best_score': gs.best_score_,\n",
    "            'best_params': gs.best_params_\n",
    "        }) \n",
    "\n",
    "    return pd.DataFrame(scores,columns=['model','best_score','best_params'])\n",
    "\n",
    "find_best_model_using_gridsearchcv(feature, target)"
   ]
  },
  {
   "cell_type": "markdown",
   "id": "b07a77cc",
   "metadata": {},
   "source": []
  },
  {
   "cell_type": "code",
   "execution_count": 278,
   "id": "f2a144f3",
   "metadata": {},
   "outputs": [],
   "source": [
    "# df3['SalePrice'].describe()"
   ]
  },
  {
   "cell_type": "code",
   "execution_count": 279,
   "id": "c8e62fa9",
   "metadata": {},
   "outputs": [],
   "source": [
    "# plt.hist(list(df3['SalePrice']), bins =6)"
   ]
  },
  {
   "cell_type": "code",
   "execution_count": 281,
   "id": "877589cb",
   "metadata": {},
   "outputs": [],
   "source": [
    "# Mn có thể muted nhóm, mình note tạm vài ý lên\n",
    "\n",
    "# 1. Phần câu 1,2 sẽ cần trình bày lại file JN, xem xét mục tiêu và phân tích ở file báo cáo mức bề mặt và nhận xét cơ bản\n",
    "\n",
    "# 2. Phần 3,4 là phần predict\n",
    "# Xây dựng xem xét tối ưu mô hình\n",
    "# Gán nhãn giá theo mức trung bình, thấp cao\n",
    "# Có thể dùng bin chia thành 6,7 nhóm\n",
    "\n",
    "# Dựa vào các thông tin quan trọng của customer để đưa ra gợi ý dùng thuật toán phân loại\n",
    "\n",
    "# Mình có thể đối chiếu thêm cách phân cụm khách hàng theo chi tiêu hàng tháng (4 class)\n",
    "# Và theo nghề nghiệp gia đình (4class) \n",
    "# Để xem phân bố dữ liệu price và lấy trung bình theo các nhóm"
   ]
  },
  {
   "cell_type": "markdown",
   "id": "dc9803b7",
   "metadata": {},
   "source": []
  },
  {
   "cell_type": "code",
   "execution_count": 282,
   "id": "95c40dfc",
   "metadata": {},
   "outputs": [
    {
     "data": {
      "image/png": "[encoded data removed]",
      "text/plain": [
       "<Figure size 432x288 with 1 Axes>"
      ]
     },
     "metadata": {},
     "output_type": "display_data"
    }
   ],
   "source": [
    "plt.hist(target, bins=200)\n",
    "plt.show()"
   ]
  },
  {
   "cell_type": "markdown",
   "id": "192cf93e",
   "metadata": {},
   "source": [
    "Phân chia laptop theo phân khúc:\n",
    "    \n",
    "    - thấp Dưới 5 tr\n",
    "    - trung dưới 10 tr\n",
    "    - cao dưới 20 tr\n",
    "    - cao cấp dưới 50tr\n",
    "https://techzones.vn/cac-laptop-van-phong-tot-nhat-trong-tung-phan-khuc-gia"
   ]
  },
  {
   "cell_type": "code",
   "execution_count": 296,
   "id": "1aa394e9",
   "metadata": {},
   "outputs": [
    {
     "name": "stdout",
     "output_type": "stream",
     "text": [
      "So nguoi mua laptop tam thap (duoi5tr) 62\n",
      "So nguoi mua laptop tam thap (duoi10tr) 139\n",
      "So nguoi mua laptop tam thap (duoi20tr) 1139\n",
      "So nguoi mua laptop tam thap (duoi50tr) 171\n"
     ]
    }
   ],
   "source": [
    "s= target.tolist()\n",
    "\n",
    "def counterr(arr,x):\n",
    "    re =0\n",
    "    for i in arr:\n",
    "        if i==x: re+=1\n",
    "    return re\n",
    "s1= [0 for i in s if i<5000000 and i>0]\n",
    "print(\"So nguoi mua laptop tam thap (duoi5tr)\",counterr(s1,0))\n",
    "s2 = [1 for i in s if i<10000000 and i >=5000000]\n",
    "print(\"So nguoi mua laptop tam thap (duoi10tr)\",counterr(s2,1))\n",
    "s3 = [2 for i in s if i<20000000 and i>=10000000]\n",
    "print(\"So nguoi mua laptop tam thap (duoi20tr)\",counterr(s3,2))\n",
    "s4= [3 for i in s if i<50000000 and i>=20000000]\n",
    "print(\"So nguoi mua laptop tam thap (duoi50tr)\",counterr(s4,3))\n",
    "\n",
    "s5 = [i for i in s if i>=50000000]\n",
    "# plt.pie(s)\n",
    "# plt.show() "
   ]
  },
  {
   "cell_type": "code",
   "execution_count": 294,
   "id": "49264b54",
   "metadata": {},
   "outputs": [
    {
     "data": {
      "text/plain": [
       "1511"
      ]
     },
     "execution_count": 294,
     "metadata": {},
     "output_type": "execute_result"
    }
   ],
   "source": [
    "62+139+1139+171"
   ]
  },
  {
   "cell_type": "code",
   "execution_count": 295,
   "id": "df5dd7fc",
   "metadata": {},
   "outputs": [
    {
     "data": {
      "text/plain": [
       "1558"
      ]
     },
     "execution_count": 295,
     "metadata": {},
     "output_type": "execute_result"
    }
   ],
   "source": [
    "len(target)"
   ]
  },
  {
   "cell_type": "code",
   "execution_count": 304,
   "id": "f5fb3311",
   "metadata": {},
   "outputs": [
    {
     "data": {
      "text/plain": [
       "array([[<AxesSubplot:title={'center':'col'}>]], dtype=object)"
      ]
     },
     "execution_count": 304,
     "metadata": {},
     "output_type": "execute_result"
    },
    {
     "data": {
      "image/png": "[encoded data removed]",
      "text/plain": [
       "<Figure size 1440x720 with 1 Axes>"
      ]
     },
     "metadata": {},
     "output_type": "display_data"
    }
   ],
   "source": [
    "(pd.DataFrame({'col':s5})).hist(bins=200, figsize=(20,10))"
   ]
  },
  {
   "cell_type": "code",
   "execution_count": 305,
   "id": "f846cd1b",
   "metadata": {},
   "outputs": [
    {
     "data": {
      "text/plain": [
       "47"
      ]
     },
     "execution_count": 305,
     "metadata": {},
     "output_type": "execute_result"
    }
   ],
   "source": [
    "1558 - 1511"
   ]
  },
  {
   "cell_type": "code",
   "execution_count": 306,
   "id": "cceed8bb",
   "metadata": {},
   "outputs": [
    {
     "data": {
      "text/plain": [
       "0.7310654685494223"
      ]
     },
     "execution_count": 306,
     "metadata": {},
     "output_type": "execute_result"
    }
   ],
   "source": [
    "1139/ 1558"
   ]
  },
  {
   "cell_type": "markdown",
   "id": "7c87da1e",
   "metadata": {},
   "source": [
    "### Nhận thấy laptop tầm 10-20 chiếm phần lớn 1139/ 1558 = 70%\n",
    "\n",
    "### Ta sẽ xem phân phối tầm giá này"
   ]
  },
  {
   "cell_type": "code",
   "execution_count": 308,
   "id": "a130efb7",
   "metadata": {},
   "outputs": [
    {
     "data": {
      "text/plain": [
       "array([[<AxesSubplot:title={'center':'col'}>]], dtype=object)"
      ]
     },
     "execution_count": 308,
     "metadata": {},
     "output_type": "execute_result"
    },
    {
     "data": {
      "image/png": "[encoded data removed]",
      "text/plain": [
       "<Figure size 1440x720 with 1 Axes>"
      ]
     },
     "metadata": {},
     "output_type": "display_data"
    }
   ],
   "source": [
    "s3 = [i for i in s if i<20000000 and i>=10000000]\n",
    "(pd.DataFrame({'col':s3})).hist(bins=200, figsize=(20,10))"
   ]
  },
  {
   "cell_type": "markdown",
   "id": "e5e6f1de",
   "metadata": {},
   "source": [
    "### Người mua tập trung mua ở mức giá 10-14 triệu và một mức tiếp theo là 15-20 triệu"
   ]
  },
  {
   "cell_type": "code",
   "execution_count": 324,
   "id": "ae2363a6",
   "metadata": {},
   "outputs": [],
   "source": [
    "\n",
    "# Mình có thể đối chiếu thêm cách phân cụm khách hàng theo chi tiêu hàng tháng (4 class)\n",
    "# Và theo nghề nghiệp gia đình (4class) \n",
    "# Để xem phân bố dữ liệu price và lấy trung bình theo các nhóm"
   ]
  },
  {
   "cell_type": "code",
   "execution_count": 309,
   "id": "23684eee",
   "metadata": {},
   "outputs": [
    {
     "data": {
      "text/plain": [
       "array([[<AxesSubplot:title={'center':'col'}>]], dtype=object)"
      ]
     },
     "execution_count": 309,
     "metadata": {},
     "output_type": "execute_result"
    },
    {
     "data": {
      "image/png": "[encoded data removed]",
      "text/plain": [
       "<Figure size 1440x720 with 1 Axes>"
      ]
     },
     "metadata": {},
     "output_type": "display_data"
    }
   ],
   "source": [
    "(pd.DataFrame({'col':s3})).hist(figsize=(20,10))"
   ]
  },
  {
   "cell_type": "markdown",
   "id": "eaf25d0f",
   "metadata": {},
   "source": [
    "Phía trên ta có thể phân dữ liệu thành 4 nhãn : thấp hơn 5 tr, thấp hơn 10 tr, thấp hơn 20 tr, thấp hơn 50tr và cao hơn 50tr, tuy nhiên ta có thể phân thành 2 nhóm ở khoảng thấp hơn 20 tr là thấp hơn 15 tr và thấp hơn 20tr => Lúc này dùng cây quyết định vào để gợi ý người dùng\n",
    "\n",
    "Hy vọng vào một kết quả tốt hơn mô hình ở trên"
   ]
  },
  {
   "cell_type": "code",
   "execution_count": 311,
   "id": "0d795f3a",
   "metadata": {},
   "outputs": [
    {
     "data": {
      "text/html": [
       "<div>\n",
       "<style scoped>\n",
       "    .dataframe tbody tr th:only-of-type {\n",
       "        vertical-align: middle;\n",
       "    }\n",
       "\n",
       "    .dataframe tbody tr th {\n",
       "        vertical-align: top;\n",
       "    }\n",
       "\n",
       "    .dataframe thead th {\n",
       "        text-align: right;\n",
       "    }\n",
       "</style>\n",
       "<table border=\"1\" class=\"dataframe\">\n",
       "  <thead>\n",
       "    <tr style=\"text-align: right;\">\n",
       "      <th></th>\n",
       "      <th>Hoc_tap</th>\n",
       "      <th>Lam_viec</th>\n",
       "      <th>Choi_game</th>\n",
       "      <th>Giai_tri</th>\n",
       "      <th>Khac</th>\n",
       "      <th>GioiTinh</th>\n",
       "      <th>NamHocThu</th>\n",
       "      <th>ChiTieuHangThang</th>\n",
       "      <th>ThoiGianSuDung</th>\n",
       "      <th>SalePrice</th>\n",
       "    </tr>\n",
       "  </thead>\n",
       "  <tbody>\n",
       "    <tr>\n",
       "      <th>0</th>\n",
       "      <td>1</td>\n",
       "      <td>1</td>\n",
       "      <td>1</td>\n",
       "      <td>1</td>\n",
       "      <td>1</td>\n",
       "      <td>0</td>\n",
       "      <td>2</td>\n",
       "      <td>2</td>\n",
       "      <td>3</td>\n",
       "      <td>3020000</td>\n",
       "    </tr>\n",
       "    <tr>\n",
       "      <th>1</th>\n",
       "      <td>1</td>\n",
       "      <td>1</td>\n",
       "      <td>1</td>\n",
       "      <td>0</td>\n",
       "      <td>0</td>\n",
       "      <td>0</td>\n",
       "      <td>4</td>\n",
       "      <td>3</td>\n",
       "      <td>1</td>\n",
       "      <td>18310000</td>\n",
       "    </tr>\n",
       "    <tr>\n",
       "      <th>2</th>\n",
       "      <td>1</td>\n",
       "      <td>1</td>\n",
       "      <td>0</td>\n",
       "      <td>0</td>\n",
       "      <td>0</td>\n",
       "      <td>1</td>\n",
       "      <td>3</td>\n",
       "      <td>2</td>\n",
       "      <td>1</td>\n",
       "      <td>12203000</td>\n",
       "    </tr>\n",
       "  </tbody>\n",
       "</table>\n",
       "</div>"
      ],
      "text/plain": [
       "   Hoc_tap  Lam_viec  Choi_game  Giai_tri  Khac  GioiTinh  NamHocThu  \\\n",
       "0        1         1          1         1     1         0          2   \n",
       "1        1         1          1         0     0         0          4   \n",
       "2        1         1          0         0     0         1          3   \n",
       "\n",
       "   ChiTieuHangThang  ThoiGianSuDung  SalePrice  \n",
       "0                 2               3    3020000  \n",
       "1                 3               1   18310000  \n",
       "2                 2               1   12203000  "
      ]
     },
     "execution_count": 311,
     "metadata": {},
     "output_type": "execute_result"
    }
   ],
   "source": [
    "# sử dụng lại new_data fam ở trên gán nhãn lại trường SalePrice\n",
    "new_data_Fk.head(3)"
   ]
  },
  {
   "cell_type": "code",
   "execution_count": 312,
   "id": "53275bcb",
   "metadata": {},
   "outputs": [
    {
     "data": {
      "text/html": [
       "<div>\n",
       "<style scoped>\n",
       "    .dataframe tbody tr th:only-of-type {\n",
       "        vertical-align: middle;\n",
       "    }\n",
       "\n",
       "    .dataframe tbody tr th {\n",
       "        vertical-align: top;\n",
       "    }\n",
       "\n",
       "    .dataframe thead th {\n",
       "        text-align: right;\n",
       "    }\n",
       "</style>\n",
       "<table border=\"1\" class=\"dataframe\">\n",
       "  <thead>\n",
       "    <tr style=\"text-align: right;\">\n",
       "      <th></th>\n",
       "      <th>Hoc_tap</th>\n",
       "      <th>Lam_viec</th>\n",
       "      <th>Choi_game</th>\n",
       "      <th>Giai_tri</th>\n",
       "      <th>Khac</th>\n",
       "      <th>GioiTinh</th>\n",
       "      <th>NamHocThu</th>\n",
       "      <th>ChiTieuHangThang</th>\n",
       "      <th>ThoiGianSuDung</th>\n",
       "      <th>SalePrice</th>\n",
       "      <th>SalePrice_Cate</th>\n",
       "    </tr>\n",
       "  </thead>\n",
       "  <tbody>\n",
       "    <tr>\n",
       "      <th>0</th>\n",
       "      <td>1</td>\n",
       "      <td>1</td>\n",
       "      <td>1</td>\n",
       "      <td>1</td>\n",
       "      <td>1</td>\n",
       "      <td>0</td>\n",
       "      <td>2</td>\n",
       "      <td>2</td>\n",
       "      <td>3</td>\n",
       "      <td>3020000</td>\n",
       "      <td>0</td>\n",
       "    </tr>\n",
       "    <tr>\n",
       "      <th>1</th>\n",
       "      <td>1</td>\n",
       "      <td>1</td>\n",
       "      <td>1</td>\n",
       "      <td>0</td>\n",
       "      <td>0</td>\n",
       "      <td>0</td>\n",
       "      <td>4</td>\n",
       "      <td>3</td>\n",
       "      <td>1</td>\n",
       "      <td>18310000</td>\n",
       "      <td>4</td>\n",
       "    </tr>\n",
       "    <tr>\n",
       "      <th>2</th>\n",
       "      <td>1</td>\n",
       "      <td>1</td>\n",
       "      <td>0</td>\n",
       "      <td>0</td>\n",
       "      <td>0</td>\n",
       "      <td>1</td>\n",
       "      <td>3</td>\n",
       "      <td>2</td>\n",
       "      <td>1</td>\n",
       "      <td>12203000</td>\n",
       "      <td>3</td>\n",
       "    </tr>\n",
       "    <tr>\n",
       "      <th>3</th>\n",
       "      <td>1</td>\n",
       "      <td>1</td>\n",
       "      <td>0</td>\n",
       "      <td>0</td>\n",
       "      <td>0</td>\n",
       "      <td>1</td>\n",
       "      <td>3</td>\n",
       "      <td>2</td>\n",
       "      <td>1</td>\n",
       "      <td>13070000</td>\n",
       "      <td>3</td>\n",
       "    </tr>\n",
       "    <tr>\n",
       "      <th>4</th>\n",
       "      <td>1</td>\n",
       "      <td>1</td>\n",
       "      <td>0</td>\n",
       "      <td>0</td>\n",
       "      <td>0</td>\n",
       "      <td>1</td>\n",
       "      <td>3</td>\n",
       "      <td>2</td>\n",
       "      <td>1</td>\n",
       "      <td>10172000</td>\n",
       "      <td>3</td>\n",
       "    </tr>\n",
       "  </tbody>\n",
       "</table>\n",
       "</div>"
      ],
      "text/plain": [
       "   Hoc_tap  Lam_viec  Choi_game  Giai_tri  Khac  GioiTinh  NamHocThu  \\\n",
       "0        1         1          1         1     1         0          2   \n",
       "1        1         1          1         0     0         0          4   \n",
       "2        1         1          0         0     0         1          3   \n",
       "3        1         1          0         0     0         1          3   \n",
       "4        1         1          0         0     0         1          3   \n",
       "\n",
       "   ChiTieuHangThang  ThoiGianSuDung  SalePrice  SalePrice_Cate  \n",
       "0                 2               3    3020000               0  \n",
       "1                 3               1   18310000               4  \n",
       "2                 2               1   12203000               3  \n",
       "3                 2               1   13070000               3  \n",
       "4                 2               1   10172000               3  "
      ]
     },
     "execution_count": 312,
     "metadata": {},
     "output_type": "execute_result"
    }
   ],
   "source": [
    "new_data_for_dt = new_data_Fk # new data frame for decision tree model\n",
    "\n",
    "def convertt(i):\n",
    "    # conver_sale_price_to_categorical_data\n",
    "    if i<5000000:\n",
    "        return 0\n",
    "    elif i<10000000 and i >=5000000:\n",
    "        return 2\n",
    "    elif i<15000000 and i>=10000000:\n",
    "        return 3\n",
    "    elif i<20000000 and i>=15000000:\n",
    "        return 4\n",
    "    elif i<50000000 and i>=20000000:\n",
    "        return 5\n",
    "    else:\n",
    "        return 6\n",
    "    \n",
    "new_data_for_dt['SalePrice_Cate'] = new_data_for_dt['SalePrice'].apply(convertt)\n",
    "new_data_for_dt.head()\n",
    "\n",
    "\n"
   ]
  },
  {
   "cell_type": "code",
   "execution_count": 314,
   "id": "9fb840f9",
   "metadata": {},
   "outputs": [],
   "source": [
    "inputs_l = new_data_for_dt.drop(['SalePrice', 'SalePrice_Cate'], axis = 1)\n",
    "target = new_data_for_dt['SalePrice_Cate']"
   ]
  },
  {
   "cell_type": "code",
   "execution_count": 315,
   "id": "82f47790",
   "metadata": {},
   "outputs": [
    {
     "data": {
      "text/plain": [
       "(array([ 62.,   0.,   0., 139.,   0., 891., 248.,   0., 171.,  47.]),\n",
       " array([0. , 0.6, 1.2, 1.8, 2.4, 3. , 3.6, 4.2, 4.8, 5.4, 6. ]),\n",
       " <BarContainer object of 10 artists>)"
      ]
     },
     "execution_count": 315,
     "metadata": {},
     "output_type": "execute_result"
    },
    {
     "data": {
      "image/png": "[encoded data removed]",
      "text/plain": [
       "<Figure size 432x288 with 1 Axes>"
      ]
     },
     "metadata": {},
     "output_type": "display_data"
    }
   ],
   "source": [
    "plt.hist(target)"
   ]
  },
  {
   "cell_type": "code",
   "execution_count": 316,
   "id": "f17fda80",
   "metadata": {},
   "outputs": [],
   "source": [
    "# Chia dữ liệu tành tập train và tập test\n",
    "from sklearn.model_selection import train_test_split\n",
    "\n",
    "X_train, X_test, y_train, y_test = train_test_split(inputs_l, target, test_size =0.33, random_state=30)"
   ]
  },
  {
   "cell_type": "code",
   "execution_count": 317,
   "id": "b4935a65",
   "metadata": {},
   "outputs": [
    {
     "data": {
      "text/plain": [
       "DecisionTreeClassifier(criterion='entropy')"
      ]
     },
     "execution_count": 317,
     "metadata": {},
     "output_type": "execute_result"
    }
   ],
   "source": [
    "# import tree từ lib sklearn và huấn luyện mô hình với tham số entropy tương ứng thuât toán id3\n",
    "from sklearn import tree\n",
    "model = tree.DecisionTreeClassifier(criterion='entropy')\n",
    "\n",
    "model.fit(X_train, y_train) # train trên tập huấn luyện"
   ]
  },
  {
   "cell_type": "code",
   "execution_count": 318,
   "id": "4fd3d40a",
   "metadata": {},
   "outputs": [
    {
     "data": {
      "text/plain": [
       "0.4621359223300971"
      ]
     },
     "execution_count": 318,
     "metadata": {},
     "output_type": "execute_result"
    }
   ],
   "source": [
    "# test mô hình trên tập test - Đánh giá mô hình\n",
    "model.score(X_test, y_test)"
   ]
  },
  {
   "cell_type": "code",
   "execution_count": 321,
   "id": "71865c71",
   "metadata": {},
   "outputs": [
    {
     "data": {
      "text/plain": [
       "array([[  2,   8,  18,   1,   1,   0],\n",
       "       [  2,   6,  32,   4,   1,   0],\n",
       "       [ 12,  20, 210,  21,   9,   7],\n",
       "       [  3,   4,  55,  11,   6,   3],\n",
       "       [  0,   1,  38,  10,   8,   4],\n",
       "       [  0,   0,  11,   3,   3,   1]], dtype=int64)"
      ]
     },
     "execution_count": 321,
     "metadata": {},
     "output_type": "execute_result"
    }
   ],
   "source": [
    "y_label = list(y_test)\n",
    "y_predict = (model.predict(X_test))\n",
    "from sklearn.metrics import confusion_matrix\n",
    "cm = confusion_matrix(y_label, y_predict)\n",
    "cm"
   ]
  },
  {
   "cell_type": "markdown",
   "id": "2f026e0d",
   "metadata": {},
   "source": [
    " ## E. Evaluating Models <a class=\"anchor\" id=\"E\"></a>\n",
    " \n",
    " Chúng tôi có cải thiện hơn về kết quả của mô hình bằng cách sử dụng các nhãn để phân cụm giá, phân đoạn giá cho dự đoán gợi ý người mua hàng tuy nhiên vẫn có thể tăng độ chính xác lên cao hơn nữa sẽ được xem xét trong lần tới\n",
    " \n",
    " Qua việc sử dụng 2 mô hình thì lựa chọn sử dụng mô hình cây quyết định với cách sử dụng cách lựa chọn thuộc tính entropy đem lại kết quả 46% cao hơn cho với 3.6% của mô hình hồi quy tuyến tính trước đó"
   ]
  },
  {
   "cell_type": "code",
   "execution_count": 323,
   "id": "7f7cdadd",
   "metadata": {},
   "outputs": [
    {
     "data": {
      "text/plain": [
       "Text(66.5, 0.5, 'Truth')"
      ]
     },
     "execution_count": 323,
     "metadata": {},
     "output_type": "execute_result"
    },
    {
     "data": {
      "image/png": "[encoded data removed]",
      "text/plain": [
       "<Figure size 720x504 with 2 Axes>"
      ]
     },
     "metadata": {
      "needs_background": "light"
     },
     "output_type": "display_data"
    }
   ],
   "source": [
    "import seaborn as sn\n",
    "%matplotlib inline\n",
    "plt.figure(figsize = (10,7))\n",
    "sn.heatmap(cm, annot=True, fmt='d')\n",
    "plt.xlabel('Predicted')\n",
    "plt.ylabel('Truth')"
   ]
  },
  {
   "cell_type": "markdown",
   "id": "630b1ac1",
   "metadata": {},
   "source": [
    "## F. Conclusion <a class=\"anchor\" id=\"F\"></a>\n",
    "   \n",
    "Trên đây là toàn bộ bài phân tích từ xử lý dữ liệu thô chiếm khá nhiều thời gian đến việc phân tích bề mặt và đi vào khá chuyên sâu ở file báo cáo chúng tôi cũng có sử dụng một số trường dữ liệu cho là quan trọng để dự đoán dự báo và gợi ý khách hàng mua laptop theo phân khúc phù hợp\n",
    "\n",
    "Kết quả mô hình gợi ý mua hàng khi khách điền thông tin có thể đưa ra phân khúc giá phù hợp chúng tôi đề cập ở trên 6 phân khúc từ cao đến thấp"
   ]
  },
  {
   "cell_type": "code",
   "execution_count": null,
   "id": "5a2677c4",
   "metadata": {},
   "outputs": [],
   "source": []
  }
 ],
 "metadata": {
  "colab": {
   "collapsed_sections": [
    "e2cb435f",
    "9e656c2f",
    "ddba9056",
    "5ebbb858",
    "20c735ff",
    "54e006ec",
    "5b6a1861",
    "bc31d32c"
   ],
   "name": "Titans-dulieuphantichvaxuly.ipynb",
   "provenance": []
  },
  "kernelspec": {
   "display_name": "Python 3",
   "language": "python",
   "name": "python3"
  },
  "language_info": {
   "codemirror_mode": {
    "name": "ipython",
    "version": 3
   },
   "file_extension": ".py",
   "mimetype": "text/x-python",
   "name": "python",
   "nbconvert_exporter": "python",
   "pygments_lexer": "ipython3",
   "version": "3.8.11"
  }
 },
 "nbformat": 4,
 "nbformat_minor": 5
}
